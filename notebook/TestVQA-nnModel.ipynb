{
 "cells": [
  {
   "cell_type": "markdown",
   "metadata": {},
   "source": [
    "## Network"
   ]
  },
  {
   "cell_type": "code",
   "execution_count": null,
   "metadata": {
    "collapsed": true
   },
   "outputs": [],
   "source": [
    "import torch.nn as nn\n",
    "import torch.nn.utils.rnn as rnn_utils\n",
    "import torch.nn.functional as F\n",
    "import torchvision.models as models"
   ]
  },
  {
   "cell_type": "code",
   "execution_count": null,
   "metadata": {},
   "outputs": [],
   "source": [
    "class ImageEmbedding(nn.Module):\n",
    "    def __init__(self,image_ftrs, pretrained = True): \n",
    "        super(ImageEmbedding, self).__init__()\n",
    "        self.resnet = models.resnet152(pretrained=True)\n",
    "        num_ftrs = self.resnet.fc.in_features #output 1000 from the resnet to be input to take the fc from the resnet output from doc\n",
    "        self.resnet.fc = nn.Linear(num_ftrs, hidden_size) #numcls - is our own output classes\n",
    "    \n",
    "    def forward(self, image):\n",
    "        image = self.resnet(image)    \n",
    "        return image\n",
    "    "
   ]
  },
  {
   "cell_type": "code",
   "execution_count": null,
   "metadata": {
    "collapsed": true
   },
   "outputs": [],
   "source": [
    "class QnsEmbedding(nn.Module):\n",
    "    def __init__(self,input_size, question_ftrs, num_layers, batch_first = True):\n",
    "        super(QnsEmbedding, self).__init__()\n",
    "        self.lstm = nn.LSTM(input_size, question_ftrs, num_layers, batch_first = batch_first)\n",
    "        \n",
    "    def forward (self, inputs, cache):\n",
    "        output, (hn, cn) = self.lstm(inputs, cache)\n",
    "        return hn, cn\n",
    "        "
   ]
  },
  {
   "cell_type": "code",
   "execution_count": null,
   "metadata": {
    "collapsed": true
   },
   "outputs": [],
   "source": [
    "#concat two models\n",
    "class ConcatNet(nn.Module):\n",
    "    def __init__(self):\n",
    "        self.img_channel = ImageEmbedding(image_ftrs, pretrained = True)\n",
    "        self.qns_channel = QnsEmbedding(input_size, question_ftrs, num_layers, batch_first = True)\n",
    "        \n",
    "        self.all = nn.Sequential(nn.Linear(numcl, 1024), \n",
    "                                nn.ReLU(), \n",
    "                                nn.Linear(1024, 3000), \n",
    "                                nn.Softmax(dim = 0))\n",
    "#         self.fc1 = nn.Linear(numcl, 1024) \n",
    "#         self.relu = nn.ReLU()\n",
    "#         self.fc2 = nn.Linear(1024, 3000)\n",
    "#         self.softmax = nn.Softmax(dim = 0)\n",
    "        \n",
    "    def forward(self, image, questions):\n",
    "        image_embed = self.img_channel(image) #returns tensor\n",
    "        questions_embed = self.qns_channel(questions)\n",
    "        added = torch.cat(image_embed,questions_embed)\n",
    "        output = self.all(added)\n",
    "        return output"
   ]
  }
 ],
 "metadata": {
  "kernelspec": {
   "display_name": "Python [conda env:AI_Proj]",
   "language": "python",
   "name": "conda-env-AI_Proj-py"
  },
  "language_info": {
   "codemirror_mode": {
    "name": "ipython",
    "version": 3
   },
   "file_extension": ".py",
   "mimetype": "text/x-python",
   "name": "python",
   "nbconvert_exporter": "python",
   "pygments_lexer": "ipython3",
   "version": "3.6.5"
  },
  "toc": {
   "base_numbering": 1,
   "nav_menu": {},
   "number_sections": false,
   "sideBar": true,
   "skip_h1_title": false,
   "title_cell": "Table of Contents",
   "title_sidebar": "Contents",
   "toc_cell": false,
   "toc_position": {},
   "toc_section_display": true,
   "toc_window_display": false
  }
 },
 "nbformat": 4,
 "nbformat_minor": 2
}
