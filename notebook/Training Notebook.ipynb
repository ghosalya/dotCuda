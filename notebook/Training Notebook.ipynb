{
 "cells": [
  {
   "cell_type": "markdown",
   "metadata": {},
   "source": [
    "# Training Session"
   ]
  },
  {
   "cell_type": "code",
   "execution_count": 1,
   "metadata": {
    "ExecuteTime": {
     "end_time": "2018-07-12T16:13:17.193500Z",
     "start_time": "2018-07-12T16:13:17.190703Z"
    }
   },
   "outputs": [],
   "source": [
    "import pickle\n",
    "\n",
    "from build_vocab import *\n",
    "from build_answers import *\n"
   ]
  },
  {
   "cell_type": "code",
   "execution_count": 2,
   "metadata": {
    "ExecuteTime": {
     "end_time": "2018-07-12T16:13:18.372968Z",
     "start_time": "2018-07-12T16:13:18.361250Z"
    }
   },
   "outputs": [],
   "source": [
    "# train2014\n",
    "answers_path = '/home/ubuntu/dotCuda/notebook/answers.pkl'\n",
    "with open(answers_path, 'rb') as f:\n",
    "    answers = pickle.load(f)\n",
    "\n",
    "vocab_path = '../../dotCuda/notebook/vocab.pkl'\n",
    "with open(vocab_path, 'rb') as f:\n",
    "    vocab = pickle.load(f)\n",
    "    \n",
    "# val2014\n",
    "answers_path = '/home/ubuntu/dotCuda/notebook/valanswers.pkl'\n",
    "with open(answers_path, 'rb') as f:\n",
    "    valanswers = pickle.load(f)\n",
    "\n",
    "vocab_path = '../../dotCuda/notebook/valvocab.pkl'\n",
    "with open(vocab_path, 'rb') as f:\n",
    "    valvocab = pickle.load(f)"
   ]
  },
  {
   "cell_type": "code",
   "execution_count": 3,
   "metadata": {
    "ExecuteTime": {
     "end_time": "2018-07-12T16:13:43.511609Z",
     "start_time": "2018-07-12T16:13:20.347389Z"
    }
   },
   "outputs": [
    {
     "name": "stdout",
     "output_type": "stream",
     "text": [
      "loading VQA annotations and questions into memory...\n",
      "0:00:09.533576\n",
      "creating index...\n",
      "index created!\n",
      "loading VQA annotations and questions into memory...\n",
      "0:00:10.181387\n",
      "creating index...\n",
      "index created!\n"
     ]
    }
   ],
   "source": [
    "from dataset import *\n",
    "\n",
    "train_dataset = COCODataset(vocab=vocab, answers=answers)\n",
    "val_dataset = COCODataset(vocab=valvocab, answers=valanswers)"
   ]
  },
  {
   "cell_type": "markdown",
   "metadata": {
    "ExecuteTime": {
     "end_time": "2018-07-10T12:30:16.457121Z",
     "start_time": "2018-07-10T12:30:16.454260Z"
    }
   },
   "source": [
    "### Network Model"
   ]
  },
  {
   "cell_type": "code",
   "execution_count": 4,
   "metadata": {
    "ExecuteTime": {
     "end_time": "2018-07-12T16:13:48.091307Z",
     "start_time": "2018-07-12T16:13:48.088658Z"
    }
   },
   "outputs": [],
   "source": [
    "# import network \n",
    "from network_v5b import *"
   ]
  },
  {
   "cell_type": "code",
   "execution_count": 5,
   "metadata": {
    "ExecuteTime": {
     "end_time": "2018-07-12T05:45:35.415973Z",
     "start_time": "2018-07-12T05:45:29.726499Z"
    }
   },
   "outputs": [],
   "source": [
    "import torch\n",
    "device = torch.device('cuda')\n",
    "\n",
    "vocab_size = len(vocab)\n",
    "model = ConcatNet(vocab_size).to(device)\n"
   ]
  },
  {
   "cell_type": "markdown",
   "metadata": {},
   "source": [
    "### Trainer Class"
   ]
  },
  {
   "cell_type": "code",
   "execution_count": 6,
   "metadata": {
    "ExecuteTime": {
     "end_time": "2018-07-12T05:45:55.903263Z",
     "start_time": "2018-07-12T05:45:55.738516Z"
    }
   },
   "outputs": [],
   "source": [
    "# import trainer\n",
    "from trainer import VQATrainer\n",
    "\n",
    "trainer = VQATrainer(model, device)"
   ]
  },
  {
   "cell_type": "markdown",
   "metadata": {},
   "source": [
    "### Train!"
   ]
  },
  {
   "cell_type": "code",
   "execution_count": 7,
   "metadata": {
    "ExecuteTime": {
     "end_time": "2018-07-12T05:49:20.716832Z",
     "start_time": "2018-07-12T05:45:57.382002Z"
    }
   },
   "outputs": [
    {
     "name": "stdout",
     "output_type": "stream",
     "text": [
      "Epoch 0 of 100\n",
      "  Training...\n",
      "   >> Epoch finished with loss 8.00637 and accuracy 0.000 in 0.7335s\n",
      "  Validating...\n"
     ]
    },
    {
     "name": "stderr",
     "output_type": "stream",
     "text": [
      "Exception ignored in: <bound method _DataLoaderIter.__del__ of <torch.utils.data.dataloader._DataLoaderIter object at 0x7fb0622a4f28>>\n",
      "Traceback (most recent call last):\n",
      "  File \"/home/ubuntu/virtuals/pytorch-cu90-0.4.0/lib/python3.5/site-packages/torch/utils/data/dataloader.py\", line 349, in __del__\n",
      "    self._shutdown_workers()\n",
      "  File \"/home/ubuntu/virtuals/pytorch-cu90-0.4.0/lib/python3.5/site-packages/torch/utils/data/dataloader.py\", line 328, in _shutdown_workers\n",
      "    self.worker_result_queue.get()\n",
      "  File \"/usr/lib/python3.5/multiprocessing/queues.py\", line 345, in get\n",
      "    return ForkingPickler.loads(res)\n",
      "  File \"/home/ubuntu/virtuals/pytorch-cu90-0.4.0/lib/python3.5/site-packages/torch/multiprocessing/reductions.py\", line 70, in rebuild_storage_fd\n",
      "    fd = df.detach()\n",
      "  File \"/usr/lib/python3.5/multiprocessing/resource_sharer.py\", line 58, in detach\n",
      "    return reduction.recv_handle(conn)\n",
      "  File \"/usr/lib/python3.5/multiprocessing/reduction.py\", line 181, in recv_handle\n",
      "    return recvfds(s, 1)[0]\n",
      "  File \"/usr/lib/python3.5/multiprocessing/reduction.py\", line 152, in recvfds\n",
      "    msg, ancdata, flags, addr = sock.recvmsg(1, socket.CMSG_LEN(bytes_size))\n",
      "ConnectionResetError: [Errno 104] Connection reset by peer\n"
     ]
    },
    {
     "name": "stdout",
     "output_type": "stream",
     "text": [
      "   >> Epoch finished with loss 8.00694 and accuracy 0.000 in 0.6977s\n",
      "Epoch 1 of 100\n",
      "  Training...\n",
      "   >> Epoch finished with loss 7.88194 and accuracy 0.000 in 0.6122s443302684e-06]\n",
      "  Validating...\n",
      "   >> Epoch finished with loss 8.00694 and accuracy 0.000 in 0.9564s\n",
      "Epoch 2 of 100\n",
      "  Training...\n",
      "   >> Epoch finished with loss 7.88194 and accuracy 0.000 in 1.0234s443302684e-06]\n",
      "  Validating...\n",
      "   >> Epoch finished with loss 8.00694 and accuracy 0.000 in 0.9907s\n",
      "Epoch 3 of 100\n",
      "  Training...\n",
      "   >> Epoch finished with loss 7.88194 and accuracy 0.000 in 0.9401s443302684e-06]\n",
      "  Validating...\n",
      "   >> Epoch finished with loss 6.00521 and accuracy 0.000 in 0.9917s\n",
      "Epoch 4 of 100\n",
      "  Training...\n",
      "   >> Epoch finished with loss 7.88194 and accuracy 0.000 in 1.0094s443302684e-06]\n",
      "  Validating...\n",
      "   >> Epoch finished with loss 8.00694 and accuracy 0.000 in 1.0380s\n",
      "Epoch 5 of 100\n",
      "  Training...\n",
      "   >> Epoch finished with loss 7.88194 and accuracy 0.000 in 0.9355s443302684e-06]\n",
      "  Validating...\n",
      "   >> Epoch finished with loss 7.00607 and accuracy 0.000 in 0.8784s\n",
      "Epoch 6 of 100\n",
      "  Training...\n",
      "   >> Epoch finished with loss 7.88194 and accuracy 0.000 in 0.9974s443302684e-06]\n",
      "  Validating...\n",
      "   >> Epoch finished with loss 8.00694 and accuracy 0.000 in 1.0465s\n",
      "Epoch 7 of 100\n",
      "  Training...\n",
      "   >> Epoch finished with loss 7.88194 and accuracy 0.000 in 0.9474s443302684e-06]\n",
      "  Validating...\n",
      "   >> Epoch finished with loss 8.00694 and accuracy 0.000 in 1.0097s\n",
      "Epoch 8 of 100\n",
      "  Training...\n"
     ]
    },
    {
     "name": "stderr",
     "output_type": "stream",
     "text": [
      "Exception ignored in: <bound method _DataLoaderIter.__del__ of <torch.utils.data.dataloader._DataLoaderIter object at 0x7fb0622a4f60>>\n",
      "Traceback (most recent call last):\n",
      "  File \"/home/ubuntu/virtuals/pytorch-cu90-0.4.0/lib/python3.5/site-packages/torch/utils/data/dataloader.py\", line 349, in __del__\n",
      "    self._shutdown_workers()\n",
      "  File \"/home/ubuntu/virtuals/pytorch-cu90-0.4.0/lib/python3.5/site-packages/torch/utils/data/dataloader.py\", line 328, in _shutdown_workers\n",
      "    self.worker_result_queue.get()\n",
      "  File \"/usr/lib/python3.5/multiprocessing/queues.py\", line 345, in get\n",
      "    return ForkingPickler.loads(res)\n",
      "  File \"/home/ubuntu/virtuals/pytorch-cu90-0.4.0/lib/python3.5/site-packages/torch/multiprocessing/reductions.py\", line 70, in rebuild_storage_fd\n",
      "    fd = df.detach()\n",
      "  File \"/usr/lib/python3.5/multiprocessing/resource_sharer.py\", line 58, in detach\n",
      "    return reduction.recv_handle(conn)\n",
      "  File \"/usr/lib/python3.5/multiprocessing/reduction.py\", line 181, in recv_handle\n",
      "    return recvfds(s, 1)[0]\n",
      "  File \"/usr/lib/python3.5/multiprocessing/reduction.py\", line 152, in recvfds\n",
      "    msg, ancdata, flags, addr = sock.recvmsg(1, socket.CMSG_LEN(bytes_size))\n",
      "ConnectionResetError: [Errno 104] Connection reset by peer\n"
     ]
    },
    {
     "name": "stdout",
     "output_type": "stream",
     "text": [
      "   >> Epoch finished with loss 7.88194 and accuracy 0.000 in 0.8199s443302684e-06]\n",
      "  Validating...\n",
      "   >> Epoch finished with loss 8.00694 and accuracy 0.000 in 1.0375s\n",
      "Epoch 9 of 100\n",
      "  Training...\n",
      "   >> Epoch finished with loss 7.88194 and accuracy 0.000 in 0.9276s443302684e-06]\n",
      "  Validating...\n",
      "   >> Epoch finished with loss 8.00694 and accuracy 0.000 in 0.8734s\n",
      "Epoch 10 of 100\n",
      "  Training...\n"
     ]
    },
    {
     "name": "stderr",
     "output_type": "stream",
     "text": [
      "Exception ignored in: <bound method _DataLoaderIter.__del__ of <torch.utils.data.dataloader._DataLoaderIter object at 0x7fb128227780>>\n",
      "Traceback (most recent call last):\n",
      "  File \"/home/ubuntu/virtuals/pytorch-cu90-0.4.0/lib/python3.5/site-packages/torch/utils/data/dataloader.py\", line 349, in __del__\n",
      "    self._shutdown_workers()\n",
      "  File \"/home/ubuntu/virtuals/pytorch-cu90-0.4.0/lib/python3.5/site-packages/torch/utils/data/dataloader.py\", line 328, in _shutdown_workers\n",
      "    self.worker_result_queue.get()\n",
      "  File \"/usr/lib/python3.5/multiprocessing/queues.py\", line 345, in get\n",
      "    return ForkingPickler.loads(res)\n",
      "  File \"/home/ubuntu/virtuals/pytorch-cu90-0.4.0/lib/python3.5/site-packages/torch/multiprocessing/reductions.py\", line 70, in rebuild_storage_fd\n",
      "    fd = df.detach()\n",
      "  File \"/usr/lib/python3.5/multiprocessing/resource_sharer.py\", line 58, in detach\n",
      "    return reduction.recv_handle(conn)\n",
      "  File \"/usr/lib/python3.5/multiprocessing/reduction.py\", line 181, in recv_handle\n",
      "    return recvfds(s, 1)[0]\n",
      "  File \"/usr/lib/python3.5/multiprocessing/reduction.py\", line 152, in recvfds\n",
      "    msg, ancdata, flags, addr = sock.recvmsg(1, socket.CMSG_LEN(bytes_size))\n",
      "ConnectionResetError: [Errno 104] Connection reset by peer\n"
     ]
    },
    {
     "name": "stdout",
     "output_type": "stream",
     "text": [
      "   >> Epoch finished with loss 7.88194 and accuracy 0.000 in 0.7497s443302684e-06]\n",
      "  Validating...\n",
      "   >> Epoch finished with loss 8.00694 and accuracy 0.000 in 0.8472s\n",
      "Epoch 11 of 100\n",
      "  Training...\n",
      "   >> Epoch finished with loss 7.88194 and accuracy 0.000 in 0.9159s443302684e-06]\n",
      "  Validating...\n",
      "   >> Epoch finished with loss 7.00607 and accuracy 0.000 in 1.0161s\n",
      "Epoch 12 of 100\n",
      "  Training...\n",
      "   >> Epoch finished with loss 7.88194 and accuracy 0.000 in 0.9308s443302684e-06]\n",
      "  Validating...\n",
      "   >> Epoch finished with loss 8.00694 and accuracy 0.000 in 0.8806s\n",
      "Epoch 13 of 100\n",
      "  Training...\n",
      "   >> Epoch finished with loss 7.88194 and accuracy 0.000 in 0.9956s443302684e-06]\n",
      "  Validating...\n",
      "   >> Epoch finished with loss 6.00521 and accuracy 0.000 in 0.8727s\n",
      "Epoch 14 of 100\n",
      "  Training...\n",
      "   >> Epoch finished with loss 7.88194 and accuracy 0.000 in 1.0099s443302684e-06]\n",
      "  Validating...\n",
      "   >> Epoch finished with loss 8.00694 and accuracy 0.000 in 0.8684s\n",
      "Epoch 15 of 100\n",
      "  Training...\n",
      "   >> Epoch finished with loss 7.88194 and accuracy 0.000 in 1.0050s443302684e-06]\n",
      "  Validating...\n",
      "   >> Epoch finished with loss 8.00694 and accuracy 0.000 in 0.8675s\n",
      "Epoch 16 of 100\n",
      "  Training...\n",
      "   >> Epoch finished with loss 7.88194 and accuracy 0.000 in 0.8430s443302684e-06]\n",
      "  Validating...\n",
      "   >> Epoch finished with loss 8.00694 and accuracy 0.000 in 0.8554s\n",
      "Epoch 17 of 100\n",
      "  Training...\n",
      "   >> Epoch finished with loss 7.88194 and accuracy 0.000 in 0.9296s443302684e-06]\n",
      "  Validating...\n",
      "   >> Epoch finished with loss 8.00694 and accuracy 0.000 in 0.9033s\n",
      "Epoch 18 of 100\n",
      "  Training...\n"
     ]
    },
    {
     "name": "stderr",
     "output_type": "stream",
     "text": [
      "Exception ignored in: <bound method _DataLoaderIter.__del__ of <torch.utils.data.dataloader._DataLoaderIter object at 0x7fb128227780>>\n",
      "Traceback (most recent call last):\n",
      "  File \"/home/ubuntu/virtuals/pytorch-cu90-0.4.0/lib/python3.5/site-packages/torch/utils/data/dataloader.py\", line 349, in __del__\n",
      "    self._shutdown_workers()\n",
      "  File \"/home/ubuntu/virtuals/pytorch-cu90-0.4.0/lib/python3.5/site-packages/torch/utils/data/dataloader.py\", line 328, in _shutdown_workers\n",
      "    self.worker_result_queue.get()\n",
      "  File \"/usr/lib/python3.5/multiprocessing/queues.py\", line 345, in get\n",
      "    return ForkingPickler.loads(res)\n",
      "  File \"/home/ubuntu/virtuals/pytorch-cu90-0.4.0/lib/python3.5/site-packages/torch/multiprocessing/reductions.py\", line 70, in rebuild_storage_fd\n",
      "    fd = df.detach()\n",
      "  File \"/usr/lib/python3.5/multiprocessing/resource_sharer.py\", line 57, in detach\n",
      "    with _resource_sharer.get_connection(self._id) as conn:\n",
      "  File \"/usr/lib/python3.5/multiprocessing/resource_sharer.py\", line 87, in get_connection\n",
      "    c = Client(address, authkey=process.current_process().authkey)\n",
      "  File \"/usr/lib/python3.5/multiprocessing/connection.py\", line 494, in Client\n",
      "    deliver_challenge(c, authkey)\n",
      "  File \"/usr/lib/python3.5/multiprocessing/connection.py\", line 722, in deliver_challenge\n",
      "    response = connection.recv_bytes(256)        # reject large message\n",
      "  File \"/usr/lib/python3.5/multiprocessing/connection.py\", line 216, in recv_bytes\n",
      "    buf = self._recv_bytes(maxlength)\n",
      "  File \"/usr/lib/python3.5/multiprocessing/connection.py\", line 407, in _recv_bytes\n",
      "    buf = self._recv(4)\n",
      "  File \"/usr/lib/python3.5/multiprocessing/connection.py\", line 379, in _recv\n",
      "    chunk = read(handle, remaining)\n",
      "ConnectionResetError: [Errno 104] Connection reset by peer\n"
     ]
    },
    {
     "name": "stdout",
     "output_type": "stream",
     "text": [
      "   >> Epoch finished with loss 7.88194 and accuracy 0.000 in 0.7571s443302684e-06]\n",
      "  Validating...\n",
      "   >> Epoch finished with loss 8.00694 and accuracy 0.000 in 0.8984s\n",
      "Epoch 19 of 100\n",
      "  Training...\n"
     ]
    },
    {
     "name": "stderr",
     "output_type": "stream",
     "text": [
      "Exception ignored in: <bound method _DataLoaderIter.__del__ of <torch.utils.data.dataloader._DataLoaderIter object at 0x7fb128227780>>\n",
      "Traceback (most recent call last):\n",
      "  File \"/home/ubuntu/virtuals/pytorch-cu90-0.4.0/lib/python3.5/site-packages/torch/utils/data/dataloader.py\", line 349, in __del__\n",
      "    self._shutdown_workers()\n",
      "  File \"/home/ubuntu/virtuals/pytorch-cu90-0.4.0/lib/python3.5/site-packages/torch/utils/data/dataloader.py\", line 328, in _shutdown_workers\n",
      "    self.worker_result_queue.get()\n",
      "  File \"/usr/lib/python3.5/multiprocessing/queues.py\", line 345, in get\n",
      "    return ForkingPickler.loads(res)\n",
      "  File \"/home/ubuntu/virtuals/pytorch-cu90-0.4.0/lib/python3.5/site-packages/torch/multiprocessing/reductions.py\", line 70, in rebuild_storage_fd\n",
      "    fd = df.detach()\n",
      "  File \"/usr/lib/python3.5/multiprocessing/resource_sharer.py\", line 57, in detach\n",
      "    with _resource_sharer.get_connection(self._id) as conn:\n",
      "  File \"/usr/lib/python3.5/multiprocessing/resource_sharer.py\", line 87, in get_connection\n",
      "    c = Client(address, authkey=process.current_process().authkey)\n",
      "  File \"/usr/lib/python3.5/multiprocessing/connection.py\", line 493, in Client\n",
      "    answer_challenge(c, authkey)\n",
      "  File \"/usr/lib/python3.5/multiprocessing/connection.py\", line 737, in answer_challenge\n",
      "    response = connection.recv_bytes(256)        # reject large message\n",
      "  File \"/usr/lib/python3.5/multiprocessing/connection.py\", line 216, in recv_bytes\n",
      "    buf = self._recv_bytes(maxlength)\n",
      "  File \"/usr/lib/python3.5/multiprocessing/connection.py\", line 407, in _recv_bytes\n",
      "    buf = self._recv(4)\n",
      "  File \"/usr/lib/python3.5/multiprocessing/connection.py\", line 379, in _recv\n",
      "    chunk = read(handle, remaining)\n",
      "ConnectionResetError: [Errno 104] Connection reset by peer\n"
     ]
    },
    {
     "name": "stdout",
     "output_type": "stream",
     "text": [
      "   >> Epoch finished with loss 7.88194 and accuracy 0.000 in 0.7682s443302684e-06]\n",
      "  Validating...\n",
      "   >> Epoch finished with loss 6.00521 and accuracy 0.000 in 1.0212s\n",
      "Epoch 20 of 100\n",
      "  Training...\n"
     ]
    },
    {
     "name": "stderr",
     "output_type": "stream",
     "text": [
      "Exception ignored in: <bound method _DataLoaderIter.__del__ of <torch.utils.data.dataloader._DataLoaderIter object at 0x7fb0604425c0>>\n",
      "Traceback (most recent call last):\n",
      "  File \"/home/ubuntu/virtuals/pytorch-cu90-0.4.0/lib/python3.5/site-packages/torch/utils/data/dataloader.py\", line 349, in __del__\n",
      "    self._shutdown_workers()\n",
      "  File \"/home/ubuntu/virtuals/pytorch-cu90-0.4.0/lib/python3.5/site-packages/torch/utils/data/dataloader.py\", line 328, in _shutdown_workers\n",
      "    self.worker_result_queue.get()\n",
      "  File \"/usr/lib/python3.5/multiprocessing/queues.py\", line 345, in get\n",
      "    return ForkingPickler.loads(res)\n",
      "  File \"/home/ubuntu/virtuals/pytorch-cu90-0.4.0/lib/python3.5/site-packages/torch/multiprocessing/reductions.py\", line 70, in rebuild_storage_fd\n",
      "    fd = df.detach()\n",
      "  File \"/usr/lib/python3.5/multiprocessing/resource_sharer.py\", line 57, in detach\n",
      "    with _resource_sharer.get_connection(self._id) as conn:\n",
      "  File \"/usr/lib/python3.5/multiprocessing/resource_sharer.py\", line 87, in get_connection\n",
      "    c = Client(address, authkey=process.current_process().authkey)\n",
      "  File \"/usr/lib/python3.5/multiprocessing/connection.py\", line 493, in Client\n",
      "    answer_challenge(c, authkey)\n",
      "  File \"/usr/lib/python3.5/multiprocessing/connection.py\", line 737, in answer_challenge\n",
      "    response = connection.recv_bytes(256)        # reject large message\n",
      "  File \"/usr/lib/python3.5/multiprocessing/connection.py\", line 216, in recv_bytes\n",
      "    buf = self._recv_bytes(maxlength)\n",
      "  File \"/usr/lib/python3.5/multiprocessing/connection.py\", line 407, in _recv_bytes\n",
      "    buf = self._recv(4)\n",
      "  File \"/usr/lib/python3.5/multiprocessing/connection.py\", line 379, in _recv\n",
      "    chunk = read(handle, remaining)\n",
      "ConnectionResetError: [Errno 104] Connection reset by peer\n"
     ]
    },
    {
     "name": "stdout",
     "output_type": "stream",
     "text": [
      "   >> Epoch finished with loss 7.88194 and accuracy 0.000 in 0.7974s443302684e-06]\n",
      "  Validating...\n",
      "   >> Epoch finished with loss 7.00607 and accuracy 0.000 in 0.9629s\n",
      "Epoch 21 of 100\n",
      "  Training...\n"
     ]
    },
    {
     "name": "stderr",
     "output_type": "stream",
     "text": [
      "Exception ignored in: <bound method _DataLoaderIter.__del__ of <torch.utils.data.dataloader._DataLoaderIter object at 0x7fb060446710>>\n",
      "Traceback (most recent call last):\n",
      "  File \"/home/ubuntu/virtuals/pytorch-cu90-0.4.0/lib/python3.5/site-packages/torch/utils/data/dataloader.py\", line 349, in __del__\n",
      "    self._shutdown_workers()\n",
      "  File \"/home/ubuntu/virtuals/pytorch-cu90-0.4.0/lib/python3.5/site-packages/torch/utils/data/dataloader.py\", line 328, in _shutdown_workers\n",
      "    self.worker_result_queue.get()\n",
      "  File \"/usr/lib/python3.5/multiprocessing/queues.py\", line 345, in get\n",
      "    return ForkingPickler.loads(res)\n",
      "  File \"/home/ubuntu/virtuals/pytorch-cu90-0.4.0/lib/python3.5/site-packages/torch/multiprocessing/reductions.py\", line 70, in rebuild_storage_fd\n",
      "    fd = df.detach()\n",
      "  File \"/usr/lib/python3.5/multiprocessing/resource_sharer.py\", line 57, in detach\n",
      "    with _resource_sharer.get_connection(self._id) as conn:\n",
      "  File \"/usr/lib/python3.5/multiprocessing/resource_sharer.py\", line 87, in get_connection\n",
      "    c = Client(address, authkey=process.current_process().authkey)\n",
      "  File \"/usr/lib/python3.5/multiprocessing/connection.py\", line 493, in Client\n",
      "    answer_challenge(c, authkey)\n",
      "  File \"/usr/lib/python3.5/multiprocessing/connection.py\", line 732, in answer_challenge\n",
      "    message = connection.recv_bytes(256)         # reject large message\n",
      "  File \"/usr/lib/python3.5/multiprocessing/connection.py\", line 216, in recv_bytes\n",
      "    buf = self._recv_bytes(maxlength)\n",
      "  File \"/usr/lib/python3.5/multiprocessing/connection.py\", line 407, in _recv_bytes\n",
      "    buf = self._recv(4)\n",
      "  File \"/usr/lib/python3.5/multiprocessing/connection.py\", line 383, in _recv\n",
      "    raise EOFError\n",
      "EOFError: \n"
     ]
    },
    {
     "name": "stdout",
     "output_type": "stream",
     "text": [
      "    ....iteration 1/55470   [loss 7.881940841674805 || acc 2.2534703443302684e-06]\r",
      "   >> Epoch finished with loss 7.88194 and accuracy 0.000 in 0.7765s\n",
      "  Validating...\n"
     ]
    },
    {
     "name": "stderr",
     "output_type": "stream",
     "text": [
      "Exception ignored in: <bound method _DataLoaderIter.__del__ of <torch.utils.data.dataloader._DataLoaderIter object at 0x7fb062206898>>\n",
      "Traceback (most recent call last):\n",
      "  File \"/home/ubuntu/virtuals/pytorch-cu90-0.4.0/lib/python3.5/site-packages/torch/utils/data/dataloader.py\", line 349, in __del__\n",
      "    self._shutdown_workers()\n",
      "  File \"/home/ubuntu/virtuals/pytorch-cu90-0.4.0/lib/python3.5/site-packages/torch/utils/data/dataloader.py\", line 328, in _shutdown_workers\n",
      "    self.worker_result_queue.get()\n",
      "  File \"/usr/lib/python3.5/multiprocessing/queues.py\", line 345, in get\n",
      "    return ForkingPickler.loads(res)\n",
      "  File \"/home/ubuntu/virtuals/pytorch-cu90-0.4.0/lib/python3.5/site-packages/torch/multiprocessing/reductions.py\", line 70, in rebuild_storage_fd\n",
      "    fd = df.detach()\n",
      "  File \"/usr/lib/python3.5/multiprocessing/resource_sharer.py\", line 57, in detach\n",
      "    with _resource_sharer.get_connection(self._id) as conn:\n",
      "  File \"/usr/lib/python3.5/multiprocessing/resource_sharer.py\", line 87, in get_connection\n",
      "    c = Client(address, authkey=process.current_process().authkey)\n",
      "  File \"/usr/lib/python3.5/multiprocessing/connection.py\", line 493, in Client\n",
      "    answer_challenge(c, authkey)\n",
      "  File \"/usr/lib/python3.5/multiprocessing/connection.py\", line 732, in answer_challenge\n",
      "    message = connection.recv_bytes(256)         # reject large message\n",
      "  File \"/usr/lib/python3.5/multiprocessing/connection.py\", line 216, in recv_bytes\n",
      "    buf = self._recv_bytes(maxlength)\n",
      "  File \"/usr/lib/python3.5/multiprocessing/connection.py\", line 407, in _recv_bytes\n",
      "    buf = self._recv(4)\n",
      "  File \"/usr/lib/python3.5/multiprocessing/connection.py\", line 383, in _recv\n",
      "    raise EOFError\n",
      "EOFError: \n"
     ]
    },
    {
     "name": "stdout",
     "output_type": "stream",
     "text": [
      "    ....iteration 1/55470   [loss 8.006941795349121 || acc 0.0]\r",
      "   >> Epoch finished with loss 8.00694 and accuracy 0.000 in 0.8616s\n",
      "Epoch 22 of 100\n",
      "  Training...\n"
     ]
    },
    {
     "name": "stderr",
     "output_type": "stream",
     "text": [
      "Exception ignored in: <bound method _DataLoaderIter.__del__ of <torch.utils.data.dataloader._DataLoaderIter object at 0x7fb0604429e8>>\n",
      "Traceback (most recent call last):\n",
      "  File \"/home/ubuntu/virtuals/pytorch-cu90-0.4.0/lib/python3.5/site-packages/torch/utils/data/dataloader.py\", line 349, in __del__\n",
      "    self._shutdown_workers()\n",
      "  File \"/home/ubuntu/virtuals/pytorch-cu90-0.4.0/lib/python3.5/site-packages/torch/utils/data/dataloader.py\", line 328, in _shutdown_workers\n",
      "    self.worker_result_queue.get()\n",
      "  File \"/usr/lib/python3.5/multiprocessing/queues.py\", line 345, in get\n",
      "    return ForkingPickler.loads(res)\n",
      "  File \"/home/ubuntu/virtuals/pytorch-cu90-0.4.0/lib/python3.5/site-packages/torch/multiprocessing/reductions.py\", line 70, in rebuild_storage_fd\n",
      "    fd = df.detach()\n",
      "  File \"/usr/lib/python3.5/multiprocessing/resource_sharer.py\", line 57, in detach\n",
      "    with _resource_sharer.get_connection(self._id) as conn:\n",
      "  File \"/usr/lib/python3.5/multiprocessing/resource_sharer.py\", line 87, in get_connection\n",
      "    c = Client(address, authkey=process.current_process().authkey)\n",
      "  File \"/usr/lib/python3.5/multiprocessing/connection.py\", line 493, in Client\n",
      "    answer_challenge(c, authkey)\n",
      "  File \"/usr/lib/python3.5/multiprocessing/connection.py\", line 737, in answer_challenge\n",
      "    response = connection.recv_bytes(256)        # reject large message\n",
      "  File \"/usr/lib/python3.5/multiprocessing/connection.py\", line 216, in recv_bytes\n",
      "    buf = self._recv_bytes(maxlength)\n",
      "  File \"/usr/lib/python3.5/multiprocessing/connection.py\", line 407, in _recv_bytes\n",
      "    buf = self._recv(4)\n",
      "  File \"/usr/lib/python3.5/multiprocessing/connection.py\", line 379, in _recv\n",
      "    chunk = read(handle, remaining)\n",
      "ConnectionResetError: [Errno 104] Connection reset by peer\n"
     ]
    },
    {
     "name": "stdout",
     "output_type": "stream",
     "text": [
      "   >> Epoch finished with loss 7.88194 and accuracy 0.000 in 0.5954s443302684e-06]\n",
      "  Validating...\n",
      "   >> Epoch finished with loss 6.00521 and accuracy 0.000 in 0.8634s\n",
      "Epoch 23 of 100\n",
      "  Training...\n",
      "   >> Epoch finished with loss 7.88194 and accuracy 0.000 in 1.0297s443302684e-06]\n",
      "  Validating...\n",
      "   >> Epoch finished with loss 7.00607 and accuracy 0.000 in 1.0124s\n",
      "Epoch 24 of 100\n",
      "  Training...\n",
      "   >> Epoch finished with loss 7.88194 and accuracy 0.000 in 1.0247s443302684e-06]\n",
      "  Validating...\n",
      "   >> Epoch finished with loss 7.00607 and accuracy 0.000 in 1.0099s\n",
      "Epoch 25 of 100\n",
      "  Training...\n"
     ]
    },
    {
     "name": "stderr",
     "output_type": "stream",
     "text": [
      "Exception ignored in: <bound method _DataLoaderIter.__del__ of <torch.utils.data.dataloader._DataLoaderIter object at 0x7fb128227780>>\n",
      "Traceback (most recent call last):\n",
      "  File \"/home/ubuntu/virtuals/pytorch-cu90-0.4.0/lib/python3.5/site-packages/torch/utils/data/dataloader.py\", line 349, in __del__\n",
      "    self._shutdown_workers()\n",
      "  File \"/home/ubuntu/virtuals/pytorch-cu90-0.4.0/lib/python3.5/site-packages/torch/utils/data/dataloader.py\", line 328, in _shutdown_workers\n",
      "    self.worker_result_queue.get()\n",
      "  File \"/usr/lib/python3.5/multiprocessing/queues.py\", line 345, in get\n",
      "    return ForkingPickler.loads(res)\n",
      "  File \"/home/ubuntu/virtuals/pytorch-cu90-0.4.0/lib/python3.5/site-packages/torch/multiprocessing/reductions.py\", line 70, in rebuild_storage_fd\n",
      "    fd = df.detach()\n",
      "  File \"/usr/lib/python3.5/multiprocessing/resource_sharer.py\", line 57, in detach\n",
      "    with _resource_sharer.get_connection(self._id) as conn:\n",
      "  File \"/usr/lib/python3.5/multiprocessing/resource_sharer.py\", line 87, in get_connection\n",
      "    c = Client(address, authkey=process.current_process().authkey)\n",
      "  File \"/usr/lib/python3.5/multiprocessing/connection.py\", line 493, in Client\n",
      "    answer_challenge(c, authkey)\n",
      "  File \"/usr/lib/python3.5/multiprocessing/connection.py\", line 737, in answer_challenge\n",
      "    response = connection.recv_bytes(256)        # reject large message\n",
      "  File \"/usr/lib/python3.5/multiprocessing/connection.py\", line 216, in recv_bytes\n",
      "    buf = self._recv_bytes(maxlength)\n",
      "  File \"/usr/lib/python3.5/multiprocessing/connection.py\", line 407, in _recv_bytes\n",
      "    buf = self._recv(4)\n",
      "  File \"/usr/lib/python3.5/multiprocessing/connection.py\", line 379, in _recv\n",
      "    chunk = read(handle, remaining)\n",
      "ConnectionResetError: [Errno 104] Connection reset by peer\n"
     ]
    },
    {
     "name": "stdout",
     "output_type": "stream",
     "text": [
      "   >> Epoch finished with loss 7.88194 and accuracy 0.000 in 0.7769s443302684e-06]\n",
      "  Validating...\n",
      "   >> Epoch finished with loss 6.00521 and accuracy 0.000 in 0.8625s\n",
      "Epoch 26 of 100\n",
      "  Training...\n",
      "   >> Epoch finished with loss 7.88194 and accuracy 0.000 in 1.0195s443302684e-06]\n",
      "  Validating...\n",
      "   >> Epoch finished with loss 8.00694 and accuracy 0.000 in 0.8638s\n",
      "Epoch 27 of 100\n",
      "  Training...\n",
      "   >> Epoch finished with loss 7.88194 and accuracy 0.000 in 0.9578s443302684e-06]\n",
      "  Validating...\n",
      "   >> Epoch finished with loss 8.00694 and accuracy 0.000 in 0.8787s\n",
      "Epoch 28 of 100\n",
      "  Training...\n",
      "   >> Epoch finished with loss 7.88194 and accuracy 0.000 in 0.9540s443302684e-06]\n",
      "  Validating...\n",
      "   >> Epoch finished with loss 8.00694 and accuracy 0.000 in 0.8534s\n",
      "Epoch 29 of 100\n",
      "  Training...\n",
      "   >> Epoch finished with loss 7.88194 and accuracy 0.000 in 1.0281s443302684e-06]\n",
      "  Validating...\n",
      "   >> Epoch finished with loss 8.00694 and accuracy 0.000 in 1.0582s\n",
      "Epoch 30 of 100\n",
      "  Training...\n",
      "   >> Epoch finished with loss 7.88194 and accuracy 0.000 in 0.9103s443302684e-06]\n",
      "  Validating...\n",
      "   >> Epoch finished with loss 8.00694 and accuracy 0.000 in 0.8795s\n",
      "Epoch 31 of 100\n",
      "  Training...\n",
      "   >> Epoch finished with loss 7.88194 and accuracy 0.000 in 0.8455s443302684e-06]\n",
      "  Validating...\n",
      "   >> Epoch finished with loss 8.00694 and accuracy 0.000 in 0.9947s\n",
      "Epoch 32 of 100\n",
      "  Training...\n",
      "   >> Epoch finished with loss 7.88194 and accuracy 0.000 in 0.9596s443302684e-06]\n",
      "  Validating...\n",
      "   >> Epoch finished with loss 8.00694 and accuracy 0.000 in 1.0345s\n",
      "Epoch 33 of 100\n",
      "  Training...\n"
     ]
    },
    {
     "name": "stderr",
     "output_type": "stream",
     "text": [
      "Exception ignored in: <bound method _DataLoaderIter.__del__ of <torch.utils.data.dataloader._DataLoaderIter object at 0x7fb128227780>>\n",
      "Traceback (most recent call last):\n",
      "  File \"/home/ubuntu/virtuals/pytorch-cu90-0.4.0/lib/python3.5/site-packages/torch/utils/data/dataloader.py\", line 349, in __del__\n",
      "    self._shutdown_workers()\n",
      "  File \"/home/ubuntu/virtuals/pytorch-cu90-0.4.0/lib/python3.5/site-packages/torch/utils/data/dataloader.py\", line 328, in _shutdown_workers\n",
      "    self.worker_result_queue.get()\n",
      "  File \"/usr/lib/python3.5/multiprocessing/queues.py\", line 345, in get\n",
      "    return ForkingPickler.loads(res)\n",
      "  File \"/home/ubuntu/virtuals/pytorch-cu90-0.4.0/lib/python3.5/site-packages/torch/multiprocessing/reductions.py\", line 70, in rebuild_storage_fd\n",
      "    fd = df.detach()\n",
      "  File \"/usr/lib/python3.5/multiprocessing/resource_sharer.py\", line 57, in detach\n",
      "    with _resource_sharer.get_connection(self._id) as conn:\n",
      "  File \"/usr/lib/python3.5/multiprocessing/resource_sharer.py\", line 87, in get_connection\n",
      "    c = Client(address, authkey=process.current_process().authkey)\n",
      "  File \"/usr/lib/python3.5/multiprocessing/connection.py\", line 493, in Client\n",
      "    answer_challenge(c, authkey)\n",
      "  File \"/usr/lib/python3.5/multiprocessing/connection.py\", line 737, in answer_challenge\n",
      "    response = connection.recv_bytes(256)        # reject large message\n",
      "  File \"/usr/lib/python3.5/multiprocessing/connection.py\", line 216, in recv_bytes\n",
      "    buf = self._recv_bytes(maxlength)\n",
      "  File \"/usr/lib/python3.5/multiprocessing/connection.py\", line 407, in _recv_bytes\n",
      "    buf = self._recv(4)\n",
      "  File \"/usr/lib/python3.5/multiprocessing/connection.py\", line 379, in _recv\n",
      "    chunk = read(handle, remaining)\n",
      "ConnectionResetError: [Errno 104] Connection reset by peer\n"
     ]
    },
    {
     "name": "stdout",
     "output_type": "stream",
     "text": [
      "   >> Epoch finished with loss 7.88194 and accuracy 0.000 in 0.7510s443302684e-06]\n",
      "  Validating...\n",
      "   >> Epoch finished with loss 8.00694 and accuracy 0.000 in 0.8958s\n",
      "Epoch 34 of 100\n",
      "  Training...\n",
      "   >> Epoch finished with loss 7.88194 and accuracy 0.000 in 0.9233s443302684e-06]\n",
      "  Validating...\n",
      "   >> Epoch finished with loss 8.00694 and accuracy 0.000 in 0.8808s\n",
      "Epoch 35 of 100\n",
      "  Training...\n",
      "   >> Epoch finished with loss 7.88194 and accuracy 0.000 in 0.9069s443302684e-06]\n",
      "  Validating...\n",
      "   >> Epoch finished with loss 8.00694 and accuracy 0.000 in 0.8571s\n",
      "Epoch 36 of 100\n",
      "  Training...\n",
      "   >> Epoch finished with loss 7.88194 and accuracy 0.000 in 0.7974s443302684e-06]\n",
      "  Validating...\n",
      "   >> Epoch finished with loss 8.00694 and accuracy 0.000 in 0.8824s\n",
      "Epoch 37 of 100\n",
      "  Training...\n"
     ]
    },
    {
     "name": "stderr",
     "output_type": "stream",
     "text": [
      "Exception ignored in: <bound method _DataLoaderIter.__del__ of <torch.utils.data.dataloader._DataLoaderIter object at 0x7fb128227780>>\n",
      "Traceback (most recent call last):\n",
      "  File \"/home/ubuntu/virtuals/pytorch-cu90-0.4.0/lib/python3.5/site-packages/torch/utils/data/dataloader.py\", line 349, in __del__\n",
      "    self._shutdown_workers()\n",
      "  File \"/home/ubuntu/virtuals/pytorch-cu90-0.4.0/lib/python3.5/site-packages/torch/utils/data/dataloader.py\", line 328, in _shutdown_workers\n",
      "    self.worker_result_queue.get()\n",
      "  File \"/usr/lib/python3.5/multiprocessing/queues.py\", line 345, in get\n",
      "    return ForkingPickler.loads(res)\n",
      "  File \"/home/ubuntu/virtuals/pytorch-cu90-0.4.0/lib/python3.5/site-packages/torch/multiprocessing/reductions.py\", line 70, in rebuild_storage_fd\n",
      "    fd = df.detach()\n",
      "  File \"/usr/lib/python3.5/multiprocessing/resource_sharer.py\", line 58, in detach\n",
      "    return reduction.recv_handle(conn)\n",
      "  File \"/usr/lib/python3.5/multiprocessing/reduction.py\", line 181, in recv_handle\n",
      "    return recvfds(s, 1)[0]\n",
      "  File \"/usr/lib/python3.5/multiprocessing/reduction.py\", line 152, in recvfds\n",
      "    msg, ancdata, flags, addr = sock.recvmsg(1, socket.CMSG_LEN(bytes_size))\n",
      "ConnectionResetError: [Errno 104] Connection reset by peer\n"
     ]
    },
    {
     "name": "stdout",
     "output_type": "stream",
     "text": [
      "   >> Epoch finished with loss 7.88194 and accuracy 0.000 in 0.7474s443302684e-06]\n",
      "  Validating...\n",
      "   >> Epoch finished with loss 8.00694 and accuracy 0.000 in 0.8542s\n",
      "Epoch 38 of 100\n",
      "  Training...\n",
      "   >> Epoch finished with loss 7.88194 and accuracy 0.000 in 0.8395s443302684e-06]\n",
      "  Validating...\n",
      "   >> Epoch finished with loss 8.00694 and accuracy 0.000 in 0.8948s\n",
      "Epoch 39 of 100\n",
      "  Training...\n",
      "   >> Epoch finished with loss 7.88194 and accuracy 0.000 in 0.9437s443302684e-06]\n",
      "  Validating...\n",
      "   >> Epoch finished with loss 7.00607 and accuracy 0.000 in 0.9966s\n",
      "Epoch 40 of 100\n",
      "  Training...\n"
     ]
    },
    {
     "name": "stderr",
     "output_type": "stream",
     "text": [
      "Exception ignored in: <bound method _DataLoaderIter.__del__ of <torch.utils.data.dataloader._DataLoaderIter object at 0x7fb128227780>>\n",
      "Traceback (most recent call last):\n",
      "  File \"/home/ubuntu/virtuals/pytorch-cu90-0.4.0/lib/python3.5/site-packages/torch/utils/data/dataloader.py\", line 349, in __del__\n",
      "    self._shutdown_workers()\n",
      "  File \"/home/ubuntu/virtuals/pytorch-cu90-0.4.0/lib/python3.5/site-packages/torch/utils/data/dataloader.py\", line 328, in _shutdown_workers\n",
      "    self.worker_result_queue.get()\n",
      "  File \"/usr/lib/python3.5/multiprocessing/queues.py\", line 345, in get\n",
      "    return ForkingPickler.loads(res)\n",
      "  File \"/home/ubuntu/virtuals/pytorch-cu90-0.4.0/lib/python3.5/site-packages/torch/multiprocessing/reductions.py\", line 70, in rebuild_storage_fd\n",
      "    fd = df.detach()\n",
      "  File \"/usr/lib/python3.5/multiprocessing/resource_sharer.py\", line 57, in detach\n",
      "    with _resource_sharer.get_connection(self._id) as conn:\n",
      "  File \"/usr/lib/python3.5/multiprocessing/resource_sharer.py\", line 87, in get_connection\n",
      "    c = Client(address, authkey=process.current_process().authkey)\n",
      "  File \"/usr/lib/python3.5/multiprocessing/connection.py\", line 493, in Client\n",
      "    answer_challenge(c, authkey)\n",
      "  File \"/usr/lib/python3.5/multiprocessing/connection.py\", line 737, in answer_challenge\n",
      "    response = connection.recv_bytes(256)        # reject large message\n",
      "  File \"/usr/lib/python3.5/multiprocessing/connection.py\", line 216, in recv_bytes\n",
      "    buf = self._recv_bytes(maxlength)\n",
      "  File \"/usr/lib/python3.5/multiprocessing/connection.py\", line 407, in _recv_bytes\n",
      "    buf = self._recv(4)\n",
      "  File \"/usr/lib/python3.5/multiprocessing/connection.py\", line 379, in _recv\n",
      "    chunk = read(handle, remaining)\n",
      "ConnectionResetError: [Errno 104] Connection reset by peer\n"
     ]
    },
    {
     "name": "stdout",
     "output_type": "stream",
     "text": [
      "   >> Epoch finished with loss 7.88194 and accuracy 0.000 in 0.8822s443302684e-06]\n",
      "  Validating...\n",
      "   >> Epoch finished with loss 8.00694 and accuracy 0.000 in 0.8753s\n",
      "Epoch 41 of 100\n",
      "  Training...\n",
      "   >> Epoch finished with loss 7.88194 and accuracy 0.000 in 0.8279s443302684e-06]\n",
      "  Validating...\n",
      "   >> Epoch finished with loss 8.00694 and accuracy 0.000 in 0.9716s\n",
      "Epoch 42 of 100\n",
      "  Training...\n",
      "   >> Epoch finished with loss 7.88194 and accuracy 0.000 in 0.9311s443302684e-06]\n",
      "  Validating...\n",
      "   >> Epoch finished with loss 7.00607 and accuracy 0.000 in 0.8696s\n",
      "Epoch 43 of 100\n",
      "  Training...\n",
      "   >> Epoch finished with loss 7.88194 and accuracy 0.000 in 0.7977s443302684e-06]\n",
      "  Validating...\n",
      "   >> Epoch finished with loss 8.00694 and accuracy 0.000 in 0.9886s\n",
      "Epoch 44 of 100\n",
      "  Training...\n"
     ]
    },
    {
     "name": "stderr",
     "output_type": "stream",
     "text": [
      "Exception ignored in: <bound method _DataLoaderIter.__del__ of <torch.utils.data.dataloader._DataLoaderIter object at 0x7fb128227780>>\n",
      "Traceback (most recent call last):\n",
      "  File \"/home/ubuntu/virtuals/pytorch-cu90-0.4.0/lib/python3.5/site-packages/torch/utils/data/dataloader.py\", line 349, in __del__\n",
      "    self._shutdown_workers()\n",
      "  File \"/home/ubuntu/virtuals/pytorch-cu90-0.4.0/lib/python3.5/site-packages/torch/utils/data/dataloader.py\", line 328, in _shutdown_workers\n",
      "    self.worker_result_queue.get()\n",
      "  File \"/usr/lib/python3.5/multiprocessing/queues.py\", line 345, in get\n",
      "    return ForkingPickler.loads(res)\n",
      "  File \"/home/ubuntu/virtuals/pytorch-cu90-0.4.0/lib/python3.5/site-packages/torch/multiprocessing/reductions.py\", line 70, in rebuild_storage_fd\n",
      "    fd = df.detach()\n",
      "  File \"/usr/lib/python3.5/multiprocessing/resource_sharer.py\", line 57, in detach\n",
      "    with _resource_sharer.get_connection(self._id) as conn:\n",
      "  File \"/usr/lib/python3.5/multiprocessing/resource_sharer.py\", line 87, in get_connection\n",
      "    c = Client(address, authkey=process.current_process().authkey)\n",
      "  File \"/usr/lib/python3.5/multiprocessing/connection.py\", line 493, in Client\n",
      "    answer_challenge(c, authkey)\n",
      "  File \"/usr/lib/python3.5/multiprocessing/connection.py\", line 737, in answer_challenge\n",
      "    response = connection.recv_bytes(256)        # reject large message\n",
      "  File \"/usr/lib/python3.5/multiprocessing/connection.py\", line 216, in recv_bytes\n",
      "    buf = self._recv_bytes(maxlength)\n",
      "  File \"/usr/lib/python3.5/multiprocessing/connection.py\", line 407, in _recv_bytes\n",
      "    buf = self._recv(4)\n",
      "  File \"/usr/lib/python3.5/multiprocessing/connection.py\", line 379, in _recv\n",
      "    chunk = read(handle, remaining)\n",
      "ConnectionResetError: [Errno 104] Connection reset by peer\n"
     ]
    },
    {
     "name": "stdout",
     "output_type": "stream",
     "text": [
      "   >> Epoch finished with loss 7.88194 and accuracy 0.000 in 0.8009s443302684e-06]\n",
      "  Validating...\n",
      "   >> Epoch finished with loss 8.00694 and accuracy 0.000 in 0.8708s\n",
      "Epoch 45 of 100\n",
      "  Training...\n",
      "   >> Epoch finished with loss 7.88194 and accuracy 0.000 in 0.8847s443302684e-06]\n",
      "  Validating...\n",
      "   >> Epoch finished with loss 6.00521 and accuracy 0.000 in 0.8820s\n",
      "Epoch 46 of 100\n",
      "  Training...\n",
      "   >> Epoch finished with loss 7.88194 and accuracy 0.000 in 0.9933s443302684e-06]\n",
      "  Validating...\n",
      "   >> Epoch finished with loss 8.00694 and accuracy 0.000 in 0.8891s\n",
      "Epoch 47 of 100\n",
      "  Training...\n"
     ]
    },
    {
     "name": "stderr",
     "output_type": "stream",
     "text": [
      "Exception ignored in: <bound method _DataLoaderIter.__del__ of <torch.utils.data.dataloader._DataLoaderIter object at 0x7fb128227780>>\n",
      "Traceback (most recent call last):\n",
      "  File \"/home/ubuntu/virtuals/pytorch-cu90-0.4.0/lib/python3.5/site-packages/torch/utils/data/dataloader.py\", line 349, in __del__\n",
      "    self._shutdown_workers()\n",
      "  File \"/home/ubuntu/virtuals/pytorch-cu90-0.4.0/lib/python3.5/site-packages/torch/utils/data/dataloader.py\", line 328, in _shutdown_workers\n",
      "    self.worker_result_queue.get()\n",
      "  File \"/usr/lib/python3.5/multiprocessing/queues.py\", line 345, in get\n",
      "    return ForkingPickler.loads(res)\n",
      "  File \"/home/ubuntu/virtuals/pytorch-cu90-0.4.0/lib/python3.5/site-packages/torch/multiprocessing/reductions.py\", line 70, in rebuild_storage_fd\n",
      "    fd = df.detach()\n",
      "  File \"/usr/lib/python3.5/multiprocessing/resource_sharer.py\", line 57, in detach\n",
      "    with _resource_sharer.get_connection(self._id) as conn:\n",
      "  File \"/usr/lib/python3.5/multiprocessing/resource_sharer.py\", line 87, in get_connection\n",
      "    c = Client(address, authkey=process.current_process().authkey)\n",
      "  File \"/usr/lib/python3.5/multiprocessing/connection.py\", line 493, in Client\n",
      "    answer_challenge(c, authkey)\n",
      "  File \"/usr/lib/python3.5/multiprocessing/connection.py\", line 737, in answer_challenge\n",
      "    response = connection.recv_bytes(256)        # reject large message\n",
      "  File \"/usr/lib/python3.5/multiprocessing/connection.py\", line 216, in recv_bytes\n",
      "    buf = self._recv_bytes(maxlength)\n",
      "  File \"/usr/lib/python3.5/multiprocessing/connection.py\", line 407, in _recv_bytes\n",
      "    buf = self._recv(4)\n",
      "  File \"/usr/lib/python3.5/multiprocessing/connection.py\", line 379, in _recv\n",
      "    chunk = read(handle, remaining)\n",
      "ConnectionResetError: [Errno 104] Connection reset by peer\n"
     ]
    },
    {
     "name": "stdout",
     "output_type": "stream",
     "text": [
      "   >> Epoch finished with loss 7.88194 and accuracy 0.000 in 0.7476s443302684e-06]\n",
      "  Validating...\n",
      "   >> Epoch finished with loss 8.00694 and accuracy 0.000 in 0.8359s\n",
      "Epoch 48 of 100\n",
      "  Training...\n"
     ]
    },
    {
     "name": "stderr",
     "output_type": "stream",
     "text": [
      "Exception ignored in: <bound method _DataLoaderIter.__del__ of <torch.utils.data.dataloader._DataLoaderIter object at 0x7fb128227780>>\n",
      "Traceback (most recent call last):\n",
      "  File \"/home/ubuntu/virtuals/pytorch-cu90-0.4.0/lib/python3.5/site-packages/torch/utils/data/dataloader.py\", line 349, in __del__\n",
      "    self._shutdown_workers()\n",
      "  File \"/home/ubuntu/virtuals/pytorch-cu90-0.4.0/lib/python3.5/site-packages/torch/utils/data/dataloader.py\", line 328, in _shutdown_workers\n",
      "    self.worker_result_queue.get()\n",
      "  File \"/usr/lib/python3.5/multiprocessing/queues.py\", line 345, in get\n",
      "    return ForkingPickler.loads(res)\n",
      "  File \"/home/ubuntu/virtuals/pytorch-cu90-0.4.0/lib/python3.5/site-packages/torch/multiprocessing/reductions.py\", line 70, in rebuild_storage_fd\n",
      "    fd = df.detach()\n",
      "  File \"/usr/lib/python3.5/multiprocessing/resource_sharer.py\", line 57, in detach\n",
      "    with _resource_sharer.get_connection(self._id) as conn:\n",
      "  File \"/usr/lib/python3.5/multiprocessing/resource_sharer.py\", line 87, in get_connection\n",
      "    c = Client(address, authkey=process.current_process().authkey)\n",
      "  File \"/usr/lib/python3.5/multiprocessing/connection.py\", line 493, in Client\n",
      "    answer_challenge(c, authkey)\n",
      "  File \"/usr/lib/python3.5/multiprocessing/connection.py\", line 737, in answer_challenge\n",
      "    response = connection.recv_bytes(256)        # reject large message\n",
      "  File \"/usr/lib/python3.5/multiprocessing/connection.py\", line 216, in recv_bytes\n",
      "    buf = self._recv_bytes(maxlength)\n",
      "  File \"/usr/lib/python3.5/multiprocessing/connection.py\", line 407, in _recv_bytes\n",
      "    buf = self._recv(4)\n",
      "  File \"/usr/lib/python3.5/multiprocessing/connection.py\", line 379, in _recv\n",
      "    chunk = read(handle, remaining)\n",
      "ConnectionResetError: [Errno 104] Connection reset by peer\n"
     ]
    },
    {
     "name": "stdout",
     "output_type": "stream",
     "text": [
      "   >> Epoch finished with loss 7.88194 and accuracy 0.000 in 0.7570s443302684e-06]\n",
      "  Validating...\n",
      "   >> Epoch finished with loss 8.00694 and accuracy 0.000 in 0.8728s\n",
      "Epoch 49 of 100\n",
      "  Training...\n",
      "   >> Epoch finished with loss 7.88194 and accuracy 0.000 in 0.9380s443302684e-06]\n",
      "  Validating...\n",
      "   >> Epoch finished with loss 8.00694 and accuracy 0.000 in 0.8481s\n",
      "Epoch 50 of 100\n",
      "  Training...\n",
      "   >> Epoch finished with loss 7.88194 and accuracy 0.000 in 0.9157s443302684e-06]\n",
      "  Validating...\n",
      "   >> Epoch finished with loss 7.00607 and accuracy 0.000 in 0.8754s\n",
      "Epoch 51 of 100\n",
      "  Training...\n",
      "   >> Epoch finished with loss 7.88194 and accuracy 0.000 in 0.6998s443302684e-06]\n",
      "  Validating...\n",
      "   >> Epoch finished with loss 8.00694 and accuracy 0.000 in 0.9004s\n",
      "Epoch 52 of 100\n",
      "  Training...\n",
      "   >> Epoch finished with loss 7.88194 and accuracy 0.000 in 0.9422s443302684e-06]\n",
      "  Validating...\n",
      "   >> Epoch finished with loss 8.00694 and accuracy 0.000 in 0.8811s\n",
      "Epoch 53 of 100\n",
      "  Training...\n",
      "   >> Epoch finished with loss 7.88194 and accuracy 0.000 in 0.7964s443302684e-06]\n",
      "  Validating...\n",
      "   >> Epoch finished with loss 8.00694 and accuracy 0.000 in 1.0063s\n",
      "Epoch 54 of 100\n",
      "  Training...\n"
     ]
    },
    {
     "name": "stderr",
     "output_type": "stream",
     "text": [
      "Exception ignored in: <bound method _DataLoaderIter.__del__ of <torch.utils.data.dataloader._DataLoaderIter object at 0x7fb0622a4f28>>\n",
      "Traceback (most recent call last):\n",
      "  File \"/home/ubuntu/virtuals/pytorch-cu90-0.4.0/lib/python3.5/site-packages/torch/utils/data/dataloader.py\", line 349, in __del__\n",
      "    self._shutdown_workers()\n",
      "  File \"/home/ubuntu/virtuals/pytorch-cu90-0.4.0/lib/python3.5/site-packages/torch/utils/data/dataloader.py\", line 328, in _shutdown_workers\n",
      "    self.worker_result_queue.get()\n",
      "  File \"/usr/lib/python3.5/multiprocessing/queues.py\", line 345, in get\n",
      "    return ForkingPickler.loads(res)\n",
      "  File \"/home/ubuntu/virtuals/pytorch-cu90-0.4.0/lib/python3.5/site-packages/torch/multiprocessing/reductions.py\", line 70, in rebuild_storage_fd\n",
      "    fd = df.detach()\n",
      "  File \"/usr/lib/python3.5/multiprocessing/resource_sharer.py\", line 58, in detach\n",
      "    return reduction.recv_handle(conn)\n",
      "  File \"/usr/lib/python3.5/multiprocessing/reduction.py\", line 181, in recv_handle\n",
      "    return recvfds(s, 1)[0]\n",
      "  File \"/usr/lib/python3.5/multiprocessing/reduction.py\", line 152, in recvfds\n",
      "    msg, ancdata, flags, addr = sock.recvmsg(1, socket.CMSG_LEN(bytes_size))\n",
      "ConnectionResetError: [Errno 104] Connection reset by peer\n"
     ]
    },
    {
     "name": "stdout",
     "output_type": "stream",
     "text": [
      "   >> Epoch finished with loss 7.88194 and accuracy 0.000 in 0.7305s443302684e-06]\n",
      "  Validating...\n",
      "   >> Epoch finished with loss 7.00607 and accuracy 0.000 in 0.8758s\n",
      "Epoch 55 of 100\n",
      "  Training...\n",
      "   >> Epoch finished with loss 7.88194 and accuracy 0.000 in 0.9655s443302684e-06]\n",
      "  Validating...\n",
      "   >> Epoch finished with loss 8.00694 and accuracy 0.000 in 1.0228s\n",
      "Epoch 56 of 100\n",
      "  Training...\n",
      "   >> Epoch finished with loss 7.88194 and accuracy 0.000 in 0.8449s443302684e-06]\n",
      "  Validating...\n",
      "   >> Epoch finished with loss 8.00694 and accuracy 0.000 in 0.9866s\n",
      "Epoch 57 of 100\n",
      "  Training...\n",
      "   >> Epoch finished with loss 7.88194 and accuracy 0.000 in 0.9646s443302684e-06]\n",
      "  Validating...\n",
      "   >> Epoch finished with loss 8.00694 and accuracy 0.000 in 0.8601s\n",
      "Epoch 58 of 100\n",
      "  Training...\n",
      "   >> Epoch finished with loss 7.88194 and accuracy 0.000 in 0.9237s443302684e-06]\n",
      "  Validating...\n",
      "   >> Epoch finished with loss 8.00694 and accuracy 0.000 in 1.0184s\n",
      "Epoch 59 of 100\n",
      "  Training...\n",
      "   >> Epoch finished with loss 7.88194 and accuracy 0.000 in 0.9155s443302684e-06]\n",
      "  Validating...\n",
      "   >> Epoch finished with loss 8.00694 and accuracy 0.000 in 0.8740s\n",
      "Epoch 60 of 100\n",
      "  Training...\n"
     ]
    },
    {
     "name": "stderr",
     "output_type": "stream",
     "text": [
      "Exception ignored in: <bound method _DataLoaderIter.__del__ of <torch.utils.data.dataloader._DataLoaderIter object at 0x7fb0622a4fd0>>\n",
      "Traceback (most recent call last):\n",
      "  File \"/home/ubuntu/virtuals/pytorch-cu90-0.4.0/lib/python3.5/site-packages/torch/utils/data/dataloader.py\", line 349, in __del__\n",
      "    self._shutdown_workers()\n",
      "  File \"/home/ubuntu/virtuals/pytorch-cu90-0.4.0/lib/python3.5/site-packages/torch/utils/data/dataloader.py\", line 328, in _shutdown_workers\n",
      "    self.worker_result_queue.get()\n",
      "  File \"/usr/lib/python3.5/multiprocessing/queues.py\", line 345, in get\n",
      "    return ForkingPickler.loads(res)\n",
      "  File \"/home/ubuntu/virtuals/pytorch-cu90-0.4.0/lib/python3.5/site-packages/torch/multiprocessing/reductions.py\", line 70, in rebuild_storage_fd\n",
      "    fd = df.detach()\n",
      "  File \"/usr/lib/python3.5/multiprocessing/resource_sharer.py\", line 57, in detach\n",
      "    with _resource_sharer.get_connection(self._id) as conn:\n",
      "  File \"/usr/lib/python3.5/multiprocessing/resource_sharer.py\", line 87, in get_connection\n",
      "    c = Client(address, authkey=process.current_process().authkey)\n",
      "  File \"/usr/lib/python3.5/multiprocessing/connection.py\", line 494, in Client\n",
      "    deliver_challenge(c, authkey)\n",
      "  File \"/usr/lib/python3.5/multiprocessing/connection.py\", line 722, in deliver_challenge\n",
      "    response = connection.recv_bytes(256)        # reject large message\n",
      "  File \"/usr/lib/python3.5/multiprocessing/connection.py\", line 216, in recv_bytes\n",
      "    buf = self._recv_bytes(maxlength)\n",
      "  File \"/usr/lib/python3.5/multiprocessing/connection.py\", line 407, in _recv_bytes\n",
      "    buf = self._recv(4)\n",
      "  File \"/usr/lib/python3.5/multiprocessing/connection.py\", line 379, in _recv\n",
      "    chunk = read(handle, remaining)\n",
      "ConnectionResetError: [Errno 104] Connection reset by peer\n"
     ]
    },
    {
     "name": "stdout",
     "output_type": "stream",
     "text": [
      "   >> Epoch finished with loss 7.88194 and accuracy 0.000 in 0.9130s443302684e-06]\n",
      "  Validating...\n",
      "   >> Epoch finished with loss 6.00521 and accuracy 0.000 in 1.0419s\n",
      "Epoch 61 of 100\n",
      "  Training...\n",
      "   >> Epoch finished with loss 7.88194 and accuracy 0.000 in 0.9410s443302684e-06]\n",
      "  Validating...\n",
      "   >> Epoch finished with loss 7.00607 and accuracy 0.000 in 0.8692s\n",
      "Epoch 62 of 100\n",
      "  Training...\n",
      "   >> Epoch finished with loss 7.88194 and accuracy 0.000 in 0.9097s443302684e-06]\n",
      "  Validating...\n",
      "   >> Epoch finished with loss 8.00694 and accuracy 0.000 in 0.8769s\n",
      "Epoch 63 of 100\n",
      "  Training...\n",
      "   >> Epoch finished with loss 7.88194 and accuracy 0.000 in 0.9276s443302684e-06]\n",
      "  Validating...\n",
      "   >> Epoch finished with loss 7.00607 and accuracy 0.000 in 0.8659s\n",
      "Epoch 64 of 100\n",
      "  Training...\n",
      "   >> Epoch finished with loss 7.88194 and accuracy 0.000 in 0.9551s443302684e-06]\n",
      "  Validating...\n",
      "   >> Epoch finished with loss 8.00694 and accuracy 0.000 in 1.0299s\n",
      "Epoch 65 of 100\n",
      "  Training...\n",
      "   >> Epoch finished with loss 7.88194 and accuracy 0.000 in 0.9532s443302684e-06]\n",
      "  Validating...\n",
      "   >> Epoch finished with loss 8.00694 and accuracy 0.000 in 0.8652s\n",
      "Epoch 66 of 100\n",
      "  Training...\n",
      "   >> Epoch finished with loss 7.88194 and accuracy 0.000 in 0.9321s443302684e-06]\n",
      "  Validating...\n",
      "   >> Epoch finished with loss 8.00694 and accuracy 0.000 in 0.8363s\n",
      "Epoch 67 of 100\n",
      "  Training...\n",
      "   >> Epoch finished with loss 7.88194 and accuracy 0.000 in 0.8585s443302684e-06]\n",
      "  Validating...\n",
      "   >> Epoch finished with loss 7.00607 and accuracy 0.000 in 0.8886s\n",
      "Epoch 68 of 100\n",
      "  Training...\n",
      "   >> Epoch finished with loss 7.88194 and accuracy 0.000 in 0.9695s443302684e-06]\n",
      "  Validating...\n",
      "   >> Epoch finished with loss 8.00694 and accuracy 0.000 in 1.0061s\n",
      "Epoch 69 of 100\n",
      "  Training...\n",
      "   >> Epoch finished with loss 7.88194 and accuracy 0.000 in 0.7899s443302684e-06]\n",
      "  Validating...\n",
      "   >> Epoch finished with loss 8.00694 and accuracy 0.000 in 0.8640s\n",
      "Epoch 70 of 100\n",
      "  Training...\n",
      "   >> Epoch finished with loss 7.88194 and accuracy 0.000 in 0.8043s443302684e-06]\n",
      "  Validating...\n",
      "   >> Epoch finished with loss 7.88194 and accuracy 0.000 in 1.0210s443302684e-06]\n",
      "Epoch 71 of 100\n",
      "  Training...\n"
     ]
    },
    {
     "name": "stderr",
     "output_type": "stream",
     "text": [
      "Exception ignored in: <bound method _DataLoaderIter.__del__ of <torch.utils.data.dataloader._DataLoaderIter object at 0x7fb0622a4f60>>\n",
      "Traceback (most recent call last):\n",
      "  File \"/home/ubuntu/virtuals/pytorch-cu90-0.4.0/lib/python3.5/site-packages/torch/utils/data/dataloader.py\", line 349, in __del__\n",
      "    self._shutdown_workers()\n",
      "  File \"/home/ubuntu/virtuals/pytorch-cu90-0.4.0/lib/python3.5/site-packages/torch/utils/data/dataloader.py\", line 328, in _shutdown_workers\n",
      "    self.worker_result_queue.get()\n",
      "  File \"/usr/lib/python3.5/multiprocessing/queues.py\", line 345, in get\n",
      "    return ForkingPickler.loads(res)\n",
      "  File \"/home/ubuntu/virtuals/pytorch-cu90-0.4.0/lib/python3.5/site-packages/torch/multiprocessing/reductions.py\", line 70, in rebuild_storage_fd\n",
      "    fd = df.detach()\n",
      "  File \"/usr/lib/python3.5/multiprocessing/resource_sharer.py\", line 57, in detach\n",
      "    with _resource_sharer.get_connection(self._id) as conn:\n",
      "  File \"/usr/lib/python3.5/multiprocessing/resource_sharer.py\", line 87, in get_connection\n",
      "    c = Client(address, authkey=process.current_process().authkey)\n",
      "  File \"/usr/lib/python3.5/multiprocessing/connection.py\", line 493, in Client\n",
      "    answer_challenge(c, authkey)\n",
      "  File \"/usr/lib/python3.5/multiprocessing/connection.py\", line 732, in answer_challenge\n",
      "    message = connection.recv_bytes(256)         # reject large message\n",
      "  File \"/usr/lib/python3.5/multiprocessing/connection.py\", line 216, in recv_bytes\n",
      "    buf = self._recv_bytes(maxlength)\n",
      "  File \"/usr/lib/python3.5/multiprocessing/connection.py\", line 407, in _recv_bytes\n",
      "    buf = self._recv(4)\n",
      "  File \"/usr/lib/python3.5/multiprocessing/connection.py\", line 383, in _recv\n",
      "    raise EOFError\n",
      "EOFError: \n"
     ]
    },
    {
     "name": "stdout",
     "output_type": "stream",
     "text": [
      "   >> Epoch finished with loss 7.88194 and accuracy 0.000 in 0.8210s443302684e-06]\n",
      "  Validating...\n",
      "   >> Epoch finished with loss 8.00694 and accuracy 0.000 in 1.0362s\n",
      "Epoch 72 of 100\n",
      "  Training...\n",
      "   >> Epoch finished with loss 7.88194 and accuracy 0.000 in 0.9703s443302684e-06]\n",
      "  Validating...\n",
      "   >> Epoch finished with loss 7.00607 and accuracy 0.000 in 0.8762s\n",
      "Epoch 73 of 100\n",
      "  Training...\n"
     ]
    },
    {
     "name": "stderr",
     "output_type": "stream",
     "text": [
      "Exception ignored in: <bound method _DataLoaderIter.__del__ of <torch.utils.data.dataloader._DataLoaderIter object at 0x7fb060442438>>\n",
      "Traceback (most recent call last):\n",
      "  File \"/home/ubuntu/virtuals/pytorch-cu90-0.4.0/lib/python3.5/site-packages/torch/utils/data/dataloader.py\", line 349, in __del__\n",
      "    self._shutdown_workers()\n",
      "  File \"/home/ubuntu/virtuals/pytorch-cu90-0.4.0/lib/python3.5/site-packages/torch/utils/data/dataloader.py\", line 328, in _shutdown_workers\n",
      "    self.worker_result_queue.get()\n",
      "  File \"/usr/lib/python3.5/multiprocessing/queues.py\", line 345, in get\n",
      "    return ForkingPickler.loads(res)\n",
      "  File \"/home/ubuntu/virtuals/pytorch-cu90-0.4.0/lib/python3.5/site-packages/torch/multiprocessing/reductions.py\", line 70, in rebuild_storage_fd\n",
      "    fd = df.detach()\n",
      "  File \"/usr/lib/python3.5/multiprocessing/resource_sharer.py\", line 58, in detach\n",
      "    return reduction.recv_handle(conn)\n",
      "  File \"/usr/lib/python3.5/multiprocessing/reduction.py\", line 181, in recv_handle\n",
      "    return recvfds(s, 1)[0]\n",
      "  File \"/usr/lib/python3.5/multiprocessing/reduction.py\", line 152, in recvfds\n",
      "    msg, ancdata, flags, addr = sock.recvmsg(1, socket.CMSG_LEN(bytes_size))\n",
      "ConnectionResetError: [Errno 104] Connection reset by peer\n"
     ]
    },
    {
     "name": "stdout",
     "output_type": "stream",
     "text": [
      "   >> Epoch finished with loss 7.88194 and accuracy 0.000 in 0.7627s443302684e-06]\n",
      "  Validating...\n",
      "   >> Epoch finished with loss 6.00521 and accuracy 0.000 in 0.8815s\n",
      "Epoch 74 of 100\n",
      "  Training...\n",
      "   >> Epoch finished with loss 7.88194 and accuracy 0.000 in 0.9559s443302684e-06]\n",
      "  Validating...\n",
      "   >> Epoch finished with loss 8.00694 and accuracy 0.000 in 0.8889s\n",
      "Epoch 75 of 100\n",
      "  Training...\n",
      "   >> Epoch finished with loss 7.88194 and accuracy 0.000 in 0.9597s443302684e-06]\n",
      "  Validating...\n",
      "   >> Epoch finished with loss 8.00694 and accuracy 0.000 in 0.8777s\n",
      "Epoch 76 of 100\n",
      "  Training...\n",
      "   >> Epoch finished with loss 7.88194 and accuracy 0.000 in 0.9096s443302684e-06]\n",
      "  Validating...\n",
      "   >> Epoch finished with loss 7.00607 and accuracy 0.000 in 0.8839s\n",
      "Epoch 77 of 100\n",
      "  Training...\n",
      "   >> Epoch finished with loss 7.88194 and accuracy 0.000 in 0.9417s443302684e-06]\n",
      "  Validating...\n",
      "   >> Epoch finished with loss 8.00694 and accuracy 0.000 in 0.8749s\n",
      "Epoch 78 of 100\n",
      "  Training...\n",
      "   >> Epoch finished with loss 7.88194 and accuracy 0.000 in 0.9563s443302684e-06]\n",
      "  Validating...\n",
      "   >> Epoch finished with loss 8.00694 and accuracy 0.000 in 1.0497s\n",
      "Epoch 79 of 100\n",
      "  Training...\n",
      "   >> Epoch finished with loss 7.88194 and accuracy 0.000 in 0.9128s443302684e-06]\n",
      "  Validating...\n",
      "   >> Epoch finished with loss 8.00694 and accuracy 0.000 in 0.8421s\n",
      "Epoch 80 of 100\n",
      "  Training...\n",
      "   >> Epoch finished with loss 7.88194 and accuracy 0.000 in 0.7767s443302684e-06]\n",
      "  Validating...\n",
      "   >> Epoch finished with loss 8.00694 and accuracy 0.000 in 1.0010s\n",
      "Epoch 81 of 100\n",
      "  Training...\n",
      "   >> Epoch finished with loss 7.88194 and accuracy 0.000 in 0.9961s443302684e-06]\n",
      "  Validating...\n",
      "   >> Epoch finished with loss 8.00694 and accuracy 0.000 in 0.9894s\n",
      "Epoch 82 of 100\n",
      "  Training...\n",
      "   >> Epoch finished with loss 7.88194 and accuracy 0.000 in 0.9899s443302684e-06]\n",
      "  Validating...\n",
      "   >> Epoch finished with loss 7.00607 and accuracy 0.000 in 1.0153s\n",
      "Epoch 83 of 100\n",
      "  Training...\n"
     ]
    },
    {
     "name": "stderr",
     "output_type": "stream",
     "text": [
      "Exception ignored in: <bound method _DataLoaderIter.__del__ of <torch.utils.data.dataloader._DataLoaderIter object at 0x7fb0622a4f28>>\n",
      "Traceback (most recent call last):\n",
      "  File \"/home/ubuntu/virtuals/pytorch-cu90-0.4.0/lib/python3.5/site-packages/torch/utils/data/dataloader.py\", line 349, in __del__\n",
      "    self._shutdown_workers()\n",
      "  File \"/home/ubuntu/virtuals/pytorch-cu90-0.4.0/lib/python3.5/site-packages/torch/utils/data/dataloader.py\", line 328, in _shutdown_workers\n",
      "    self.worker_result_queue.get()\n",
      "  File \"/usr/lib/python3.5/multiprocessing/queues.py\", line 345, in get\n",
      "    return ForkingPickler.loads(res)\n",
      "  File \"/home/ubuntu/virtuals/pytorch-cu90-0.4.0/lib/python3.5/site-packages/torch/multiprocessing/reductions.py\", line 70, in rebuild_storage_fd\n",
      "    fd = df.detach()\n",
      "  File \"/usr/lib/python3.5/multiprocessing/resource_sharer.py\", line 57, in detach\n",
      "    with _resource_sharer.get_connection(self._id) as conn:\n",
      "  File \"/usr/lib/python3.5/multiprocessing/resource_sharer.py\", line 87, in get_connection\n",
      "    c = Client(address, authkey=process.current_process().authkey)\n",
      "  File \"/usr/lib/python3.5/multiprocessing/connection.py\", line 493, in Client\n",
      "    answer_challenge(c, authkey)\n",
      "  File \"/usr/lib/python3.5/multiprocessing/connection.py\", line 737, in answer_challenge\n",
      "    response = connection.recv_bytes(256)        # reject large message\n",
      "  File \"/usr/lib/python3.5/multiprocessing/connection.py\", line 216, in recv_bytes\n",
      "    buf = self._recv_bytes(maxlength)\n",
      "  File \"/usr/lib/python3.5/multiprocessing/connection.py\", line 407, in _recv_bytes\n",
      "    buf = self._recv(4)\n",
      "  File \"/usr/lib/python3.5/multiprocessing/connection.py\", line 379, in _recv\n",
      "    chunk = read(handle, remaining)\n",
      "ConnectionResetError: [Errno 104] Connection reset by peer\n"
     ]
    },
    {
     "name": "stdout",
     "output_type": "stream",
     "text": [
      "   >> Epoch finished with loss 7.88194 and accuracy 0.000 in 0.7931s443302684e-06]\n",
      "  Validating...\n",
      "   >> Epoch finished with loss 8.00694 and accuracy 0.000 in 0.8930s\n",
      "Epoch 84 of 100\n",
      "  Training...\n",
      "   >> Epoch finished with loss 7.88194 and accuracy 0.000 in 0.9663s443302684e-06]\n",
      "  Validating...\n",
      "   >> Epoch finished with loss 8.00694 and accuracy 0.000 in 0.8780s\n",
      "Epoch 85 of 100\n",
      "  Training...\n",
      "   >> Epoch finished with loss 7.88194 and accuracy 0.000 in 1.0322s443302684e-06]\n",
      "  Validating...\n",
      "   >> Epoch finished with loss 8.00694 and accuracy 0.000 in 0.8799s\n",
      "Epoch 86 of 100\n",
      "  Training...\n",
      "   >> Epoch finished with loss 7.88194 and accuracy 0.000 in 1.0325s443302684e-06]\n",
      "  Validating...\n",
      "   >> Epoch finished with loss 6.88107 and accuracy 0.000 in 0.8649s443302684e-06]\n",
      "Epoch 87 of 100\n",
      "  Training...\n",
      "   >> Epoch finished with loss 7.88194 and accuracy 0.000 in 0.7822s443302684e-06]\n",
      "  Validating...\n",
      "   >> Epoch finished with loss 8.00694 and accuracy 0.000 in 0.8298s\n",
      "Epoch 88 of 100\n",
      "  Training...\n",
      "   >> Epoch finished with loss 7.88194 and accuracy 0.000 in 0.8753s443302684e-06]\n",
      "  Validating...\n",
      "   >> Epoch finished with loss 8.00694 and accuracy 0.000 in 0.8820s\n",
      "Epoch 89 of 100\n",
      "  Training...\n",
      "   >> Epoch finished with loss 7.88194 and accuracy 0.000 in 1.0049s443302684e-06]\n",
      "  Validating...\n",
      "   >> Epoch finished with loss 7.00607 and accuracy 0.000 in 1.0006s\n",
      "Epoch 90 of 100\n",
      "  Training...\n",
      "   >> Epoch finished with loss 7.88194 and accuracy 0.000 in 0.9307s443302684e-06]\n",
      "  Validating...\n",
      "   >> Epoch finished with loss 8.00694 and accuracy 0.000 in 0.8692s\n",
      "Epoch 91 of 100\n",
      "  Training...\n",
      "   >> Epoch finished with loss 7.88194 and accuracy 0.000 in 0.9379s443302684e-06]\n",
      "  Validating...\n",
      "   >> Epoch finished with loss 8.00694 and accuracy 0.000 in 1.0459s\n",
      "Epoch 92 of 100\n",
      "  Training...\n",
      "   >> Epoch finished with loss 7.88194 and accuracy 0.000 in 0.7781s443302684e-06]\n",
      "  Validating...\n",
      "   >> Epoch finished with loss 8.00694 and accuracy 0.000 in 0.8759s\n",
      "Epoch 93 of 100\n",
      "  Training...\n",
      "   >> Epoch finished with loss 7.88194 and accuracy 0.000 in 0.8074s443302684e-06]\n",
      "  Validating...\n",
      "   >> Epoch finished with loss 8.00694 and accuracy 0.000 in 0.8825s\n",
      "Epoch 94 of 100\n",
      "  Training...\n"
     ]
    },
    {
     "name": "stderr",
     "output_type": "stream",
     "text": [
      "Exception ignored in: <bound method _DataLoaderIter.__del__ of <torch.utils.data.dataloader._DataLoaderIter object at 0x7fb0604422e8>>\n",
      "Traceback (most recent call last):\n",
      "  File \"/home/ubuntu/virtuals/pytorch-cu90-0.4.0/lib/python3.5/site-packages/torch/utils/data/dataloader.py\", line 349, in __del__\n",
      "    self._shutdown_workers()\n",
      "  File \"/home/ubuntu/virtuals/pytorch-cu90-0.4.0/lib/python3.5/site-packages/torch/utils/data/dataloader.py\", line 328, in _shutdown_workers\n",
      "    self.worker_result_queue.get()\n",
      "  File \"/usr/lib/python3.5/multiprocessing/queues.py\", line 345, in get\n",
      "    return ForkingPickler.loads(res)\n",
      "  File \"/home/ubuntu/virtuals/pytorch-cu90-0.4.0/lib/python3.5/site-packages/torch/multiprocessing/reductions.py\", line 70, in rebuild_storage_fd\n",
      "    fd = df.detach()\n",
      "  File \"/usr/lib/python3.5/multiprocessing/resource_sharer.py\", line 57, in detach\n",
      "    with _resource_sharer.get_connection(self._id) as conn:\n",
      "  File \"/usr/lib/python3.5/multiprocessing/resource_sharer.py\", line 87, in get_connection\n",
      "    c = Client(address, authkey=process.current_process().authkey)\n",
      "  File \"/usr/lib/python3.5/multiprocessing/connection.py\", line 493, in Client\n",
      "    answer_challenge(c, authkey)\n",
      "  File \"/usr/lib/python3.5/multiprocessing/connection.py\", line 737, in answer_challenge\n",
      "    response = connection.recv_bytes(256)        # reject large message\n",
      "  File \"/usr/lib/python3.5/multiprocessing/connection.py\", line 216, in recv_bytes\n",
      "    buf = self._recv_bytes(maxlength)\n",
      "  File \"/usr/lib/python3.5/multiprocessing/connection.py\", line 407, in _recv_bytes\n",
      "    buf = self._recv(4)\n",
      "  File \"/usr/lib/python3.5/multiprocessing/connection.py\", line 379, in _recv\n",
      "    chunk = read(handle, remaining)\n",
      "ConnectionResetError: [Errno 104] Connection reset by peer\n"
     ]
    },
    {
     "name": "stdout",
     "output_type": "stream",
     "text": [
      "   >> Epoch finished with loss 7.88194 and accuracy 0.000 in 0.8091s443302684e-06]\n",
      "  Validating...\n",
      "   >> Epoch finished with loss 8.00694 and accuracy 0.000 in 1.0135s\n",
      "Epoch 95 of 100\n",
      "  Training...\n",
      "   >> Epoch finished with loss 7.88194 and accuracy 0.000 in 0.7797s443302684e-06]\n",
      "  Validating...\n",
      "   >> Epoch finished with loss 8.00694 and accuracy 0.000 in 0.8608s\n",
      "Epoch 96 of 100\n",
      "  Training...\n"
     ]
    },
    {
     "name": "stderr",
     "output_type": "stream",
     "text": [
      "Exception ignored in: <bound method _DataLoaderIter.__del__ of <torch.utils.data.dataloader._DataLoaderIter object at 0x7fb060442898>>\n",
      "Traceback (most recent call last):\n",
      "  File \"/home/ubuntu/virtuals/pytorch-cu90-0.4.0/lib/python3.5/site-packages/torch/utils/data/dataloader.py\", line 349, in __del__\n",
      "    self._shutdown_workers()\n",
      "  File \"/home/ubuntu/virtuals/pytorch-cu90-0.4.0/lib/python3.5/site-packages/torch/utils/data/dataloader.py\", line 328, in _shutdown_workers\n",
      "    self.worker_result_queue.get()\n",
      "  File \"/usr/lib/python3.5/multiprocessing/queues.py\", line 345, in get\n",
      "    return ForkingPickler.loads(res)\n",
      "  File \"/home/ubuntu/virtuals/pytorch-cu90-0.4.0/lib/python3.5/site-packages/torch/multiprocessing/reductions.py\", line 70, in rebuild_storage_fd\n",
      "    fd = df.detach()\n",
      "  File \"/usr/lib/python3.5/multiprocessing/resource_sharer.py\", line 58, in detach\n",
      "    return reduction.recv_handle(conn)\n",
      "  File \"/usr/lib/python3.5/multiprocessing/reduction.py\", line 181, in recv_handle\n",
      "    return recvfds(s, 1)[0]\n",
      "  File \"/usr/lib/python3.5/multiprocessing/reduction.py\", line 152, in recvfds\n",
      "    msg, ancdata, flags, addr = sock.recvmsg(1, socket.CMSG_LEN(bytes_size))\n",
      "ConnectionResetError: [Errno 104] Connection reset by peer\n"
     ]
    },
    {
     "name": "stdout",
     "output_type": "stream",
     "text": [
      "   >> Epoch finished with loss 7.88194 and accuracy 0.000 in 0.7888s443302684e-06]\n",
      "  Validating...\n",
      "   >> Epoch finished with loss 8.00694 and accuracy 0.000 in 0.8698s\n",
      "Epoch 97 of 100\n",
      "  Training...\n",
      "   >> Epoch finished with loss 7.88194 and accuracy 0.000 in 0.9603s443302684e-06]\n",
      "  Validating...\n"
     ]
    },
    {
     "name": "stderr",
     "output_type": "stream",
     "text": [
      "Exception ignored in: <bound method _DataLoaderIter.__del__ of <torch.utils.data.dataloader._DataLoaderIter object at 0x7faff1fc2320>>\n",
      "Traceback (most recent call last):\n",
      "  File \"/home/ubuntu/virtuals/pytorch-cu90-0.4.0/lib/python3.5/site-packages/torch/utils/data/dataloader.py\", line 349, in __del__\n",
      "    self._shutdown_workers()\n",
      "  File \"/home/ubuntu/virtuals/pytorch-cu90-0.4.0/lib/python3.5/site-packages/torch/utils/data/dataloader.py\", line 328, in _shutdown_workers\n",
      "    self.worker_result_queue.get()\n",
      "  File \"/usr/lib/python3.5/multiprocessing/queues.py\", line 345, in get\n",
      "    return ForkingPickler.loads(res)\n",
      "  File \"/home/ubuntu/virtuals/pytorch-cu90-0.4.0/lib/python3.5/site-packages/torch/multiprocessing/reductions.py\", line 70, in rebuild_storage_fd\n",
      "    fd = df.detach()\n",
      "  File \"/usr/lib/python3.5/multiprocessing/resource_sharer.py\", line 58, in detach\n",
      "    return reduction.recv_handle(conn)\n",
      "  File \"/usr/lib/python3.5/multiprocessing/reduction.py\", line 181, in recv_handle\n",
      "    return recvfds(s, 1)[0]\n",
      "  File \"/usr/lib/python3.5/multiprocessing/reduction.py\", line 152, in recvfds\n",
      "    msg, ancdata, flags, addr = sock.recvmsg(1, socket.CMSG_LEN(bytes_size))\n",
      "ConnectionResetError: [Errno 104] Connection reset by peer\n"
     ]
    },
    {
     "name": "stdout",
     "output_type": "stream",
     "text": [
      "   >> Epoch finished with loss 7.00607 and accuracy 0.000 in 0.8538s\n",
      "Epoch 98 of 100\n",
      "  Training...\n",
      "   >> Epoch finished with loss 7.88194 and accuracy 0.000 in 0.9344s443302684e-06]\n",
      "  Validating...\n",
      "   >> Epoch finished with loss 7.00607 and accuracy 0.000 in 1.0148s\n",
      "Epoch 99 of 100\n",
      "  Training...\n"
     ]
    },
    {
     "name": "stderr",
     "output_type": "stream",
     "text": [
      "Exception ignored in: <bound method _DataLoaderIter.__del__ of <torch.utils.data.dataloader._DataLoaderIter object at 0x7fb0622a4f60>>\n",
      "Traceback (most recent call last):\n",
      "  File \"/home/ubuntu/virtuals/pytorch-cu90-0.4.0/lib/python3.5/site-packages/torch/utils/data/dataloader.py\", line 349, in __del__\n",
      "    self._shutdown_workers()\n",
      "  File \"/home/ubuntu/virtuals/pytorch-cu90-0.4.0/lib/python3.5/site-packages/torch/utils/data/dataloader.py\", line 328, in _shutdown_workers\n",
      "    self.worker_result_queue.get()\n",
      "  File \"/usr/lib/python3.5/multiprocessing/queues.py\", line 345, in get\n",
      "    return ForkingPickler.loads(res)\n",
      "  File \"/home/ubuntu/virtuals/pytorch-cu90-0.4.0/lib/python3.5/site-packages/torch/multiprocessing/reductions.py\", line 70, in rebuild_storage_fd\n",
      "    fd = df.detach()\n",
      "  File \"/usr/lib/python3.5/multiprocessing/resource_sharer.py\", line 57, in detach\n",
      "    with _resource_sharer.get_connection(self._id) as conn:\n",
      "  File \"/usr/lib/python3.5/multiprocessing/resource_sharer.py\", line 87, in get_connection\n",
      "    c = Client(address, authkey=process.current_process().authkey)\n",
      "  File \"/usr/lib/python3.5/multiprocessing/connection.py\", line 493, in Client\n",
      "    answer_challenge(c, authkey)\n",
      "  File \"/usr/lib/python3.5/multiprocessing/connection.py\", line 737, in answer_challenge\n",
      "    response = connection.recv_bytes(256)        # reject large message\n",
      "  File \"/usr/lib/python3.5/multiprocessing/connection.py\", line 216, in recv_bytes\n",
      "    buf = self._recv_bytes(maxlength)\n",
      "  File \"/usr/lib/python3.5/multiprocessing/connection.py\", line 407, in _recv_bytes\n",
      "    buf = self._recv(4)\n",
      "  File \"/usr/lib/python3.5/multiprocessing/connection.py\", line 379, in _recv\n",
      "    chunk = read(handle, remaining)\n",
      "ConnectionResetError: [Errno 104] Connection reset by peer\n"
     ]
    },
    {
     "name": "stdout",
     "output_type": "stream",
     "text": [
      "   >> Epoch finished with loss 7.88194 and accuracy 0.000 in 0.8039s443302684e-06]\n",
      "  Validating...\n",
      "   >> Epoch finished with loss 8.00694 and accuracy 0.000 in 0.8359s\n"
     ]
    }
   ],
   "source": [
    "trained_model, statistics = trainer.train(train_dataset, val_dataset, save_every=50, learnrate=10, collate_fn=collate, e_break=1, epoch=100, val_size=9)"
   ]
  },
  {
   "cell_type": "code",
   "execution_count": 8,
   "metadata": {
    "ExecuteTime": {
     "end_time": "2018-07-12T16:14:02.062512Z",
     "start_time": "2018-07-12T16:14:01.842775Z"
    }
   },
   "outputs": [
    {
     "ename": "KeyError",
     "evalue": "'train-losslist'",
     "output_type": "error",
     "traceback": [
      "\u001b[0;31m---------------------------------------------------------------------------\u001b[0m",
      "\u001b[0;31mKeyError\u001b[0m                                  Traceback (most recent call last)",
      "\u001b[0;32m<ipython-input-8-279843732825>\u001b[0m in \u001b[0;36m<module>\u001b[0;34m()\u001b[0m\n\u001b[1;32m     12\u001b[0m \u001b[0mtrainer\u001b[0m\u001b[0;34m.\u001b[0m\u001b[0mstatistics\u001b[0m \u001b[0;34m=\u001b[0m \u001b[0mstatistic\u001b[0m\u001b[0;34m\u001b[0m\u001b[0m\n\u001b[1;32m     13\u001b[0m \u001b[0;34m\u001b[0m\u001b[0m\n\u001b[0;32m---> 14\u001b[0;31m \u001b[0mtrainer\u001b[0m\u001b[0;34m.\u001b[0m\u001b[0mplot_over_epoch\u001b[0m\u001b[0;34m(\u001b[0m\u001b[0;34m)\u001b[0m\u001b[0;34m\u001b[0m\u001b[0m\n\u001b[0m",
      "\u001b[0;32m~/dotCuda/notebook/trainer.py\u001b[0m in \u001b[0;36mplot_over_epoch\u001b[0;34m(self)\u001b[0m\n\u001b[1;32m    226\u001b[0m         \u001b[0;31m# plot in-epoch statistics\u001b[0m\u001b[0;34m\u001b[0m\u001b[0;34m\u001b[0m\u001b[0m\n\u001b[1;32m    227\u001b[0m         \u001b[0mplt\u001b[0m\u001b[0;34m.\u001b[0m\u001b[0mfigure\u001b[0m\u001b[0;34m(\u001b[0m\u001b[0;34m)\u001b[0m\u001b[0;34m\u001b[0m\u001b[0m\n\u001b[0;32m--> 228\u001b[0;31m         \u001b[0mnrow\u001b[0m \u001b[0;34m=\u001b[0m \u001b[0mlen\u001b[0m\u001b[0;34m(\u001b[0m\u001b[0mself\u001b[0m\u001b[0;34m.\u001b[0m\u001b[0mstatistics\u001b[0m\u001b[0;34m[\u001b[0m\u001b[0;34m'train-losslist'\u001b[0m\u001b[0;34m]\u001b[0m\u001b[0;34m)\u001b[0m\u001b[0;34m\u001b[0m\u001b[0m\n\u001b[0m\u001b[1;32m    229\u001b[0m         \u001b[0;32mfor\u001b[0m \u001b[0mi\u001b[0m \u001b[0;32min\u001b[0m \u001b[0mrange\u001b[0m\u001b[0;34m(\u001b[0m\u001b[0mnrow\u001b[0m\u001b[0;34m)\u001b[0m\u001b[0;34m:\u001b[0m\u001b[0;34m\u001b[0m\u001b[0m\n\u001b[1;32m    230\u001b[0m             \u001b[0;31m# one row per epoch\u001b[0m\u001b[0;34m\u001b[0m\u001b[0;34m\u001b[0m\u001b[0m\n",
      "\u001b[0;31mKeyError\u001b[0m: 'train-losslist'"
     ]
    },
    {
     "data": {
      "image/png": "[encoded data removed]",
      "text/plain": [
       "<Figure size 432x288 with 2 Axes>"
      ]
     },
     "metadata": {},
     "output_type": "display_data"
    },
    {
     "data": {
      "text/plain": [
       "<Figure size 432x288 with 0 Axes>"
      ]
     },
     "metadata": {},
     "output_type": "display_data"
    }
   ],
   "source": [
    "import pickle\n",
    "\n",
    "with open('stats.st', 'rb') as statfile:\n",
    "    statistic = pickle.load(statfile)\n",
    "    \n",
    "#print(statistic)\n",
    "\n",
    "#trainer.plot_over_epoch()\n",
    "from trainer import VQATrainer\n",
    "\n",
    "trainer = VQATrainer(None, None)\n",
    "trainer.statistics = statistic\n",
    "\n",
    "trainer.plot_over_epoch()"
   ]
  },
  {
   "cell_type": "code",
   "execution_count": null,
   "metadata": {
    "ExecuteTime": {
     "end_time": "2018-07-12T16:16:27.638069Z",
     "start_time": "2018-07-12T16:16:25.345475Z"
    }
   },
   "outputs": [],
   "source": [
    "from torchvision import transforms\n",
    "import matplotlib.pyplot as plt\n",
    "import random\n",
    "\n",
    "\n",
    "device = torch.device('cuda')\n",
    "vocab_size = len(vocab)\n",
    "model = ConcatNet(vocab_size).to(device)\n",
    "\n",
    "state_dict = torch.load('model_epoch4.pt')\n",
    "model.load_state_dict(state_dict)\n",
    "    "
   ]
  },
  {
   "cell_type": "code",
   "execution_count": null,
   "metadata": {
    "ExecuteTime": {
     "end_time": "2018-07-12T16:20:11.295269Z",
     "start_time": "2018-07-12T16:20:10.416459Z"
    }
   },
   "outputs": [],
   "source": [
    "import random\n",
    "\n",
    "for idx in [random.randint(0, 8) for i in range(8)]:\n",
    "    print('\\nqn no', idx)\n",
    "    qns, img, ans = collate([train_dataset[idx]])\n",
    "    output = model(img.cuda(), qns.long().cuda())\n",
    "    _, pred = output.topk(10)\n",
    "    # print(qns, pred)\n",
    "\n",
    "    #pil_img = transforms.ToPILImage()(img)\n",
    "    #plt.imshow(pil_img)\n",
    "    qnss = ' '.join([vocab.idx2word[i.item()] for i in qns.data])\n",
    "    ans_ = ' / '.join([answers.idx2ans[j.item()] for j in pred[0]])\n",
    "    lbl = ' - '.join([answers.idx2ans[k.item()] for k in ans[0]])\n",
    "    print('question:', qnss)\n",
    "    print('answer:', ans_)\n",
    "    print('label:', lbl)\n",
    "    ans = [a.cuda() for a in ans]\n",
    "    print('accuracy', trainer.accuracy_fn(output.detach(), ans))\n",
    "    print('loss', trainer.get_losses(output, ans))"
   ]
  },
  {
   "cell_type": "code",
   "execution_count": null,
   "metadata": {},
   "outputs": [],
   "source": []
  }
 ],
 "metadata": {
  "kernelspec": {
   "display_name": "Python 3",
   "language": "python",
   "name": "python3"
  },
  "language_info": {
   "codemirror_mode": {
    "name": "ipython",
    "version": 3
   },
   "file_extension": ".py",
   "mimetype": "text/x-python",
   "name": "python",
   "nbconvert_exporter": "python",
   "pygments_lexer": "ipython3",
   "version": "3.5.2"
  },
  "toc": {
   "base_numbering": 1,
   "nav_menu": {},
   "number_sections": false,
   "sideBar": true,
   "skip_h1_title": false,
   "title_cell": "Table of Contents",
   "title_sidebar": "Contents",
   "toc_cell": false,
   "toc_position": {},
   "toc_section_display": true,
   "toc_window_display": false
  },
  "varInspector": {
   "cols": {
    "lenName": 16,
    "lenType": 16,
    "lenVar": 40
   },
   "kernels_config": {
    "python": {
     "delete_cmd_postfix": "",
     "delete_cmd_prefix": "del ",
     "library": "var_list.py",
     "varRefreshCmd": "print(var_dic_list())"
    },
    "r": {
     "delete_cmd_postfix": ") ",
     "delete_cmd_prefix": "rm(",
     "library": "var_list.r",
     "varRefreshCmd": "cat(var_dic_list()) "
    }
   },
   "types_to_exclude": [
    "module",
    "function",
    "builtin_function_or_method",
    "instance",
    "_Feature"
   ],
   "window_display": false
  }
 },
 "nbformat": 4,
 "nbformat_minor": 2
}
