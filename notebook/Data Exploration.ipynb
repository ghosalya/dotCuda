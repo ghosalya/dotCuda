{
 "cells": [
  {
   "cell_type": "markdown",
   "metadata": {},
   "source": [
    "## Annotations"
   ]
  },
  {
   "cell_type": "code",
   "execution_count": 7,
   "metadata": {},
   "outputs": [
    {
     "name": "stdout",
     "output_type": "stream",
     "text": [
      "dict_keys(['info', 'license', 'data_subtype', 'annotations', 'data_type'])\n"
     ]
    }
   ],
   "source": [
    "import json\n",
    "\n",
    "with open('/home/ubuntu/data2/v2_mscoco_train2014_annotations.json') as ann:\n",
    "    ann_json = json.load(ann)\n",
    "    \n",
    "print(ann_json.keys())"
   ]
  },
  {
   "cell_type": "code",
   "execution_count": 12,
   "metadata": {},
   "outputs": [
    {
     "name": "stdout",
     "output_type": "stream",
     "text": [
      "description : This is v2.0 of the VQA dataset.\n",
      "url : http://visualqa.org\n",
      "version : 2.0\n",
      "year : 2017\n",
      "contributor : VQA Team\n",
      "date_created : 2017-04-26 17:07:13\n"
     ]
    }
   ],
   "source": [
    "for k, v in ann_json['info'].items():\n",
    "    print(k,':',v)"
   ]
  },
  {
   "cell_type": "code",
   "execution_count": 16,
   "metadata": {},
   "outputs": [
    {
     "name": "stdout",
     "output_type": "stream",
     "text": [
      "url : http://creativecommons.org/licenses/by/4.0/\n",
      "name : Creative Commons Attribution 4.0 International License\n"
     ]
    }
   ],
   "source": [
    "for k, v in ann_json['license'].items():\n",
    "    print(k,':',v)"
   ]
  },
  {
   "cell_type": "code",
   "execution_count": 21,
   "metadata": {},
   "outputs": [
    {
     "name": "stdout",
     "output_type": "stream",
     "text": [
      "data_subtype train2014\n",
      "data_type mscoco\n"
     ]
    }
   ],
   "source": [
    "print('data_subtype', ann_json['data_subtype'])\n",
    "print('data_type', ann_json['data_type'])\n"
   ]
  },
  {
   "cell_type": "code",
   "execution_count": 23,
   "metadata": {},
   "outputs": [
    {
     "name": "stdout",
     "output_type": "stream",
     "text": [
      "annotation length 443757\n"
     ]
    }
   ],
   "source": [
    "ann_len = len(ann_json['annotations'])\n",
    "print('annotation length', ann_len)"
   ]
  },
  {
   "cell_type": "code",
   "execution_count": 28,
   "metadata": {},
   "outputs": [
    {
     "name": "stdout",
     "output_type": "stream",
     "text": [
      "question_type : what is this\n",
      "multiple_choice_answer : net\n",
      "answers : [{'answer': 'net', 'answer_confidence': 'maybe', 'answer_id': 1}, {'answer': 'net', 'answer_confidence': 'yes', 'answer_id': 2}, {'answer': 'net', 'answer_confidence': 'yes', 'answer_id': 3}, {'answer': 'netting', 'answer_confidence': 'yes', 'answer_id': 4}, {'answer': 'net', 'answer_confidence': 'yes', 'answer_id': 5}, {'answer': 'net', 'answer_confidence': 'yes', 'answer_id': 6}, {'answer': 'mesh', 'answer_confidence': 'maybe', 'answer_id': 7}, {'answer': 'net', 'answer_confidence': 'yes', 'answer_id': 8}, {'answer': 'net', 'answer_confidence': 'yes', 'answer_id': 9}, {'answer': 'net', 'answer_confidence': 'yes', 'answer_id': 10}]\n",
      "image_id : 458752\n",
      "answer_type : other\n",
      "question_id : 458752000\n"
     ]
    }
   ],
   "source": [
    "for k, v in ann_json['annotations'][0].items():\n",
    "    print(k,':',v)"
   ]
  },
  {
   "cell_type": "code",
   "execution_count": 30,
   "metadata": {},
   "outputs": [],
   "source": [
    "# inside train2014 folder\n",
    "with open('/home/ubuntu/data2/annotations/captions_train2014.json') as ann:\n",
    "    ann2014 = json.load(ann)"
   ]
  },
  {
   "cell_type": "code",
   "execution_count": 31,
   "metadata": {},
   "outputs": [
    {
     "name": "stdout",
     "output_type": "stream",
     "text": [
      "dict_keys(['info', 'images', 'licenses', 'annotations'])\n"
     ]
    }
   ],
   "source": [
    "print(ann2014.keys())"
   ]
  },
  {
   "cell_type": "code",
   "execution_count": 33,
   "metadata": {},
   "outputs": [
    {
     "name": "stdout",
     "output_type": "stream",
     "text": [
      "image count: 82783\n",
      "annotations count: 414113\n"
     ]
    }
   ],
   "source": [
    "print('image count:',len(ann2014['images']))\n",
    "print('annotations count:',len(ann2014['annotations']))"
   ]
  },
  {
   "cell_type": "code",
   "execution_count": 37,
   "metadata": {},
   "outputs": [
    {
     "name": "stdout",
     "output_type": "stream",
     "text": [
      "{'image_id': 318556, 'id': 48, 'caption': 'A very clean and well decorated empty bathroom'}\n"
     ]
    }
   ],
   "source": [
    "print(ann2014['annotations'][0])"
   ]
  },
  {
   "cell_type": "markdown",
   "metadata": {},
   "source": [
    "![image](../../data2/train2014/COCO_train2014_000000318556.jpg)"
   ]
  },
  {
   "cell_type": "code",
   "execution_count": 38,
   "metadata": {
    "collapsed": true
   },
   "outputs": [],
   "source": [
    "# instances json\n",
    "with open('/home/ubuntu/data2/annotations/instances_train2014.json') as ann:\n",
    "    inst2014 = json.load(ann)"
   ]
  },
  {
   "cell_type": "code",
   "execution_count": 39,
   "metadata": {},
   "outputs": [
    {
     "name": "stdout",
     "output_type": "stream",
     "text": [
      "dict_keys(['info', 'images', 'licenses', 'annotations', 'categories'])\n"
     ]
    }
   ],
   "source": [
    "print(inst2014.keys())"
   ]
  },
  {
   "cell_type": "code",
   "execution_count": 55,
   "metadata": {},
   "outputs": [
    {
     "name": "stdout",
     "output_type": "stream",
     "text": [
      "[person] person - id: 1\n",
      "[vehicle] bicycle - id: 2\n",
      "[vehicle] car - id: 3\n",
      "[vehicle] motorcycle - id: 4\n",
      "[vehicle] airplane - id: 5\n",
      "[vehicle] bus - id: 6\n",
      "[vehicle] train - id: 7\n",
      "[vehicle] truck - id: 8\n",
      "[vehicle] boat - id: 9\n",
      "[outdoor] traffic light - id: 10\n",
      "[outdoor] fire hydrant - id: 11\n",
      "[outdoor] stop sign - id: 13\n",
      "[outdoor] parking meter - id: 14\n",
      "[outdoor] bench - id: 15\n",
      "[animal] bird - id: 16\n",
      "[animal] cat - id: 17\n",
      "[animal] dog - id: 18\n",
      "[animal] horse - id: 19\n",
      "[animal] sheep - id: 20\n",
      "[animal] cow - id: 21\n",
      "[animal] elephant - id: 22\n",
      "[animal] bear - id: 23\n",
      "[animal] zebra - id: 24\n",
      "[animal] giraffe - id: 25\n",
      "[accessory] backpack - id: 27\n",
      "[accessory] umbrella - id: 28\n",
      "[accessory] handbag - id: 31\n",
      "[accessory] tie - id: 32\n",
      "[accessory] suitcase - id: 33\n",
      "[sports] frisbee - id: 34\n",
      "[sports] skis - id: 35\n",
      "[sports] snowboard - id: 36\n",
      "[sports] sports ball - id: 37\n",
      "[sports] kite - id: 38\n",
      "[sports] baseball bat - id: 39\n",
      "[sports] baseball glove - id: 40\n",
      "[sports] skateboard - id: 41\n",
      "[sports] surfboard - id: 42\n",
      "[sports] tennis racket - id: 43\n",
      "[kitchen] bottle - id: 44\n",
      "[kitchen] wine glass - id: 46\n",
      "[kitchen] cup - id: 47\n",
      "[kitchen] fork - id: 48\n",
      "[kitchen] knife - id: 49\n",
      "[kitchen] spoon - id: 50\n",
      "[kitchen] bowl - id: 51\n",
      "[food] banana - id: 52\n",
      "[food] apple - id: 53\n",
      "[food] sandwich - id: 54\n",
      "[food] orange - id: 55\n",
      "[food] broccoli - id: 56\n",
      "[food] carrot - id: 57\n",
      "[food] hot dog - id: 58\n",
      "[food] pizza - id: 59\n",
      "[food] donut - id: 60\n",
      "[food] cake - id: 61\n",
      "[furniture] chair - id: 62\n",
      "[furniture] couch - id: 63\n",
      "[furniture] potted plant - id: 64\n",
      "[furniture] bed - id: 65\n",
      "[furniture] dining table - id: 67\n",
      "[furniture] toilet - id: 70\n",
      "[electronic] tv - id: 72\n",
      "[electronic] laptop - id: 73\n",
      "[electronic] mouse - id: 74\n",
      "[electronic] remote - id: 75\n",
      "[electronic] keyboard - id: 76\n",
      "[electronic] cell phone - id: 77\n",
      "[appliance] microwave - id: 78\n",
      "[appliance] oven - id: 79\n",
      "[appliance] toaster - id: 80\n",
      "[appliance] sink - id: 81\n",
      "[appliance] refrigerator - id: 82\n",
      "[indoor] book - id: 84\n",
      "[indoor] clock - id: 85\n",
      "[indoor] vase - id: 86\n",
      "[indoor] scissors - id: 87\n",
      "[indoor] teddy bear - id: 88\n",
      "[indoor] hair drier - id: 89\n",
      "[indoor] toothbrush - id: 90\n"
     ]
    }
   ],
   "source": [
    "for i in range(80):\n",
    "    data = inst2014['categories'][i]\n",
    "    print('[{}] {} - id: {}'.format(data['supercategory'], data['name'], data['id']))"
   ]
  },
  {
   "cell_type": "code",
   "execution_count": 53,
   "metadata": {},
   "outputs": [
    {
     "name": "stdout",
     "output_type": "stream",
     "text": [
      "dict_keys(['segmentation', 'area', 'iscrowd', 'image_id', 'bbox', 'category_id', 'id'])\n"
     ]
    }
   ],
   "source": [
    "print(inst2014['annotations'][0].keys())"
   ]
  },
  {
   "cell_type": "code",
   "execution_count": 57,
   "metadata": {},
   "outputs": [
    {
     "name": "stdout",
     "output_type": "stream",
     "text": [
      "category 58 - hot dog\n"
     ]
    }
   ],
   "source": [
    "print('category', inst2014['annotations'][0]['category_id'], '- hot dog')"
   ]
  },
  {
   "cell_type": "code",
   "execution_count": 58,
   "metadata": {},
   "outputs": [
    {
     "name": "stdout",
     "output_type": "stream",
     "text": [
      "480023\n"
     ]
    }
   ],
   "source": [
    "print(inst2014['annotations'][0]['image_id'])"
   ]
  },
  {
   "cell_type": "markdown",
   "metadata": {},
   "source": [
    "![image](../../data2/train2014/COCO_train2014_000000480023.jpg)"
   ]
  },
  {
   "cell_type": "code",
   "execution_count": null,
   "metadata": {
    "collapsed": true
   },
   "outputs": [],
   "source": []
  }
 ],
 "metadata": {
  "kernelspec": {
   "display_name": "Python 3",
   "language": "python",
   "name": "python3"
  },
  "language_info": {
   "codemirror_mode": {
    "name": "ipython",
    "version": 3
   },
   "file_extension": ".py",
   "mimetype": "text/x-python",
   "name": "python",
   "nbconvert_exporter": "python",
   "pygments_lexer": "ipython3",
   "version": "3.6.1"
  }
 },
 "nbformat": 4,
 "nbformat_minor": 2
}
