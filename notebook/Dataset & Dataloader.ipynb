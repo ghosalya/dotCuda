{
 "cells": [
  {
   "cell_type": "markdown",
   "metadata": {
    "collapsed": true
   },
   "source": [
    "Data Preprocessing\n",
    "--"
   ]
  },
  {
   "cell_type": "code",
   "execution_count": 1,
   "metadata": {},
   "outputs": [
    {
     "name": "stdout",
     "output_type": "stream",
     "text": [
      "Interactive namespace is empty.\n"
     ]
    }
   ],
   "source": [
    "%who"
   ]
  },
  {
   "cell_type": "code",
   "execution_count": 1,
   "metadata": {
    "ExecuteTime": {
     "end_time": "2018-07-10T13:21:43.569576Z",
     "start_time": "2018-07-10T13:21:43.100512Z"
    }
   },
   "outputs": [],
   "source": [
    "import os\n",
    "import torch\n",
    "from torch.utils.data import Dataset, DataLoader\n",
    "import torchvision.transforms as transforms\n",
    "from build_vocab import *\n",
    "from build_answers import *\n",
    "from vqaTools.vqa import VQA\n",
    "from PIL import Image"
   ]
  },
  {
   "cell_type": "code",
   "execution_count": 2,
   "metadata": {
    "ExecuteTime": {
     "end_time": "2018-07-10T13:21:44.192278Z",
     "start_time": "2018-07-10T13:21:44.189109Z"
    }
   },
   "outputs": [],
   "source": [
    "rootDir = '../../data2'\n",
    "dataSubType = 'val2014'\n",
    "annFile ='{}/v2_mscoco_{}_annotations.json'.format(rootDir, dataSubType)\n",
    "quesFile ='{}/v2_OpenEnded_mscoco_{}_questions.json'.format(rootDir, dataSubType)"
   ]
  },
  {
   "cell_type": "markdown",
   "metadata": {},
   "source": [
    "Build an answers wrapper\n",
    "--"
   ]
  },
  {
   "cell_type": "code",
   "execution_count": 3,
   "metadata": {
    "ExecuteTime": {
     "end_time": "2018-07-10T13:21:57.268883Z",
     "start_time": "2018-07-10T13:21:51.474961Z"
    }
   },
   "outputs": [
    {
     "name": "stdout",
     "output_type": "stream",
     "text": [
      "loading VQA annotations and questions into memory...\n",
      "0:00:04.365680\n",
      "creating index...\n",
      "index created!\n"
     ]
    }
   ],
   "source": [
    "# instantiate VQA object\n",
    "vqa = VQA(annFile, quesFile)"
   ]
  },
  {
   "cell_type": "code",
   "execution_count": 4,
   "metadata": {
    "ExecuteTime": {
     "end_time": "2018-07-10T13:23:08.462633Z",
     "start_time": "2018-07-10T13:23:01.715257Z"
    },
    "scrolled": true
   },
   "outputs": [
    {
     "name": "stdout",
     "output_type": "stream",
     "text": [
      "loading VQA annotations and questions into memory...\n",
      "0:00:04.538660\n",
      "creating index...\n",
      "index created!\n",
      "len of annotations dict: 214354\n",
      "[214354/214354] Answers tally completed.\n"
     ]
    }
   ],
   "source": [
    "answers = build_answers(annFile, quesFile)"
   ]
  },
  {
   "cell_type": "code",
   "execution_count": 5,
   "metadata": {
    "ExecuteTime": {
     "end_time": "2018-07-10T13:23:27.758624Z",
     "start_time": "2018-07-10T13:23:27.752423Z"
    }
   },
   "outputs": [],
   "source": [
    "answers_path = '../../dotCuda/notebook/valanswers.pkl'"
   ]
  },
  {
   "cell_type": "code",
   "execution_count": 6,
   "metadata": {
    "ExecuteTime": {
     "end_time": "2018-07-10T13:23:28.926263Z",
     "start_time": "2018-07-10T13:23:28.921265Z"
    }
   },
   "outputs": [
    {
     "name": "stdout",
     "output_type": "stream",
     "text": [
      "Total answers size: 3001\n",
      "Saved the answers wrapper to '../../dotCuda/notebook/valanswers.pkl'\n"
     ]
    }
   ],
   "source": [
    "with open(answers_path, 'wb') as f:\n",
    "    pickle.dump(answers, f)\n",
    "print(\"Total answers size: {}\".format(len(answers)))\n",
    "print(\"Saved the answers wrapper to '{}'\".format(answers_path))"
   ]
  },
  {
   "cell_type": "code",
   "execution_count": 7,
   "metadata": {
    "ExecuteTime": {
     "end_time": "2018-07-09T19:08:28.798605Z",
     "start_time": "2018-07-09T19:08:28.788654Z"
    }
   },
   "outputs": [],
   "source": [
    "with open(answers_path, 'rb') as f:\n",
    "    answers = pickle.load(f)"
   ]
  },
  {
   "cell_type": "code",
   "execution_count": 8,
   "metadata": {},
   "outputs": [
    {
     "data": {
      "text/plain": [
       "'<unk>'"
      ]
     },
     "execution_count": 8,
     "metadata": {},
     "output_type": "execute_result"
    }
   ],
   "source": [
    "answers.idx2ans[0]"
   ]
  },
  {
   "cell_type": "markdown",
   "metadata": {
    "collapsed": true
   },
   "source": [
    "Build a vocabulary wrapper\n",
    "--"
   ]
  },
  {
   "cell_type": "code",
   "execution_count": 9,
   "metadata": {
    "ExecuteTime": {
     "end_time": "2018-07-10T13:24:18.014567Z",
     "start_time": "2018-07-10T13:23:48.747016Z"
    }
   },
   "outputs": [
    {
     "name": "stdout",
     "output_type": "stream",
     "text": [
      "loading VQA annotations and questions into memory...\n",
      "0:00:03.997276\n",
      "creating index...\n",
      "index created!\n",
      "[214354/214354] Tokenized the questions.\n"
     ]
    }
   ],
   "source": [
    "vocab = build_vocab(annFile, quesFile, threshold=4)"
   ]
  },
  {
   "cell_type": "code",
   "execution_count": 10,
   "metadata": {
    "ExecuteTime": {
     "end_time": "2018-07-10T13:24:18.027672Z",
     "start_time": "2018-07-10T13:24:18.025372Z"
    }
   },
   "outputs": [],
   "source": [
    "vocab_path = '../../dotCuda/notebook/vocab.pkl'"
   ]
  },
  {
   "cell_type": "code",
   "execution_count": 9,
   "metadata": {
    "ExecuteTime": {
     "end_time": "2018-07-10T13:24:27.808144Z",
     "start_time": "2018-07-10T13:24:27.801804Z"
    }
   },
   "outputs": [
    {
     "name": "stdout",
     "output_type": "stream",
     "text": [
      "Total vocabulary size: 5556\n",
      "Saved the vocabulary wrapper to '../../dotCuda/notebook/valvocab.pkl'\n"
     ]
    }
   ],
   "source": [
    "with open(vocab_path, 'wb') as f:\n",
    "    pickle.dump(vocab, f)\n",
    "print(\"Total vocabulary size: {}\".format(len(vocab)))\n",
    "print(\"Saved the vocabulary wrapper to '{}'\".format(vocab_path))"
   ]
  },
  {
   "cell_type": "code",
   "execution_count": 11,
   "metadata": {
    "ExecuteTime": {
     "end_time": "2018-07-09T19:09:42.272279Z",
     "start_time": "2018-07-09T19:09:42.266006Z"
    }
   },
   "outputs": [],
   "source": [
    "with open(vocab_path, 'rb') as f:\n",
    "    vocab = pickle.load(f)"
   ]
  },
  {
   "cell_type": "markdown",
   "metadata": {},
   "source": [
    "Transform the image\n",
    "--"
   ]
  },
  {
   "cell_type": "code",
   "execution_count": 12,
   "metadata": {
    "ExecuteTime": {
     "end_time": "2018-07-09T19:09:43.870101Z",
     "start_time": "2018-07-09T19:09:43.866188Z"
    }
   },
   "outputs": [],
   "source": [
    "transform = transforms.Compose([\n",
    "    transforms.Resize(224),\n",
    "    transforms.CenterCrop(224),\n",
    "    transforms.ToTensor(),\n",
    "    transforms.Normalize(mean=[0.485, 0.456, 0.406],\n",
    "                         std=[0.229, 0.224, 0.225]),\n",
    "])"
   ]
  },
  {
   "cell_type": "markdown",
   "metadata": {},
   "source": [
    "Dataset\n",
    "--"
   ]
  },
  {
   "cell_type": "code",
   "execution_count": 16,
   "metadata": {
    "ExecuteTime": {
     "end_time": "2018-07-09T19:49:01.567068Z",
     "start_time": "2018-07-09T19:49:01.558705Z"
    }
   },
   "outputs": [],
   "source": [
    "class COCODataset(Dataset):\n",
    "    \n",
    "    def __init__(self, vocab, answers, rootDir='../../data2', dataSubType='train2014', transform=transform):\n",
    "        \n",
    "        annFile ='{}/v2_mscoco_{}_annotations.json'.format(rootDir, dataSubType)\n",
    "        quesFile ='{}/v2_OpenEnded_mscoco_{}_questions.json'.format(rootDir, dataSubType)\n",
    "        self.vqa = VQA(annFile, quesFile)\n",
    "        self.imgDir = '{}/{}'.format(rootDir, dataSubType)\n",
    "        self.vocab = vocab\n",
    "        self.answers = answers\n",
    "        self.quesIds = self.vqa.getQuesIds()\n",
    "        self.dataSubType = dataSubType\n",
    "        self.transform = transform\n",
    "        \n",
    "    def __getitem__(self, index):\n",
    "        \n",
    "        \"\"\"\n",
    "        returns:\n",
    "            question: tensor of word-indices\n",
    "            transformed image: tensor of shape (3, 224, 224)\n",
    "            answers: tensor of indices mapped to 3000 most frequently occurring answers\n",
    "            answers not found among 300 most frequently occurring answers are eliminated\n",
    "        \"\"\"\n",
    "        \n",
    "        quesId = self.quesIds[index]\n",
    "        \n",
    "        img_id = self.vqa.qqa[quesId]['image_id'] \n",
    "        img_id = str(img_id).zfill(12)\n",
    "        path = 'COCO_{}_{}.jpg'.format(self.dataSubType, img_id)\n",
    "#         print(os.path.join(self.imgDir, path))\n",
    "        image = Image.open(os.path.join(self.imgDir, path)).convert('RGB')\n",
    "\n",
    "        if self.transform is not None:\n",
    "            image = self.transform(image)\n",
    "            \n",
    "            \n",
    "        # Convert question to word ids\n",
    "        vocab = self.vocab\n",
    "        question = self.vqa.qqa[quesId]['question']\n",
    "        print(question)\n",
    "        \n",
    "        tokens = nltk.tokenize.word_tokenize(question.lower())\n",
    "        question_list = []\n",
    "        question_list.append(vocab('<start>'))\n",
    "        question_list.extend([vocab(token) for token in tokens])\n",
    "        question_list.append(vocab('<end>'))\n",
    "        question_tensor = torch.Tensor(question_list)\n",
    "        \n",
    "        qa = self.vqa.loadQA(quesId)\n",
    "        \n",
    "        ans_list = [a['answer'] for a in qa[0]['answers']]\n",
    "        print(ans_list)\n",
    "        \n",
    "        ans_index_list = [self.answers(ans) for ans in ans_list]\n",
    "        answer_tensor = torch.Tensor(ans_index_list)\n",
    "        \n",
    "        return question_tensor, image, answer_tensor     \n",
    "        \n",
    "    def __len__(self):\n",
    "        return len(self.vqa.dataset['annotations'])\n",
    "        "
   ]
  },
  {
   "cell_type": "code",
   "execution_count": 19,
   "metadata": {},
   "outputs": [
    {
     "data": {
      "text/plain": [
       "False"
      ]
     },
     "execution_count": 19,
     "metadata": {},
     "output_type": "execute_result"
    }
   ],
   "source": [
    "li = ['1','2','3']\n",
    "li2 = ['1','2','4']\n",
    "\n",
    "li == li2\n",
    "\n",
    "# [ans for ans in ans_list if ans in self.answers.ans2idx.keys() else unk]"
   ]
  },
  {
   "cell_type": "code",
   "execution_count": 19,
   "metadata": {
    "ExecuteTime": {
     "end_time": "2018-07-09T19:49:15.067959Z",
     "start_time": "2018-07-09T19:49:02.766181Z"
    }
   },
   "outputs": [
    {
     "name": "stdout",
     "output_type": "stream",
     "text": [
      "loading VQA annotations and questions into memory...\n",
      "0:00:08.065886\n",
      "creating index...\n",
      "index created!\n"
     ]
    }
   ],
   "source": [
    "dataset = COCODataset(vocab=vocab, answers=answers)"
   ]
  },
  {
   "cell_type": "code",
   "execution_count": 20,
   "metadata": {
    "ExecuteTime": {
     "end_time": "2018-07-09T19:49:17.184325Z",
     "start_time": "2018-07-09T19:49:17.155612Z"
    }
   },
   "outputs": [
    {
     "name": "stdout",
     "output_type": "stream",
     "text": [
      "What is this photo taken looking through?\n",
      "['net', 'net', 'net', 'netting', 'net', 'net', 'mesh', 'net', 'net', 'net']\n"
     ]
    },
    {
     "data": {
      "text/plain": [
       "(tensor([  1.,   4.,   5.,   6.,   7.,   8.,   9.,  10.,  11.,   2.]),\n",
       " tensor([[[ 0.2282,  0.2453,  0.3138,  ...,  0.9474,  0.8618,  0.9988],\n",
       "          [ 0.0741,  0.1083,  0.2111,  ...,  1.0331,  0.9474,  1.0673],\n",
       "          [ 0.4851,  0.4508,  0.5193,  ...,  1.0159,  0.9303,  1.0502],\n",
       "          ...,\n",
       "          [-0.1143, -0.2684, -0.1999,  ..., -1.1589, -1.1418, -1.1418],\n",
       "          [-0.2856, -0.1486, -0.1143,  ..., -1.2445, -1.2788, -1.1760],\n",
       "          [-0.1828, -0.3198, -0.1999,  ..., -1.2103, -1.2274, -1.2103]],\n",
       " \n",
       "         [[ 0.5203,  0.5378,  0.6429,  ...,  0.5903,  0.5728,  0.7129],\n",
       "          [ 0.2752,  0.3452,  0.3978,  ...,  0.7129,  0.6954,  0.8354],\n",
       "          [ 0.3803,  0.4153,  0.5378,  ...,  0.7129,  0.6954,  0.8354],\n",
       "          ...,\n",
       "          [-0.3725, -0.5476, -0.4951,  ..., -1.0378, -1.0378, -1.0553],\n",
       "          [-0.4951, -0.3550, -0.3200,  ..., -1.1078, -1.1604, -1.0903],\n",
       "          [-0.3725, -0.5126, -0.4076,  ..., -1.1078, -1.1604, -1.2129]],\n",
       " \n",
       "         [[ 0.0082,  0.0256,  0.0082,  ...,  0.2871,  0.1999,  0.2871],\n",
       "          [-0.1661, -0.1661, -0.0615,  ...,  0.3568,  0.2871,  0.3742],\n",
       "          [-0.0964,  0.0431,  0.1476,  ...,  0.3219,  0.2871,  0.4439],\n",
       "          ...,\n",
       "          [-0.3404, -0.5147, -0.3753,  ..., -0.9156, -0.9156, -0.9156],\n",
       "          [-0.5495, -0.4101, -0.3055,  ..., -0.9504, -0.9853, -0.8981],\n",
       "          [-0.4101, -0.4798, -0.3753,  ..., -0.8981, -0.9156, -0.9504]]]),\n",
       " tensor([ 924.,  924.,  924.,    0.,  924.,  924.,    0.,  924.,  924.,\n",
       "          924.]))"
      ]
     },
     "execution_count": 20,
     "metadata": {},
     "output_type": "execute_result"
    }
   ],
   "source": [
    "dataset[0]"
   ]
  },
  {
   "cell_type": "code",
   "execution_count": 50,
   "metadata": {
    "ExecuteTime": {
     "end_time": "2018-07-09T19:49:18.684902Z",
     "start_time": "2018-07-09T19:49:18.667427Z"
    }
   },
   "outputs": [
    {
     "data": {
      "text/plain": [
       "443757"
      ]
     },
     "execution_count": 50,
     "metadata": {},
     "output_type": "execute_result"
    }
   ],
   "source": [
    "question_tensor, image, ans_index_list = dataset[0]\n",
    "ans_index_list.shape\n",
    "\n",
    "len(dataset)"
   ]
  },
  {
   "cell_type": "markdown",
   "metadata": {},
   "source": [
    "Collator\n",
    "--"
   ]
  },
  {
   "cell_type": "code",
   "execution_count": 62,
   "metadata": {
    "ExecuteTime": {
     "end_time": "2018-07-09T20:06:06.651554Z",
     "start_time": "2018-07-09T20:06:06.647651Z"
    },
    "collapsed": true
   },
   "outputs": [],
   "source": [
    "def collate(batch):\n",
    "    \"\"\"\n",
    "    args: list of (question, image, answer) tuples\n",
    "         question: 1D tensor of variable length\n",
    "         image: tensor of shape (3, 224, 224)\n",
    "         answer: 1D tensor of variable length\n",
    "         \n",
    "    returns:\n",
    "        question: packed sequence (data: 1D tensor of total questions length, batch_sizes: 1D tensor of max ques length)\n",
    "        image: tensor of shape (batchsize, 3, 224, 224)\n",
    "        answer: tuple of 1D tensors of variable length\n",
    "    \"\"\"\n",
    "    # sort batch in descending order by question length\n",
    "    sorted_batch = sorted(batch, key=lambda x: len(x[0]), reverse=True) \n",
    "    question, image, answer = zip(*sorted_batch)\n",
    "    \n",
    "    return torch.nn.utils.rnn.pack_sequence(question), torch.stack(image), answer"
   ]
  },
  {
   "cell_type": "markdown",
   "metadata": {
    "collapsed": true
   },
   "source": [
    "Dataloader\n",
    "--"
   ]
  },
  {
   "cell_type": "code",
   "execution_count": 66,
   "metadata": {
    "ExecuteTime": {
     "end_time": "2018-07-09T20:07:16.078507Z",
     "start_time": "2018-07-09T20:07:16.075289Z"
    },
    "collapsed": true
   },
   "outputs": [],
   "source": [
    "data_loader = DataLoader(dataset=dataset,\n",
    "                         batch_size=5,\n",
    "                         shuffle=True,\n",
    "                         collate_fn=collate)"
   ]
  },
  {
   "cell_type": "code",
   "execution_count": 67,
   "metadata": {
    "ExecuteTime": {
     "end_time": "2018-07-09T20:07:18.850834Z",
     "start_time": "2018-07-09T20:07:18.688235Z"
    },
    "scrolled": false
   },
   "outputs": [
    {
     "data": {
      "text/plain": [
       "(PackedSequence(data=tensor([    1.,     1.,     1.,     1.,     1.,    85.,   162.,     4.,\n",
       "             4.,    82.,    16.,    16.,    72.,    73.,     5.,   142.,\n",
       "           344.,    73.,   174.,    16.,   336.,   164.,    16.,   721.,\n",
       "            38.,    86.,   453.,  1409.,    25.,    11.,  2907.,   318.,\n",
       "            11.,    11.,     2.,   601.,    99.,     2.,     2.,    16.,\n",
       "            11.,  1229.,     2.,    11.,     2.]), batch_sizes=tensor([ 5,  5,  5,  5,  5,  5,  5,  4,  2,  2,  1,  1])),\n",
       " tensor([[[[-2.0837, -2.0837, -2.0837,  ..., -2.1179, -2.1179, -2.1179],\n",
       "           [-1.9295, -1.9295, -1.8953,  ..., -2.0494, -2.0494, -2.0494],\n",
       "           [-0.3198, -0.1486, -0.1143,  ..., -1.3987, -1.4672, -1.4672],\n",
       "           ...,\n",
       "           [ 0.7077,  0.7591,  0.7591,  ..., -0.3027,  0.1426,  0.8789],\n",
       "           [-1.8439, -1.8439, -1.8439,  ..., -1.9467, -1.8953, -1.8439],\n",
       "           [-2.1008, -2.1008, -2.1008,  ..., -2.1179, -2.1008, -2.1008]],\n",
       " \n",
       "          [[-2.0007, -2.0007, -2.0007,  ..., -2.0357, -2.0357, -2.0357],\n",
       "           [-1.8431, -1.8431, -1.8081,  ..., -1.9657, -1.9657, -1.9657],\n",
       "           [-0.1975, -0.0049,  0.0301,  ..., -1.3179, -1.3704, -1.3704],\n",
       "           ...,\n",
       "           [ 0.8004,  0.8704,  0.8880,  ..., -0.0749,  0.3452,  0.9755],\n",
       "           [-1.7556, -1.7556, -1.7556,  ..., -1.8606, -1.8081, -1.7731],\n",
       "           [-2.0182, -2.0182, -2.0182,  ..., -2.0357, -2.0182, -2.0182]],\n",
       " \n",
       "          [[-1.7696, -1.7696, -1.7696,  ..., -1.8044, -1.8044, -1.8044],\n",
       "           [-1.6302, -1.6127, -1.5953,  ..., -1.7347, -1.7347, -1.7347],\n",
       "           [-0.0267,  0.1651,  0.1999,  ..., -1.1073, -1.1421, -1.1421],\n",
       "           ...,\n",
       "           [ 0.9668,  1.0539,  1.0714,  ...,  0.4091,  0.7402,  1.2805],\n",
       "           [-1.5430, -1.5256, -1.5256,  ..., -1.5953, -1.5604, -1.5256],\n",
       "           [-1.7870, -1.7870, -1.7870,  ..., -1.8044, -1.7870, -1.7870]]],\n",
       " \n",
       " \n",
       "         [[[ 1.8208,  1.8208,  1.8037,  ...,  1.9578,  1.9407,  1.9235],\n",
       "           [ 1.8208,  1.8379,  1.8037,  ...,  1.9578,  1.9407,  1.9749],\n",
       "           [ 1.8379,  1.8379,  1.8379,  ...,  1.9578,  1.9749,  1.9749],\n",
       "           ...,\n",
       "           [ 1.3755,  1.3927,  1.3927,  ...,  1.5982,  1.5810,  1.6153],\n",
       "           [ 1.3755,  1.3755,  1.4269,  ...,  1.6153,  1.6324,  1.6324],\n",
       "           [ 1.3755,  1.3413,  1.3927,  ...,  1.5982,  1.6153,  1.6324]],\n",
       " \n",
       "          [[ 1.7808,  1.8333,  1.8508,  ...,  2.0609,  2.0434,  2.0609],\n",
       "           [ 1.7983,  1.8333,  1.8333,  ...,  2.0784,  2.0609,  2.0959],\n",
       "           [ 1.7983,  1.8333,  1.8508,  ...,  2.0784,  2.0959,  2.0959],\n",
       "           ...,\n",
       "           [ 1.4132,  1.4132,  1.4132,  ...,  1.7283,  1.7283,  1.7808],\n",
       "           [ 1.3957,  1.3957,  1.4482,  ...,  1.7283,  1.7458,  1.7633],\n",
       "           [ 1.3957,  1.3606,  1.4307,  ...,  1.6933,  1.7108,  1.7633]],\n",
       " \n",
       "          [[ 1.7163,  1.7511,  1.7511,  ...,  2.2217,  2.2043,  2.1868],\n",
       "           [ 1.7337,  1.7685,  1.7337,  ...,  2.2043,  2.1868,  2.2217],\n",
       "           [ 1.7685,  1.7860,  1.7685,  ...,  2.2043,  2.2217,  2.2217],\n",
       "           ...,\n",
       "           [ 1.4374,  1.4548,  1.3851,  ...,  1.7337,  1.7163,  1.7860],\n",
       "           [ 1.3677,  1.4025,  1.4200,  ...,  1.7337,  1.7511,  1.7511],\n",
       "           [ 1.2980,  1.2980,  1.3851,  ...,  1.6988,  1.7163,  1.7685]]],\n",
       " \n",
       " \n",
       "         [[[ 0.8961,  0.8961,  0.9132,  ...,  0.6563,  0.6563,  0.6563],\n",
       "           [ 0.9474,  0.9303,  0.9132,  ...,  0.6734,  0.6734,  0.6563],\n",
       "           [ 0.8618,  0.8276,  0.8447,  ...,  0.6734,  0.6734,  0.6563],\n",
       "           ...,\n",
       "           [-0.4054, -0.4054, -0.4397,  ...,  0.0056,  0.0056,  0.0227],\n",
       "           [-0.3027, -0.3541, -0.3883,  ..., -0.0801, -0.0458, -0.0116],\n",
       "           [-0.3027, -0.3369, -0.3883,  ..., -0.0972, -0.0287, -0.0116]],\n",
       " \n",
       "          [[ 0.8529,  0.8529,  0.8704,  ...,  0.6779,  0.6779,  0.6779],\n",
       "           [ 0.8354,  0.8179,  0.8354,  ...,  0.6779,  0.6604,  0.6604],\n",
       "           [ 0.7829,  0.7829,  0.7829,  ...,  0.6779,  0.6604,  0.6429],\n",
       "           ...,\n",
       "           [-0.5826, -0.5651, -0.6001,  ..., -0.2675, -0.2850, -0.2850],\n",
       "           [-0.4776, -0.5126, -0.5476,  ..., -0.3025, -0.3200, -0.3200],\n",
       "           [-0.4951, -0.5301, -0.5476,  ..., -0.3550, -0.3375, -0.3375]],\n",
       " \n",
       "          [[ 0.0256,  0.0431,  0.0779,  ..., -0.4973, -0.4973, -0.5147],\n",
       "           [ 0.1302,  0.1128,  0.1302,  ..., -0.4973, -0.4973, -0.5147],\n",
       "           [ 0.0779,  0.0082, -0.0092,  ..., -0.4973, -0.5147, -0.5147],\n",
       "           ...,\n",
       "           [-0.6193, -0.6018, -0.6367,  ..., -0.4275, -0.4450, -0.4275],\n",
       "           [-0.5321, -0.5670, -0.6018,  ..., -0.4798, -0.4624, -0.4450],\n",
       "           [-0.5495, -0.5670, -0.6018,  ..., -0.4275, -0.4101, -0.4101]]],\n",
       " \n",
       " \n",
       "         [[[-1.8953, -1.9638, -1.8953,  ...,  2.0777,  2.0777,  2.0777],\n",
       "           [-1.7925, -1.9124, -1.9295,  ...,  2.0777,  2.0777,  2.0777],\n",
       "           [-1.7412, -1.6555, -1.5185,  ...,  2.0777,  2.0777,  2.0777],\n",
       "           ...,\n",
       "           [-1.3644, -1.2445, -1.0733,  ..., -1.7583, -1.7754, -1.7412],\n",
       "           [-1.4500, -1.4329, -1.0390,  ..., -1.7754, -1.7754, -1.7240],\n",
       "           [-1.4158, -1.4843, -1.0390,  ..., -1.7925, -1.7412, -1.7583]],\n",
       " \n",
       "          [[-1.7906, -1.8081, -1.7381,  ...,  2.4286,  2.4286,  2.4286],\n",
       "           [-1.5980, -1.7906, -1.7906,  ...,  2.4286,  2.4286,  2.4286],\n",
       "           [-1.5105, -1.0903, -0.3025,  ...,  2.4286,  2.4286,  2.4286],\n",
       "           ...,\n",
       "           [-1.0903, -0.8803, -0.6702,  ..., -1.6155, -1.6506, -1.6331],\n",
       "           [-1.3529, -1.1954, -0.6702,  ..., -1.6681, -1.6681, -1.6155],\n",
       "           [-1.2829, -1.2479, -0.6702,  ..., -1.6856, -1.6506, -1.6506]],\n",
       " \n",
       "          [[-1.3513, -1.4384, -1.3164,  ...,  2.6226,  2.6226,  2.6226],\n",
       "           [-1.0376, -1.4036, -1.4210,  ...,  2.6226,  2.6226,  2.6226],\n",
       "           [-0.8807, -0.4798,  0.4614,  ...,  2.6226,  2.6226,  2.6226],\n",
       "           ...,\n",
       "           [-0.8633, -0.3927, -0.2532,  ..., -1.1073, -1.1073, -0.9853],\n",
       "           [-1.0201, -0.8110, -0.3230,  ..., -1.1421, -1.0027, -0.8807],\n",
       "           [-0.9330, -0.8981, -0.3055,  ..., -1.1421, -0.9330, -0.9156]]],\n",
       " \n",
       " \n",
       "         [[[ 1.0844,  1.0673,  1.0844,  ...,  0.8961,  0.8961,  0.9132],\n",
       "           [ 1.0502,  1.0673,  1.0844,  ...,  0.8961,  0.8961,  0.8961],\n",
       "           [ 1.0331,  1.0673,  1.0844,  ...,  0.8789,  0.8789,  0.8447],\n",
       "           ...,\n",
       "           [-0.5082, -0.5253, -0.5082,  ..., -0.3027, -0.3541, -0.3541],\n",
       "           [-0.5253, -0.5082, -0.4568,  ..., -0.3712, -0.3883, -0.3712],\n",
       "           [-0.4568, -0.4054, -0.3541,  ..., -0.3198, -0.3198, -0.3541]],\n",
       " \n",
       "          [[ 1.1331,  1.1681,  1.1681,  ...,  1.0280,  1.0280,  1.0455],\n",
       "           [ 1.1331,  1.1506,  1.1681,  ...,  1.0280,  1.0280,  1.0280],\n",
       "           [ 1.0980,  1.1155,  1.1506,  ...,  1.0105,  1.0105,  0.9755],\n",
       "           ...,\n",
       "           [-0.2325, -0.2325, -0.2150,  ..., -0.0924, -0.0924, -0.0924],\n",
       "           [-0.2500, -0.2325, -0.2150,  ..., -0.1275, -0.1275, -0.1099],\n",
       "           [-0.2150, -0.1975, -0.1625,  ..., -0.0749, -0.0749, -0.0924]],\n",
       " \n",
       "          [[ 1.4200,  1.4200,  1.4025,  ...,  1.3677,  1.3502,  1.3502],\n",
       "           [ 1.4025,  1.4200,  1.4200,  ...,  1.3677,  1.3502,  1.3502],\n",
       "           [ 1.4025,  1.4025,  1.4200,  ...,  1.3677,  1.3328,  1.3328],\n",
       "           ...,\n",
       "           [ 0.7925,  0.8099,  0.8099,  ...,  0.8448,  0.8274,  0.8448],\n",
       "           [ 0.7925,  0.7925,  0.8274,  ...,  0.8622,  0.8622,  0.8622],\n",
       "           [ 0.8099,  0.8099,  0.8274,  ...,  0.8622,  0.8622,  0.8448]]]]),\n",
       " (tensor([ 1.,  1.,  1.,  1.,  1.,  1.,  1.,  1.,  1.,  1.]),\n",
       "  tensor([ 1.,  1.,  1.,  0.,  0.,  1.,  1.,  1.,  1.,  1.]),\n",
       "  tensor([  4.,   4.,   4.,   4.,   4.,   7.,   4.,  13.,   4.,   4.]),\n",
       "  tensor([  73.,   73.,  679.,   93.,  518.]),\n",
       "  tensor([ 115.,  115.,  115.,  115.,  115.,  115.,  115.,  115.,  115.,\n",
       "           115.])))"
      ]
     },
     "execution_count": 67,
     "metadata": {},
     "output_type": "execute_result"
    }
   ],
   "source": [
    "iter(data_loader).next()"
   ]
  },
  {
   "cell_type": "code",
   "execution_count": null,
   "metadata": {
    "collapsed": true
   },
   "outputs": [],
   "source": []
  }
 ],
 "metadata": {
  "kernelspec": {
   "display_name": "Python 3",
   "language": "python",
   "name": "python3"
  },
  "language_info": {
   "codemirror_mode": {
    "name": "ipython",
    "version": 3
   },
   "file_extension": ".py",
   "mimetype": "text/x-python",
   "name": "python",
   "nbconvert_exporter": "python",
   "pygments_lexer": "ipython3",
   "version": "3.5.2"
  },
  "toc": {
   "base_numbering": 1,
   "nav_menu": {},
   "number_sections": false,
   "sideBar": true,
   "skip_h1_title": false,
   "title_cell": "Table of Contents",
   "title_sidebar": "Contents",
   "toc_cell": false,
   "toc_position": {
    "height": "calc(100% - 180px)",
    "left": "10px",
    "top": "150px",
    "width": "199px"
   },
   "toc_section_display": true,
   "toc_window_display": true
  },
  "varInspector": {
   "cols": {
    "lenName": 16,
    "lenType": 16,
    "lenVar": 40
   },
   "kernels_config": {
    "python": {
     "delete_cmd_postfix": "",
     "delete_cmd_prefix": "del ",
     "library": "var_list.py",
     "varRefreshCmd": "print(var_dic_list())"
    },
    "r": {
     "delete_cmd_postfix": ") ",
     "delete_cmd_prefix": "rm(",
     "library": "var_list.r",
     "varRefreshCmd": "cat(var_dic_list()) "
    }
   },
   "position": {
    "height": "326px",
    "left": "951.333px",
    "right": "20px",
    "top": "70px",
    "width": "394px"
   },
   "types_to_exclude": [
    "module",
    "function",
    "builtin_function_or_method",
    "instance",
    "_Feature"
   ],
   "window_display": false
  }
 },
 "nbformat": 4,
 "nbformat_minor": 2
}
