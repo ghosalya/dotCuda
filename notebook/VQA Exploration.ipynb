{
 "cells": [
  {
   "cell_type": "code",
   "execution_count": 1,
   "metadata": {
    "ExecuteTime": {
     "end_time": "2018-07-09T17:04:16.197426Z",
     "start_time": "2018-07-09T17:04:15.783693Z"
    },
    "collapsed": true
   },
   "outputs": [],
   "source": [
    "%matplotlib inline\n",
    "import os"
   ]
  },
  {
   "cell_type": "markdown",
   "metadata": {
    "ExecuteTime": {
     "end_time": "2018-07-09T17:04:28.143888Z",
     "start_time": "2018-07-09T17:04:28.140249Z"
    }
   },
   "source": [
    "Data folder structure\n",
    "--"
   ]
  },
  {
   "cell_type": "code",
   "execution_count": 3,
   "metadata": {
    "ExecuteTime": {
     "end_time": "2018-07-09T17:04:39.830855Z",
     "start_time": "2018-07-09T17:04:39.823173Z"
    }
   },
   "outputs": [
    {
     "data": {
      "text/plain": [
       "['v2_mscoco_val2014_complementary_pairs.json',\n",
       " 'v2_Questions_Val_mscoco.zip',\n",
       " 'v2_mscoco_val2014_annotations.json',\n",
       " 'v2_OpenEnded_mscoco_val2014_questions.json',\n",
       " 'v2_mscoco_train2014_annotations.json',\n",
       " 'annotations',\n",
       " 'train2014',\n",
       " 'v2_OpenEnded_mscoco_train2014_questions.json',\n",
       " 'v2_Questions_Train_mscoco.zip',\n",
       " 'v2_mscoco_train2014_complementary_pairs.json',\n",
       " 'val2014']"
      ]
     },
     "execution_count": 3,
     "metadata": {},
     "output_type": "execute_result"
    }
   ],
   "source": [
    "dataDir ='../../data2'\n",
    "os.listdir(dataDir)"
   ]
  },
  {
   "cell_type": "markdown",
   "metadata": {},
   "source": [
    "Notes on data folder\n",
    "--\n",
    "- `annotations`: not required, only for image captioning\n",
    "- `train2014` and `val2014`: img folders with format e.g. `COCO_val2014_000000059710.jpg`\n",
    "- `v2_Questions_Train_mscoco.zip` and `v2_Questions_Val_mscoco.zip`: unzip into respective questions `json`"
   ]
  },
  {
   "cell_type": "code",
   "execution_count": 4,
   "metadata": {
    "ExecuteTime": {
     "end_time": "2018-07-09T17:05:22.324947Z",
     "start_time": "2018-07-09T17:05:22.319248Z"
    },
    "collapsed": true
   },
   "outputs": [],
   "source": [
    "from vqaTools.vqa import VQA\n",
    "\n",
    "dataDir ='../../data2'\n",
    "versionType ='v2_' # this should be '' when using VQA v2.0 dataset\n",
    "taskType ='OpenEnded' # 'OpenEnded' only for v2.0. 'OpenEnded' or 'MultipleChoice' for v1.0\n",
    "dataType ='mscoco'  # 'mscoco' only for v1.0. 'mscoco' for real and 'abstract_v002' for abstract for v1.0.\n",
    "dataSubType ='train2014'\n",
    "annFile ='{}/{}{}_{}_annotations.json'.format(dataDir, versionType, dataType, dataSubType)\n",
    "quesFile ='{}/{}{}_{}_{}_questions.json'.format(dataDir, versionType, taskType, dataType, dataSubType)\n",
    "imgDir = '{}/{}/'.format(dataDir, dataSubType)\n"
   ]
  },
  {
   "cell_type": "code",
   "execution_count": 5,
   "metadata": {
    "ExecuteTime": {
     "end_time": "2018-07-09T17:05:46.039410Z",
     "start_time": "2018-07-09T17:05:32.312357Z"
    }
   },
   "outputs": [
    {
     "name": "stdout",
     "output_type": "stream",
     "text": [
      "loading VQA annotations and questions into memory...\n",
      "0:00:11.445018\n",
      "creating index...\n",
      "index created!\n"
     ]
    }
   ],
   "source": [
    "# initialize VQA api for QA annotations\n",
    "vqa = VQA(annFile, quesFile)"
   ]
  },
  {
   "cell_type": "markdown",
   "metadata": {
    "ExecuteTime": {
     "end_time": "2018-07-09T17:05:46.054644Z",
     "start_time": "2018-07-09T17:05:46.050907Z"
    }
   },
   "source": [
    "Questions\n",
    "--"
   ]
  },
  {
   "cell_type": "markdown",
   "metadata": {
    "ExecuteTime": {
     "end_time": "2018-07-09T17:06:02.030046Z",
     "start_time": "2018-07-09T17:06:02.024116Z"
    }
   },
   "source": [
    "### Structure\n",
    "```\n",
    "{\n",
    "\"info\" : info,\n",
    "\"task_type\" : str,\n",
    "\"data_type\": str,\n",
    "\"data_subtype\": str,\n",
    "\"questions\" : [question],\n",
    "\"license\" : license\n",
    "}\n",
    "\n",
    "info {\n",
    "\"year\" : int,\n",
    "\"version\" : str,\n",
    "\"description\" : str,\n",
    "\"contributor\" : str,\n",
    "\"url\" : str,\n",
    "\"date_created\" : datetime\n",
    "}\n",
    "\n",
    "license{\n",
    "\"name\" : str,\n",
    "\"url\" : str\n",
    "}\n",
    "\n",
    "question{\n",
    "\"question_id\" : int,\n",
    "\"image_id\" : int,\n",
    "\"question\" : str\n",
    "}\n",
    "```"
   ]
  },
  {
   "cell_type": "markdown",
   "metadata": {},
   "source": [
    "### Accessing keys"
   ]
  },
  {
   "cell_type": "code",
   "execution_count": 8,
   "metadata": {
    "ExecuteTime": {
     "end_time": "2018-07-09T17:06:25.464151Z",
     "start_time": "2018-07-09T17:06:25.456148Z"
    }
   },
   "outputs": [
    {
     "data": {
      "text/plain": [
       "['info', 'task_type', 'data_type', 'license', 'data_subtype', 'questions']"
      ]
     },
     "execution_count": 8,
     "metadata": {},
     "output_type": "execute_result"
    }
   ],
   "source": [
    "list(vqa.questions.keys())"
   ]
  },
  {
   "cell_type": "markdown",
   "metadata": {},
   "source": [
    "### `question` dict "
   ]
  },
  {
   "cell_type": "code",
   "execution_count": 9,
   "metadata": {
    "ExecuteTime": {
     "end_time": "2018-07-09T17:06:47.956498Z",
     "start_time": "2018-07-09T17:06:47.944034Z"
    }
   },
   "outputs": [
    {
     "data": {
      "text/plain": [
       "[{'image_id': 458752,\n",
       "  'question': 'What is this photo taken looking through?',\n",
       "  'question_id': 458752000},\n",
       " {'image_id': 458752,\n",
       "  'question': 'What position is this man playing?',\n",
       "  'question_id': 458752001},\n",
       " {'image_id': 458752,\n",
       "  'question': 'What color is the players shirt?',\n",
       "  'question_id': 458752002}]"
      ]
     },
     "execution_count": 9,
     "metadata": {},
     "output_type": "execute_result"
    }
   ],
   "source": [
    "list(vqa.questions['questions'])[0:3]"
   ]
  },
  {
   "cell_type": "markdown",
   "metadata": {},
   "source": [
    "#### Accessing items in `question` dict by `question_id`"
   ]
  },
  {
   "cell_type": "code",
   "execution_count": 10,
   "metadata": {
    "ExecuteTime": {
     "end_time": "2018-07-09T17:07:09.146907Z",
     "start_time": "2018-07-09T17:07:09.142770Z"
    }
   },
   "outputs": [
    {
     "data": {
      "text/plain": [
       "{'image_id': 458752,\n",
       " 'question': 'What is this photo taken looking through?',\n",
       " 'question_id': 458752000}"
      ]
     },
     "execution_count": 10,
     "metadata": {},
     "output_type": "execute_result"
    }
   ],
   "source": [
    "vqa.qqa[458752000]"
   ]
  },
  {
   "cell_type": "markdown",
   "metadata": {},
   "source": [
    "Annotation\n",
    "--"
   ]
  },
  {
   "cell_type": "markdown",
   "metadata": {},
   "source": [
    "### Structure\n",
    "\n",
    "```\n",
    "{\n",
    "\"info\" : info,\n",
    "\"data_type\": str,\n",
    "\"data_subtype\": str,\n",
    "\"annotations\" : [annotation],\n",
    "\"license\" : license\n",
    "}\n",
    "\n",
    "info {\n",
    "\"year\" : int,\n",
    "\"version\" : str,\n",
    "\"description\" : str,\n",
    "\"contributor\" : str,\n",
    "\"url\" : str,\n",
    "\"date_created\" : datetime\n",
    "}\n",
    "\n",
    "license{\n",
    "\"name\" : str,\n",
    "\"url\" : str\n",
    "}\n",
    "\n",
    "annotation{\n",
    "\"question_id\" : int,\n",
    "\"image_id\" : int,\n",
    "\"question_type\" : str,\n",
    "\"answer_type\" : str,\n",
    "\"answers\" : [answer],\n",
    "\"multiple_choice_answer\" : str\n",
    "}\n",
    "\n",
    "answer{\n",
    "\"answer_id\" : int,\n",
    "\"answer\" : str,\n",
    "\"answer_confidence\": str\n",
    "}\n",
    "```"
   ]
  },
  {
   "cell_type": "markdown",
   "metadata": {},
   "source": [
    "### Accessing keys"
   ]
  },
  {
   "cell_type": "code",
   "execution_count": 12,
   "metadata": {
    "ExecuteTime": {
     "end_time": "2018-07-09T17:08:22.991157Z",
     "start_time": "2018-07-09T17:08:22.986615Z"
    }
   },
   "outputs": [
    {
     "data": {
      "text/plain": [
       "['info', 'license', 'data_subtype', 'annotations', 'data_type']"
      ]
     },
     "execution_count": 12,
     "metadata": {},
     "output_type": "execute_result"
    }
   ],
   "source": [
    "list(vqa.dataset.keys())"
   ]
  },
  {
   "cell_type": "markdown",
   "metadata": {},
   "source": [
    "### `annotation` dict "
   ]
  },
  {
   "cell_type": "code",
   "execution_count": 13,
   "metadata": {
    "ExecuteTime": {
     "end_time": "2018-07-09T17:08:42.459835Z",
     "start_time": "2018-07-09T17:08:42.437434Z"
    }
   },
   "outputs": [
    {
     "data": {
      "text/plain": [
       "[{'question_type': 'what is this',\n",
       "  'multiple_choice_answer': 'net',\n",
       "  'answers': [{'answer': 'net', 'answer_confidence': 'maybe', 'answer_id': 1},\n",
       "   {'answer': 'net', 'answer_confidence': 'yes', 'answer_id': 2},\n",
       "   {'answer': 'net', 'answer_confidence': 'yes', 'answer_id': 3},\n",
       "   {'answer': 'netting', 'answer_confidence': 'yes', 'answer_id': 4},\n",
       "   {'answer': 'net', 'answer_confidence': 'yes', 'answer_id': 5},\n",
       "   {'answer': 'net', 'answer_confidence': 'yes', 'answer_id': 6},\n",
       "   {'answer': 'mesh', 'answer_confidence': 'maybe', 'answer_id': 7},\n",
       "   {'answer': 'net', 'answer_confidence': 'yes', 'answer_id': 8},\n",
       "   {'answer': 'net', 'answer_confidence': 'yes', 'answer_id': 9},\n",
       "   {'answer': 'net', 'answer_confidence': 'yes', 'answer_id': 10}],\n",
       "  'image_id': 458752,\n",
       "  'answer_type': 'other',\n",
       "  'question_id': 458752000},\n",
       " {'question_type': 'what',\n",
       "  'multiple_choice_answer': 'pitcher',\n",
       "  'answers': [{'answer': 'pitcher',\n",
       "    'answer_confidence': 'yes',\n",
       "    'answer_id': 1},\n",
       "   {'answer': 'catcher', 'answer_confidence': 'no', 'answer_id': 2},\n",
       "   {'answer': 'pitcher', 'answer_confidence': 'yes', 'answer_id': 3},\n",
       "   {'answer': 'pitcher', 'answer_confidence': 'yes', 'answer_id': 4},\n",
       "   {'answer': 'pitcher', 'answer_confidence': 'yes', 'answer_id': 5},\n",
       "   {'answer': 'pitcher', 'answer_confidence': 'yes', 'answer_id': 6},\n",
       "   {'answer': 'pitcher', 'answer_confidence': 'yes', 'answer_id': 7},\n",
       "   {'answer': 'pitcher', 'answer_confidence': 'yes', 'answer_id': 8},\n",
       "   {'answer': 'pitcher', 'answer_confidence': 'yes', 'answer_id': 9},\n",
       "   {'answer': 'pitcher', 'answer_confidence': 'yes', 'answer_id': 10}],\n",
       "  'image_id': 458752,\n",
       "  'answer_type': 'other',\n",
       "  'question_id': 458752001}]"
      ]
     },
     "execution_count": 13,
     "metadata": {},
     "output_type": "execute_result"
    }
   ],
   "source": [
    "list(vqa.dataset['annotations'])[0:2]"
   ]
  },
  {
   "cell_type": "markdown",
   "metadata": {},
   "source": [
    "#### Accessing items in `annotation` dict by `question_id` "
   ]
  },
  {
   "cell_type": "code",
   "execution_count": 14,
   "metadata": {
    "ExecuteTime": {
     "end_time": "2018-07-09T17:09:03.300596Z",
     "start_time": "2018-07-09T17:09:03.295593Z"
    }
   },
   "outputs": [
    {
     "data": {
      "text/plain": [
       "{'question_type': 'what is this',\n",
       " 'multiple_choice_answer': 'net',\n",
       " 'answers': [{'answer': 'net', 'answer_confidence': 'maybe', 'answer_id': 1},\n",
       "  {'answer': 'net', 'answer_confidence': 'yes', 'answer_id': 2},\n",
       "  {'answer': 'net', 'answer_confidence': 'yes', 'answer_id': 3},\n",
       "  {'answer': 'netting', 'answer_confidence': 'yes', 'answer_id': 4},\n",
       "  {'answer': 'net', 'answer_confidence': 'yes', 'answer_id': 5},\n",
       "  {'answer': 'net', 'answer_confidence': 'yes', 'answer_id': 6},\n",
       "  {'answer': 'mesh', 'answer_confidence': 'maybe', 'answer_id': 7},\n",
       "  {'answer': 'net', 'answer_confidence': 'yes', 'answer_id': 8},\n",
       "  {'answer': 'net', 'answer_confidence': 'yes', 'answer_id': 9},\n",
       "  {'answer': 'net', 'answer_confidence': 'yes', 'answer_id': 10}],\n",
       " 'image_id': 458752,\n",
       " 'answer_type': 'other',\n",
       " 'question_id': 458752000}"
      ]
     },
     "execution_count": 14,
     "metadata": {},
     "output_type": "execute_result"
    }
   ],
   "source": [
    "vqa.qa[458752000]"
   ]
  },
  {
   "cell_type": "code",
   "execution_count": 15,
   "metadata": {
    "ExecuteTime": {
     "end_time": "2018-07-09T17:09:14.997979Z",
     "start_time": "2018-07-09T17:09:14.991498Z"
    }
   },
   "outputs": [
    {
     "data": {
      "text/plain": [
       "[{'question_type': 'is this',\n",
       "  'multiple_choice_answer': 'yes',\n",
       "  'answers': [{'answer': 'yes', 'answer_confidence': 'yes', 'answer_id': 1},\n",
       "   {'answer': 'yes', 'answer_confidence': 'yes', 'answer_id': 2},\n",
       "   {'answer': 'yes', 'answer_confidence': 'maybe', 'answer_id': 3},\n",
       "   {'answer': 'yes', 'answer_confidence': 'yes', 'answer_id': 4},\n",
       "   {'answer': 'yes', 'answer_confidence': 'maybe', 'answer_id': 5},\n",
       "   {'answer': 'no', 'answer_confidence': 'maybe', 'answer_id': 6},\n",
       "   {'answer': 'yes', 'answer_confidence': 'yes', 'answer_id': 7},\n",
       "   {'answer': 'yes', 'answer_confidence': 'yes', 'answer_id': 8},\n",
       "   {'answer': 'yes', 'answer_confidence': 'yes', 'answer_id': 9},\n",
       "   {'answer': 'yes', 'answer_confidence': 'maybe', 'answer_id': 10}],\n",
       "  'image_id': 458752,\n",
       "  'answer_type': 'yes/no',\n",
       "  'question_id': 458752003},\n",
       " {'answer_type': 'other',\n",
       "  'multiple_choice_answer': 'orange',\n",
       "  'answers': [{'answer': 'orange', 'answer_confidence': 'yes', 'answer_id': 1},\n",
       "   {'answer': 'orange', 'answer_confidence': 'yes', 'answer_id': 2},\n",
       "   {'answer': 'orange', 'answer_confidence': 'maybe', 'answer_id': 3},\n",
       "   {'answer': 'orange', 'answer_confidence': 'yes', 'answer_id': 4},\n",
       "   {'answer': 'orange', 'answer_confidence': 'yes', 'answer_id': 5},\n",
       "   {'answer': 'orange', 'answer_confidence': 'yes', 'answer_id': 6},\n",
       "   {'answer': 'orange', 'answer_confidence': 'yes', 'answer_id': 7},\n",
       "   {'answer': 'orange', 'answer_confidence': 'yes', 'answer_id': 8},\n",
       "   {'answer': 'orange', 'answer_confidence': 'yes', 'answer_id': 9},\n",
       "   {'answer': 'orange', 'answer_confidence': 'yes', 'answer_id': 10}],\n",
       "  'image_id': 458752,\n",
       "  'question_type': 'what color is the',\n",
       "  'question_id': 458752002},\n",
       " {'question_type': 'what',\n",
       "  'multiple_choice_answer': 'pitcher',\n",
       "  'answers': [{'answer': 'pitcher',\n",
       "    'answer_confidence': 'yes',\n",
       "    'answer_id': 1},\n",
       "   {'answer': 'catcher', 'answer_confidence': 'no', 'answer_id': 2},\n",
       "   {'answer': 'pitcher', 'answer_confidence': 'yes', 'answer_id': 3},\n",
       "   {'answer': 'pitcher', 'answer_confidence': 'yes', 'answer_id': 4},\n",
       "   {'answer': 'pitcher', 'answer_confidence': 'yes', 'answer_id': 5},\n",
       "   {'answer': 'pitcher', 'answer_confidence': 'yes', 'answer_id': 6},\n",
       "   {'answer': 'pitcher', 'answer_confidence': 'yes', 'answer_id': 7},\n",
       "   {'answer': 'pitcher', 'answer_confidence': 'yes', 'answer_id': 8},\n",
       "   {'answer': 'pitcher', 'answer_confidence': 'yes', 'answer_id': 9},\n",
       "   {'answer': 'pitcher', 'answer_confidence': 'yes', 'answer_id': 10}],\n",
       "  'image_id': 458752,\n",
       "  'answer_type': 'other',\n",
       "  'question_id': 458752001}]"
      ]
     },
     "execution_count": 15,
     "metadata": {},
     "output_type": "execute_result"
    }
   ],
   "source": [
    "vqa.loadQA([458752003, 458752002, 458752001])"
   ]
  },
  {
   "cell_type": "code",
   "execution_count": null,
   "metadata": {
    "collapsed": true
   },
   "outputs": [],
   "source": []
  }
 ],
 "metadata": {
  "kernelspec": {
   "display_name": "Python [conda env:AI_Proj]",
   "language": "python",
   "name": "conda-env-AI_Proj-py"
  },
  "language_info": {
   "codemirror_mode": {
    "name": "ipython",
    "version": 3
   },
   "file_extension": ".py",
   "mimetype": "text/x-python",
   "name": "python",
   "nbconvert_exporter": "python",
   "pygments_lexer": "ipython3",
   "version": "3.6.5"
  },
  "toc": {
   "base_numbering": 1,
   "nav_menu": {},
   "number_sections": false,
   "sideBar": true,
   "skip_h1_title": false,
   "title_cell": "Table of Contents",
   "title_sidebar": "Contents",
   "toc_cell": false,
   "toc_position": {},
   "toc_section_display": true,
   "toc_window_display": false
  },
  "varInspector": {
   "cols": {
    "lenName": 16,
    "lenType": 16,
    "lenVar": 40
   },
   "kernels_config": {
    "python": {
     "delete_cmd_postfix": "",
     "delete_cmd_prefix": "del ",
     "library": "var_list.py",
     "varRefreshCmd": "print(var_dic_list())"
    },
    "r": {
     "delete_cmd_postfix": ") ",
     "delete_cmd_prefix": "rm(",
     "library": "var_list.r",
     "varRefreshCmd": "cat(var_dic_list()) "
    }
   },
   "types_to_exclude": [
    "module",
    "function",
    "builtin_function_or_method",
    "instance",
    "_Feature"
   ],
   "window_display": false
  }
 },
 "nbformat": 4,
 "nbformat_minor": 2
}
