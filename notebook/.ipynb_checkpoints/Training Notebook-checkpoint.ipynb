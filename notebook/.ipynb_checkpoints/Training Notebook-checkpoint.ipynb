{
 "cells": [
  {
   "cell_type": "markdown",
   "metadata": {},
   "source": [
    "# Training Session"
   ]
  },
  {
   "cell_type": "code",
   "execution_count": 12,
   "metadata": {
    "ExecuteTime": {
     "end_time": "2018-07-12T03:08:03.759316Z",
     "start_time": "2018-07-12T03:08:03.756487Z"
    },
    "collapsed": true
   },
   "outputs": [],
   "source": [
    "import pickle\n",
    "\n",
    "from build_vocab import *\n",
    "from build_answers import *\n"
   ]
  },
  {
   "cell_type": "code",
   "execution_count": 13,
   "metadata": {
    "ExecuteTime": {
     "end_time": "2018-07-12T03:08:05.293483Z",
     "start_time": "2018-07-12T03:08:05.276438Z"
    },
    "collapsed": true
   },
   "outputs": [],
   "source": [
    "# train2014\n",
    "answers_path = '/home/ubuntu/dotCuda/notebook/answers.pkl'\n",
    "with open(answers_path, 'rb') as f:\n",
    "    answers = pickle.load(f)\n",
    "\n",
    "vocab_path = '../../dotCuda/notebook/vocab.pkl'\n",
    "with open(vocab_path, 'rb') as f:\n",
    "    vocab = pickle.load(f)\n",
    "    \n",
    "# val2014\n",
    "answers_path = '/home/ubuntu/dotCuda/notebook/valanswers.pkl'\n",
    "with open(answers_path, 'rb') as f:\n",
    "    valanswers = pickle.load(f)\n",
    "\n",
    "vocab_path = '../../dotCuda/notebook/valvocab.pkl'\n",
    "with open(vocab_path, 'rb') as f:\n",
    "    valvocab = pickle.load(f)"
   ]
  },
  {
   "cell_type": "code",
   "execution_count": 14,
   "metadata": {
    "ExecuteTime": {
     "end_time": "2018-07-12T03:08:33.404290Z",
     "start_time": "2018-07-12T03:08:06.264131Z"
    }
   },
   "outputs": [
    {
     "name": "stdout",
     "output_type": "stream",
     "text": [
      "loading VQA annotations and questions into memory...\n",
      "0:00:09.608138\n",
      "creating index...\n",
      "index created!\n",
      "loading VQA annotations and questions into memory...\n",
      "0:00:08.873741\n",
      "creating index...\n",
      "index created!\n"
     ]
    }
   ],
   "source": [
    "from dataset import *\n",
    "\n",
    "train_dataset = COCODataset(vocab=vocab, answers=answers)\n",
    "val_dataset = COCODataset(vocab=valvocab, answers=valanswers)"
   ]
  },
  {
   "cell_type": "markdown",
   "metadata": {
    "ExecuteTime": {
     "end_time": "2018-07-10T12:30:16.457121Z",
     "start_time": "2018-07-10T12:30:16.454260Z"
    }
   },
   "source": [
    "### Network Model"
   ]
  },
  {
   "cell_type": "code",
   "execution_count": 15,
   "metadata": {
    "ExecuteTime": {
     "end_time": "2018-07-12T03:08:33.428844Z",
     "start_time": "2018-07-12T03:08:33.425854Z"
    },
    "collapsed": true
   },
   "outputs": [],
   "source": [
    "# import network \n",
    "from network_v5 import *"
   ]
  },
  {
   "cell_type": "code",
   "execution_count": 16,
   "metadata": {
    "ExecuteTime": {
     "end_time": "2018-07-12T03:08:50.661732Z",
     "start_time": "2018-07-12T03:08:45.110682Z"
    },
    "collapsed": true
   },
   "outputs": [],
   "source": [
    "import torch\n",
    "device = torch.device('cuda')\n",
    "\n",
    "vocab_size = len(vocab)\n",
    "model = ConcatNet(vocab_size).to(device)\n",
    "\n",
    "state_dict = torch.load('model_epoch2.pt')\n",
    "model.load_state_dict(state_dict)"
   ]
  },
  {
   "cell_type": "markdown",
   "metadata": {},
   "source": [
    "### Trainer Class"
   ]
  },
  {
   "cell_type": "code",
   "execution_count": 17,
   "metadata": {
    "ExecuteTime": {
     "end_time": "2018-07-12T03:08:58.825946Z",
     "start_time": "2018-07-12T03:08:58.820828Z"
    },
    "collapsed": true
   },
   "outputs": [],
   "source": [
    "# import trainer\n",
    "from trainer import VQATrainer\n",
    "\n",
    "trainer = VQATrainer(model, device)"
   ]
  },
  {
   "cell_type": "markdown",
   "metadata": {},
   "source": [
    "### Train!"
   ]
  },
  {
   "cell_type": "code",
   "execution_count": 18,
   "metadata": {
    "ExecuteTime": {
     "end_time": "2018-07-12T03:09:07.677338Z",
     "start_time": "2018-07-12T03:09:07.674231Z"
    }
   },
   "outputs": [],
   "source": [
    "#trained_model, statistics = trainer.train(train_dataset, val_dataset, save_every=50, collate_fn=collate, e_break=1, epoch=100)"
   ]
  },
  {
   "cell_type": "code",
   "execution_count": 11,
   "metadata": {
    "ExecuteTime": {
     "end_time": "2018-07-11T15:00:17.895877Z",
     "start_time": "2018-07-11T15:00:17.683710Z"
    }
   },
   "outputs": [
    {
     "data": {
      "image/png": "[encoded data removed]",
      "text/plain": [
       "<Figure size 432x288 with 2 Axes>"
      ]
     },
     "metadata": {},
     "output_type": "display_data"
    }
   ],
   "source": [
    "# import pickle\n",
    "\n",
    "# with open('stats.st', 'rb') as statfile:\n",
    "#     statistic = pickle.load(statfile)\n",
    "    \n",
    "# #print(statistic)\n",
    "\n",
    "# #trainer.plot_over_epoch()\n",
    "# from trainer import VQATrainer\n",
    "\n",
    "# trainer = VQATrainer(None, None)\n",
    "# trainer.statistics = statistic\n",
    "\n",
    "trainer.plot_over_epoch()"
   ]
  },
  {
   "cell_type": "code",
   "execution_count": 37,
   "metadata": {
    "ExecuteTime": {
     "end_time": "2018-07-12T03:28:53.157274Z",
     "start_time": "2018-07-12T03:28:48.258356Z"
    }
   },
   "outputs": [],
   "source": [
    "from torchvision import transforms\n",
    "import matplotlib.pyplot as plt\n",
    "import random\n",
    "\n",
    "vocab_size = len(vocab)\n",
    "model = ConcatNet(vocab_size).to(device)\n",
    "\n",
    "state_dict = torch.load('model_epoch2.pt')\n",
    "model.load_state_dict(state_dict)\n",
    "    "
   ]
  },
  {
   "cell_type": "code",
   "execution_count": 43,
   "metadata": {
    "ExecuteTime": {
     "end_time": "2018-07-12T03:32:55.884194Z",
     "start_time": "2018-07-12T03:32:55.877544Z"
    },
    "collapsed": true
   },
   "outputs": [],
   "source": [
    "def get_loss(outputs, labels):\n",
    "    criterion = torch.nn.CrossEntropyLoss()\n",
    "     # handling loss\n",
    "    total_loss = None\n",
    "    for i, label in enumerate(labels): # loop by batch\n",
    "        one_data_loss = None\n",
    "        print(label)\n",
    "        if list(label.size())[0] < 3:\n",
    "            continue\n",
    "        for j in range(list(label.size())[0]):\n",
    "            if one_data_loss is None:\n",
    "                one_data_loss = criterion(outputs[i:i+1].float(), label[j:j+1].long())\n",
    "            else:\n",
    "                one_data_loss += criterion(outputs[i:i+1].float(), label[j:j+1].long())\n",
    "        one_data_loss = one_data_loss / list(label.size())[0]\n",
    "        # assigning to total loss\n",
    "        if total_loss is None:\n",
    "            total_loss = one_data_loss\n",
    "        else:\n",
    "            total_loss += one_data_loss\n",
    "\n",
    "    return total_loss"
   ]
  },
  {
   "cell_type": "code",
   "execution_count": 45,
   "metadata": {
    "ExecuteTime": {
     "end_time": "2018-07-12T03:33:22.557536Z",
     "start_time": "2018-07-12T03:33:21.000983Z"
    }
   },
   "outputs": [
    {
     "name": "stdout",
     "output_type": "stream",
     "text": [
      "\n",
      "qn no 8\n",
      "question: <start> is the dog waiting ? <end>\n",
      "answer: black / red / white / 3 / yes / no / 2 / 1 / blue / 0\n",
      "label: yes / yes / yes / yes / yes / yes / yes / yes / yes / yes\n",
      "accuracy 1.0\n",
      "loss tensor(8.0064, device='cuda:0')\n",
      "\n",
      "qn no 2\n",
      "question: <start> what color is the players shirt ? <end>\n",
      "answer: black / red / white / 3 / yes / no / 2 / 1 / blue / 0\n",
      "label: orange / orange / orange / orange / orange / orange / orange / orange / orange / orange\n",
      "accuracy 1.0\n",
      "loss tensor(8.0064, device='cuda:0')\n",
      "\n",
      "qn no 6\n",
      "question: <start> what color is the persons headwear ? <end>\n",
      "answer: black / red / white / 3 / yes / no / 2 / 1 / blue / 0\n",
      "label: red / red / black / red / red / red / red / red / red and white\n",
      "accuracy 1.0\n",
      "loss tensor(8.0064, device='cuda:0')\n",
      "\n",
      "qn no 6\n",
      "question: <start> what color is the persons headwear ? <end>\n",
      "answer: black / red / white / 3 / yes / no / 2 / 1 / blue / 0\n",
      "label: red / red / black / red / red / red / red / red / red and white\n",
      "accuracy 1.0\n",
      "loss tensor(8.0064, device='cuda:0')\n",
      "\n",
      "qn no 1\n",
      "question: <start> what position is this man playing ? <end>\n",
      "answer: black / red / white / 3 / yes / no / 2 / 1 / blue / 0\n",
      "label: pitcher / catcher / pitcher / pitcher / pitcher / pitcher / pitcher / pitcher / pitcher / pitcher\n",
      "accuracy 1.0\n",
      "loss tensor(8.0064, device='cuda:0')\n",
      "\n",
      "qn no 8\n",
      "question: <start> is the dog waiting ? <end>\n",
      "answer: black / red / white / 3 / yes / no / 2 / 1 / blue / 0\n",
      "label: yes / yes / yes / yes / yes / yes / yes / yes / yes / yes\n",
      "accuracy 1.0\n",
      "loss tensor(8.0064, device='cuda:0')\n",
      "\n",
      "qn no 4\n",
      "question: <start> what color is the snow ? <end>\n",
      "answer: black / red / white / 3 / yes / no / 2 / 1 / blue / 0\n",
      "label: white / white / white / white / white / white / white / white / white / white\n",
      "accuracy 1.0\n",
      "loss tensor(8.0064, device='cuda:0')\n",
      "\n",
      "qn no 7\n",
      "question: <start> what is in the person 's hand ? <end>\n",
      "answer: black / red / white / 3 / yes / no / 2 / 1 / blue / 0\n",
      "label: frisbee / frisbee / frisbie / frisbee / frisbee / frisbee / frisbee / frisbee\n",
      "accuracy 1.0\n",
      "loss tensor(8.0064, device='cuda:0')\n"
     ]
    }
   ],
   "source": [
    "for idx in [random.randint(0, 8) for i in range(8)]:\n",
    "    print('\\nqn no', idx)\n",
    "    qns, img, ans = collate([train_dataset[idx]])\n",
    "    output = model(img.cuda(), qns.long().cuda())\n",
    "    _, pred = output.topk(10)\n",
    "    # print(qns, pred)\n",
    "\n",
    "    #pil_img = transforms.ToPILImage()(img)\n",
    "    #plt.imshow(pil_img)\n",
    "    qnss = ' '.join([vocab.idx2word[i.item()] for i in qns.data])\n",
    "    ans_ = ' / '.join([answers.idx2ans[j.item()] for j in pred[0]])\n",
    "    lbl = ' / '.join([answers.idx2ans[k.item()] for k in ans[0]])\n",
    "    print('question:', qnss)\n",
    "    print('answer:', ans_)\n",
    "    print('label:', lbl)\n",
    "    ans = [a.cuda() for a in ans]\n",
    "    print('accuracy', trainer.accuracy_fn(output.detach(), ans))\n",
    "    print('loss', get_loss(output, ans))"
   ]
  },
  {
   "cell_type": "code",
   "execution_count": null,
   "metadata": {
    "collapsed": true
   },
   "outputs": [],
   "source": []
  }
 ],
 "metadata": {
  "kernelspec": {
   "display_name": "Python [conda env:AI_Proj]",
   "language": "python",
   "name": "conda-env-AI_Proj-py"
  },
  "language_info": {
   "codemirror_mode": {
    "name": "ipython",
    "version": 3
   },
   "file_extension": ".py",
   "mimetype": "text/x-python",
   "name": "python",
   "nbconvert_exporter": "python",
   "pygments_lexer": "ipython3",
   "version": "3.6.5"
  },
  "toc": {
   "base_numbering": 1,
   "nav_menu": {},
   "number_sections": false,
   "sideBar": true,
   "skip_h1_title": false,
   "title_cell": "Table of Contents",
   "title_sidebar": "Contents",
   "toc_cell": false,
   "toc_position": {},
   "toc_section_display": true,
   "toc_window_display": false
  },
  "varInspector": {
   "cols": {
    "lenName": 16,
    "lenType": 16,
    "lenVar": 40
   },
   "kernels_config": {
    "python": {
     "delete_cmd_postfix": "",
     "delete_cmd_prefix": "del ",
     "library": "var_list.py",
     "varRefreshCmd": "print(var_dic_list())"
    },
    "r": {
     "delete_cmd_postfix": ") ",
     "delete_cmd_prefix": "rm(",
     "library": "var_list.r",
     "varRefreshCmd": "cat(var_dic_list()) "
    }
   },
   "types_to_exclude": [
    "module",
    "function",
    "builtin_function_or_method",
    "instance",
    "_Feature"
   ],
   "window_display": false
  }
 },
 "nbformat": 4,
 "nbformat_minor": 2
}
