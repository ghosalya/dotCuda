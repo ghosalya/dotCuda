{
 "cells": [
  {
   "cell_type": "markdown",
   "metadata": {},
   "source": [
    "### OpenEnded_mscoco_train2014_questions"
   ]
  },
  {
   "cell_type": "code",
   "execution_count": 1,
   "metadata": {},
   "outputs": [
    {
     "name": "stdout",
     "output_type": "stream",
     "text": [
      "dict_keys(['info', 'task_type', 'data_type', 'license', 'data_subtype', 'questions'])\n"
     ]
    }
   ],
   "source": [
    "import json\n",
    "\n",
    "with open('/home/ubuntu/data2/v2_OpenEnded_mscoco_train2014_questions.json') as qns:\n",
    "    qns_json = json.load(qns)\n",
    "    \n",
    "print(qns_json.keys())"
   ]
  },
  {
   "cell_type": "code",
   "execution_count": 6,
   "metadata": {},
   "outputs": [
    {
     "name": "stdout",
     "output_type": "stream",
     "text": [
      "image_id : 458752\n",
      "question : What position is this man playing?\n",
      "question_id : 458752001\n"
     ]
    }
   ],
   "source": [
    "for k, v in qns_json['questions'][1].items():\n",
    "    print(k,':',v)"
   ]
  },
  {
   "cell_type": "markdown",
   "metadata": {},
   "source": [
    "### annotations/captions_train2014.json"
   ]
  },
  {
   "cell_type": "code",
   "execution_count": 9,
   "metadata": {},
   "outputs": [
    {
     "name": "stdout",
     "output_type": "stream",
     "text": [
      "dict_keys(['info', 'images', 'licenses', 'annotations'])\n"
     ]
    }
   ],
   "source": [
    "with open('/home/ubuntu/data2/annotations/captions_train2014.json') as cap:\n",
    "    cap_json = json.load(cap)\n",
    "    \n",
    "print(cap_json.keys())"
   ]
  },
  {
   "cell_type": "code",
   "execution_count": 28,
   "metadata": {},
   "outputs": [
    {
     "name": "stdout",
     "output_type": "stream",
     "text": [
      "license : 3\n",
      "file_name : COCO_train2014_000000547471.jpg\n",
      "coco_url : http://images.cocodataset.org/train2014/COCO_train2014_000000547471.jpg\n",
      "height : 640\n",
      "width : 383\n",
      "date_captured : 2013-11-14 16:48:45\n",
      "flickr_url : http://farm7.staticflickr.com/6146/5976678628_8776fd68b0_z.jpg\n",
      "id : 547471\n"
     ]
    }
   ],
   "source": [
    "for k, v in cap_json['images'][5].items():\n",
    "    print(k,':',v)\n",
    "    \n",
    "#for k, v in cap_json['images'][0].items():\n",
    "    #print(k,':',v)"
   ]
  },
  {
   "cell_type": "code",
   "execution_count": 16,
   "metadata": {},
   "outputs": [
    {
     "name": "stdout",
     "output_type": "stream",
     "text": [
      "image_id : 116100\n",
      "id : 67\n",
      "caption : A panoramic view of a kitchen and all of its appliances.\n"
     ]
    }
   ],
   "source": [
    "for k, v in cap_json['annotations'][1].items():\n",
    "    print(k,':',v)"
   ]
  },
  {
   "cell_type": "markdown",
   "metadata": {},
   "source": [
    "### annotations/person_keypoints_train2014.json"
   ]
  },
  {
   "cell_type": "code",
   "execution_count": 19,
   "metadata": {},
   "outputs": [
    {
     "name": "stdout",
     "output_type": "stream",
     "text": [
      "dict_keys(['info', 'images', 'licenses', 'annotations', 'categories'])\n"
     ]
    }
   ],
   "source": [
    "with open('/home/ubuntu/data2/annotations/person_keypoints_train2014.json') as per:\n",
    "    per_json = json.load(per)\n",
    "    \n",
    "print(per_json.keys())"
   ]
  },
  {
   "cell_type": "code",
   "execution_count": 22,
   "metadata": {},
   "outputs": [
    {
     "name": "stdout",
     "output_type": "stream",
     "text": [
      "dict_keys(['license', 'file_name', 'coco_url', 'height', 'width', 'date_captured', 'flickr_url', 'id'])\n"
     ]
    }
   ],
   "source": [
    "print(per_json['images'][1].keys())"
   ]
  },
  {
   "cell_type": "code",
   "execution_count": 37,
   "metadata": {},
   "outputs": [
    {
     "name": "stdout",
     "output_type": "stream",
     "text": [
      "license : 3\n",
      "file_name : COCO_train2014_000000547471.jpg\n",
      "coco_url : http://images.cocodataset.org/train2014/COCO_train2014_000000547471.jpg\n",
      "height : 640\n",
      "width : 383\n",
      "date_captured : 2013-11-14 16:48:45\n",
      "flickr_url : http://farm7.staticflickr.com/6146/5976678628_8776fd68b0_z.jpg\n",
      "id : 547471\n",
      "\n",
      "count: 82783\n"
     ]
    }
   ],
   "source": [
    "for k, v in per_json['images'][5].items():\n",
    "    print(k,':',v)\n",
    "\n",
    "    \n",
    "print('\\ncount:', len(per_json['images']))"
   ]
  },
  {
   "cell_type": "code",
   "execution_count": 31,
   "metadata": {},
   "outputs": [
    {
     "name": "stdout",
     "output_type": "stream",
     "text": [
      "dict_keys(['supercategory', 'name', 'skeleton', 'keypoints', 'id'])\n"
     ]
    }
   ],
   "source": [
    "print(per_json['categories'][0].keys())"
   ]
  },
  {
   "cell_type": "code",
   "execution_count": 34,
   "metadata": {},
   "outputs": [
    {
     "name": "stdout",
     "output_type": "stream",
     "text": [
      "supercategory : person\n",
      "name : person\n",
      "skeleton : [[16, 14], [14, 12], [17, 15], [15, 13], [12, 13], [6, 12], [7, 13], [6, 7], [6, 8], [7, 9], [8, 10], [9, 11], [2, 3], [1, 2], [1, 3], [2, 4], [3, 5], [4, 6], [5, 7]]\n",
      "keypoints : ['nose', 'left_eye', 'right_eye', 'left_ear', 'right_ear', 'left_shoulder', 'right_shoulder', 'left_elbow', 'right_elbow', 'left_wrist', 'right_wrist', 'left_hip', 'right_hip', 'left_knee', 'right_knee', 'left_ankle', 'right_ankle']\n",
      "id : 1\n"
     ]
    }
   ],
   "source": [
    "for k, v in per_json['categories'][0].items():\n",
    "    print(k,':',v)"
   ]
  },
  {
   "cell_type": "code",
   "execution_count": 21,
   "metadata": {},
   "outputs": [
    {
     "name": "stdout",
     "output_type": "stream",
     "text": [
      "dict_keys(['segmentation', 'num_keypoints', 'area', 'iscrowd', 'keypoints', 'image_id', 'bbox', 'category_id', 'id'])\n"
     ]
    }
   ],
   "source": [
    "print(per_json['annotations'][1].keys())"
   ]
  },
  {
   "cell_type": "code",
   "execution_count": 20,
   "metadata": {},
   "outputs": [
    {
     "name": "stdout",
     "output_type": "stream",
     "text": [
      "segmentation : [[41.06, 411.11, 50.61, 388.19, 39.15, 360.5, 33.42, 298.42, 43.93, 286.96, 60.16, 266.91, 53.48, 241.13, 45.84, 197.2, 47.75, 170.46, 66.85, 143.72, 78.31, 129.4, 94.54, 121.76, 93.59, 115.07, 79.26, 90.24, 79.26, 73.05, 86.9, 68.28, 92.63, 26.26, 114.59, 11.94, 146.11, 11.94, 168.07, 14.8, 179.53, 36.77, 188.13, 66.37, 190.99, 74.96, 193.86, 81.65, 181.44, 114.12, 194.81, 134.17, 219.64, 168.55, 238.74, 205.79, 237.78, 209.61, 258.79, 231.58, 280.76, 259.27, 287.44, 270.73, 281.71, 286.01, 284.58, 296.51, 293.17, 297.47, 298.9, 297.47, 306.54, 316.57, 337.1, 331.85, 334.23, 345.22, 289.35, 354.77, 275.98, 353.81, 275.98, 328.03, 267.39, 309.88, 254.02, 292.69, 245.42, 286.01, 236.83, 276.46, 229.19, 268.82, 220.59, 267.86, 203.41, 267.86, 190.04, 278.37, 177.62, 286.01, 164.25, 294.6, 140.38, 308.93, 130.83, 321.34, 114.59, 323.25, 106, 331.85, 97.41, 336.62, 86.9, 336.62, 97.41, 382.46, 107.91, 397.74, 115.55, 403.47, 94.54, 419.7, 42.02, 419.7]]\n",
      "num_keypoints : 17\n",
      "area : 52541.14915\n",
      "iscrowd : 0\n",
      "keypoints : [145, 113, 2, 158, 96, 2, 124, 97, 2, 184, 85, 2, 84, 89, 2, 184, 141, 2, 77, 153, 2, 219, 205, 2, 67, 229, 2, 183, 193, 2, 125, 182, 2, 174, 279, 2, 97, 287, 2, 223, 230, 2, 50, 302, 2, 287, 312, 2, 70, 372, 2]\n",
      "image_id : 44474\n",
      "bbox : [33.42, 11.94, 303.68, 407.76]\n",
      "category_id : 1\n",
      "id : 183024\n"
     ]
    }
   ],
   "source": [
    "for k, v in per_json['annotations'][1].items():\n",
    "    print(k,':',v)"
   ]
  },
  {
   "cell_type": "code",
   "execution_count": null,
   "metadata": {
    "collapsed": true
   },
   "outputs": [],
   "source": []
  }
 ],
 "metadata": {
  "kernelspec": {
   "display_name": "Python 3",
   "language": "python",
   "name": "python3"
  },
  "language_info": {
   "codemirror_mode": {
    "name": "ipython",
    "version": 3
   },
   "file_extension": ".py",
   "mimetype": "text/x-python",
   "name": "python",
   "nbconvert_exporter": "python",
   "pygments_lexer": "ipython3",
   "version": "3.6.1"
  }
 },
 "nbformat": 4,
 "nbformat_minor": 2
}
