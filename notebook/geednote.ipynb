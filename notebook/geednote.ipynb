{
 "cells": [
  {
   "cell_type": "markdown",
   "metadata": {},
   "source": [
    "# Training Session"
   ]
  },
  {
   "cell_type": "code",
   "execution_count": 1,
   "metadata": {
    "ExecuteTime": {
     "end_time": "2018-07-12T16:51:08.106555Z",
     "start_time": "2018-07-12T16:51:07.951423Z"
    }
   },
   "outputs": [],
   "source": [
    "import pickle\n",
    "\n",
    "from build_vocab import *\n",
    "from build_answers import *"
   ]
  },
  {
   "cell_type": "code",
   "execution_count": 2,
   "metadata": {
    "ExecuteTime": {
     "end_time": "2018-07-12T16:51:11.442673Z",
     "start_time": "2018-07-12T16:51:11.428870Z"
    }
   },
   "outputs": [],
   "source": [
    "# train2014\n",
    "answers_path = '/home/ubuntu/dotCuda/notebook/answers.pkl'\n",
    "with open(answers_path, 'rb') as f:\n",
    "    answers = pickle.load(f)\n",
    "\n",
    "vocab_path = '../../dotCuda/notebook/vocab.pkl'\n",
    "with open(vocab_path, 'rb') as f:\n",
    "    vocab = pickle.load(f)\n",
    "    \n",
    "# val2014\n",
    "answers_path = '/home/ubuntu/dotCuda/notebook/valanswers.pkl'\n",
    "with open(answers_path, 'rb') as f:\n",
    "    valanswers = pickle.load(f)\n",
    "\n",
    "vocab_path = '../../dotCuda/notebook/valvocab.pkl'\n",
    "with open(vocab_path, 'rb') as f:\n",
    "    valvocab = pickle.load(f)"
   ]
  },
  {
   "cell_type": "code",
   "execution_count": 3,
   "metadata": {
    "ExecuteTime": {
     "end_time": "2018-07-12T16:51:34.013282Z",
     "start_time": "2018-07-12T16:51:13.184666Z"
    }
   },
   "outputs": [
    {
     "name": "stdout",
     "output_type": "stream",
     "text": [
      "loading VQA annotations and questions into memory...\n",
      "0:00:10.091633\n",
      "creating index...\n",
      "index created!\n",
      "Getting subset of length 150 out of 443757\n",
      "loading VQA annotations and questions into memory...\n",
      "0:00:09.618458\n",
      "creating index...\n",
      "index created!\n",
      "Getting subset of length 150 out of 443757\n"
     ]
    }
   ],
   "source": [
    "from dataset import *\n",
    "\n",
    "train_dataset = COCODataset(vocab=vocab, answers=answers).subset(count=150)\n",
    "val_dataset = COCODataset(vocab=valvocab, answers=valanswers).subset(count=150)"
   ]
  },
  {
   "cell_type": "markdown",
   "metadata": {
    "ExecuteTime": {
     "end_time": "2018-07-10T12:30:16.457121Z",
     "start_time": "2018-07-10T12:30:16.454260Z"
    }
   },
   "source": [
    "### Network Model"
   ]
  },
  {
   "cell_type": "code",
   "execution_count": 4,
   "metadata": {
    "ExecuteTime": {
     "end_time": "2018-07-12T16:53:15.542151Z",
     "start_time": "2018-07-12T16:53:15.536722Z"
    }
   },
   "outputs": [],
   "source": [
    "# import network \n",
    "from network_v6 import *"
   ]
  },
  {
   "cell_type": "code",
   "execution_count": 5,
   "metadata": {
    "ExecuteTime": {
     "end_time": "2018-07-12T16:53:23.773080Z",
     "start_time": "2018-07-12T16:53:18.060904Z"
    }
   },
   "outputs": [],
   "source": [
    "import torch\n",
    "device = torch.device('cuda')\n",
    "\n",
    "vocab_size = len(vocab)\n",
    "model = ConcatNet(vocab_size, with_attention=False).to(device)\n"
   ]
  },
  {
   "cell_type": "markdown",
   "metadata": {},
   "source": [
    "### Trainer Class"
   ]
  },
  {
   "cell_type": "code",
   "execution_count": 6,
   "metadata": {
    "ExecuteTime": {
     "end_time": "2018-07-12T16:54:35.184377Z",
     "start_time": "2018-07-12T16:54:35.029760Z"
    }
   },
   "outputs": [],
   "source": [
    "# import trainer\n",
    "from trainer import VQATrainer\n",
    "\n",
    "trainer = VQATrainer(model, device)"
   ]
  },
  {
   "cell_type": "markdown",
   "metadata": {},
   "source": [
    "### Train! - on frozen resnet"
   ]
  },
  {
   "cell_type": "code",
   "execution_count": 7,
   "metadata": {
    "ExecuteTime": {
     "end_time": "2018-07-12T17:09:53.222120Z",
     "start_time": "2018-07-12T17:02:30.289205Z"
    }
   },
   "outputs": [
    {
     "name": "stdout",
     "output_type": "stream",
     "text": [
      "Epoch 0 of 1\n",
      "  Training...\n",
      "   >> Epoch finished with loss 34.59537 and accuracy 0.007 in 9.5181s\n",
      "  Validating...\n",
      "   >> Epoch finished with loss 49.86931 and accuracy 0.202 in 9.5626s\n"
     ]
    }
   ],
   "source": [
    "trained_model, statistics = trainer.train(train_dataset, val_dataset, save_every=50000, batch_size=128, learnrate=1, shuffle=False, collate_fn=collate, e_break=80000, v_break=10000, epoch=1)"
   ]
  },
  {
   "cell_type": "code",
   "execution_count": 8,
   "metadata": {
    "ExecuteTime": {
     "end_time": "2018-07-12T16:59:23.204148Z",
     "start_time": "2018-07-12T16:55:17.477Z"
    }
   },
   "outputs": [
    {
     "data": {
      "image/png": "[encoded data removed]",
      "text/plain": [
       "<Figure size 432x288 with 2 Axes>"
      ]
     },
     "metadata": {},
     "output_type": "display_data"
    },
    {
     "data": {
      "image/png": "[encoded data removed]",
      "text/plain": [
       "<Figure size 432x288 with 2 Axes>"
      ]
     },
     "metadata": {},
     "output_type": "display_data"
    }
   ],
   "source": [
    "import pickle\n",
    "\n",
    "# with open('stats.st', 'rb') as statfile:\n",
    "#     statistic = pickle.load(statfile)\n",
    "    \n",
    "# #print(statistic)\n",
    "\n",
    "# #trainer.plot_over_epoch()\n",
    "# from trainer import VQATrainer\n",
    "\n",
    "# trainer = VQATrainer(None, None)\n",
    "# trainer.statistics = statistic\n",
    "\n",
    "trainer.plot_over_epoch()"
   ]
  },
  {
   "cell_type": "code",
   "execution_count": 9,
   "metadata": {
    "ExecuteTime": {
     "end_time": "2018-07-12T16:16:27.638069Z",
     "start_time": "2018-07-12T16:16:25.345475Z"
    }
   },
   "outputs": [],
   "source": [
    "# from torchvision import transforms\n",
    "# import matplotlib.pyplot as plt\n",
    "# import random\n",
    "\n",
    "# device = torch.device('cuda')\n",
    "# vocab_size = len(vocab)\n",
    "# model = ConcatNet(vocab_size, with_attention=False).to(device)\n",
    "\n",
    "# state_dict = torch.load('model_epoch0.pt')\n",
    "# model.load_state_dict(state_dict)\n",
    "    "
   ]
  },
  {
   "cell_type": "code",
   "execution_count": 10,
   "metadata": {
    "ExecuteTime": {
     "end_time": "2018-07-12T17:10:22.624453Z",
     "start_time": "2018-07-12T17:10:21.907974Z"
    }
   },
   "outputs": [
    {
     "name": "stdout",
     "output_type": "stream",
     "text": [
      "\n",
      "qn no 135801\n"
     ]
    },
    {
     "ename": "IndexError",
     "evalue": "list index out of range",
     "output_type": "error",
     "traceback": [
      "\u001b[0;31m---------------------------------------------------------------------------\u001b[0m",
      "\u001b[0;31mIndexError\u001b[0m                                Traceback (most recent call last)",
      "\u001b[0;32m<ipython-input-10-1835c7f0ca60>\u001b[0m in \u001b[0;36m<module>\u001b[0;34m()\u001b[0m\n\u001b[1;32m      3\u001b[0m \u001b[0;32mfor\u001b[0m \u001b[0midx\u001b[0m \u001b[0;32min\u001b[0m \u001b[0;34m[\u001b[0m\u001b[0mrandom\u001b[0m\u001b[0;34m.\u001b[0m\u001b[0mrandint\u001b[0m\u001b[0;34m(\u001b[0m\u001b[0;36m0\u001b[0m\u001b[0;34m,\u001b[0m \u001b[0;36m4e5\u001b[0m\u001b[0;34m)\u001b[0m \u001b[0;32mfor\u001b[0m \u001b[0mi\u001b[0m \u001b[0;32min\u001b[0m \u001b[0mrange\u001b[0m\u001b[0;34m(\u001b[0m\u001b[0;36m8\u001b[0m\u001b[0;34m)\u001b[0m\u001b[0;34m]\u001b[0m\u001b[0;34m:\u001b[0m\u001b[0;34m\u001b[0m\u001b[0m\n\u001b[1;32m      4\u001b[0m     \u001b[0mprint\u001b[0m\u001b[0;34m(\u001b[0m\u001b[0;34m'\\nqn no'\u001b[0m\u001b[0;34m,\u001b[0m \u001b[0midx\u001b[0m\u001b[0;34m)\u001b[0m\u001b[0;34m\u001b[0m\u001b[0m\n\u001b[0;32m----> 5\u001b[0;31m     \u001b[0mqns\u001b[0m\u001b[0;34m,\u001b[0m \u001b[0mimg\u001b[0m\u001b[0;34m,\u001b[0m \u001b[0mans\u001b[0m \u001b[0;34m=\u001b[0m \u001b[0mcollate\u001b[0m\u001b[0;34m(\u001b[0m\u001b[0;34m[\u001b[0m\u001b[0mtrain_dataset\u001b[0m\u001b[0;34m[\u001b[0m\u001b[0midx\u001b[0m\u001b[0;34m]\u001b[0m\u001b[0;34m]\u001b[0m\u001b[0;34m)\u001b[0m\u001b[0;34m\u001b[0m\u001b[0m\n\u001b[0m\u001b[1;32m      6\u001b[0m     \u001b[0mprint\u001b[0m\u001b[0;34m(\u001b[0m\u001b[0mans\u001b[0m\u001b[0;34m)\u001b[0m\u001b[0;34m\u001b[0m\u001b[0m\n\u001b[1;32m      7\u001b[0m     \u001b[0moutput\u001b[0m \u001b[0;34m=\u001b[0m \u001b[0mmodel\u001b[0m\u001b[0;34m(\u001b[0m\u001b[0mimg\u001b[0m\u001b[0;34m.\u001b[0m\u001b[0mcuda\u001b[0m\u001b[0;34m(\u001b[0m\u001b[0;34m)\u001b[0m\u001b[0;34m,\u001b[0m \u001b[0mqns\u001b[0m\u001b[0;34m.\u001b[0m\u001b[0mlong\u001b[0m\u001b[0;34m(\u001b[0m\u001b[0;34m)\u001b[0m\u001b[0;34m.\u001b[0m\u001b[0mcuda\u001b[0m\u001b[0;34m(\u001b[0m\u001b[0;34m)\u001b[0m\u001b[0;34m)\u001b[0m\u001b[0;34m\u001b[0m\u001b[0m\n",
      "\u001b[0;32m~/dotCuda/notebook/dataset.py\u001b[0m in \u001b[0;36m__getitem__\u001b[0;34m(self, index)\u001b[0m\n\u001b[1;32m     42\u001b[0m         \"\"\"\n\u001b[1;32m     43\u001b[0m \u001b[0;34m\u001b[0m\u001b[0m\n\u001b[0;32m---> 44\u001b[0;31m         \u001b[0mquesId\u001b[0m \u001b[0;34m=\u001b[0m \u001b[0mself\u001b[0m\u001b[0;34m.\u001b[0m\u001b[0mquesIds\u001b[0m\u001b[0;34m[\u001b[0m\u001b[0mindex\u001b[0m\u001b[0;34m]\u001b[0m\u001b[0;34m\u001b[0m\u001b[0m\n\u001b[0m\u001b[1;32m     45\u001b[0m \u001b[0;34m\u001b[0m\u001b[0m\n\u001b[1;32m     46\u001b[0m         \u001b[0mimg_id\u001b[0m \u001b[0;34m=\u001b[0m \u001b[0mself\u001b[0m\u001b[0;34m.\u001b[0m\u001b[0mvqa\u001b[0m\u001b[0;34m.\u001b[0m\u001b[0mqqa\u001b[0m\u001b[0;34m[\u001b[0m\u001b[0mquesId\u001b[0m\u001b[0;34m]\u001b[0m\u001b[0;34m[\u001b[0m\u001b[0;34m'image_id'\u001b[0m\u001b[0;34m]\u001b[0m\u001b[0;34m\u001b[0m\u001b[0m\n",
      "\u001b[0;31mIndexError\u001b[0m: list index out of range"
     ]
    }
   ],
   "source": [
    "import random\n",
    "\n",
    "for idx in [random.randint(0, 4e5) for i in range(8)]:\n",
    "    print('\\nqn no', idx)\n",
    "    qns, img, ans = collate([train_dataset[idx]])\n",
    "    print(ans)\n",
    "    output = model(img.cuda(), qns.long().cuda())\n",
    "    _, pred = output.topk(10)\n",
    "    # print(qns, pred)\n",
    "\n",
    "    #pil_img = transforms.ToPILImage()(img)\n",
    "    #plt.imshow(pil_img)\n",
    "    qnss = ' '.join([vocab.idx2word[i.item()] for i in qns.data])\n",
    "    ans_ = ' / '.join([answers.idx2ans[j.item()] for j in pred[0]])\n",
    "    lbl = ' - '.join([answers.idx2ans[k.item()] for k in ans[0]])\n",
    "    print('question:', qnss)\n",
    "    print('answer:', ans_)\n",
    "    print('label:', lbl)\n",
    "    ans = ans.cuda()\n",
    "    print('accuracy', trainer.accuracy_fn(output.detach(), ans))\n",
    "    print('loss', trainer.get_losses(output, ans))"
   ]
  },
  {
   "cell_type": "markdown",
   "metadata": {
    "collapsed": true
   },
   "source": [
    "### Train - on unfrozen resnet"
   ]
  },
  {
   "cell_type": "code",
   "execution_count": null,
   "metadata": {},
   "outputs": [],
   "source": [
    "trainer.plot_over_epoch()"
   ]
  },
  {
   "cell_type": "code",
   "execution_count": null,
   "metadata": {},
   "outputs": [],
   "source": [
    "import random\n",
    "\n",
    "for idx in range(8):#[random.randint(0, 8) for i in range(8)]:\n",
    "    print('\\nqn no', idx)\n",
    "    qns, img, ans = collate([train_dataset[idx]])\n",
    "    output = model(img.cuda(), qns.long().cuda())\n",
    "    _, pred = output.topk(10)\n",
    "    # print(qns, pred)\n",
    "\n",
    "    #pil_img = transforms.ToPILImage()(img)\n",
    "    #plt.imshow(pil_img)\n",
    "    qnss = ' '.join([vocab.idx2word[i.item()] for i in qns.data])\n",
    "    ans_ = ' / '.join([answers.idx2ans[j.item()] for j in pred[0]])\n",
    "    lbl = ' - '.join([answers.idx2ans[k.item()] for k in ans[0]])\n",
    "    print('question:', qnss)\n",
    "    print('answer:', ans_)\n",
    "    print('label:', lbl)\n",
    "    ans = [a.cuda() for a in ans]\n",
    "    print('accuracy', trainer.accuracy_fn(output.detach(), ans))\n",
    "    print('loss', trainer.get_losses(output, ans))"
   ]
  },
  {
   "cell_type": "code",
   "execution_count": null,
   "metadata": {},
   "outputs": [],
   "source": []
  }
 ],
 "metadata": {
  "kernelspec": {
   "display_name": "Python 3",
   "language": "python",
   "name": "python3"
  },
  "language_info": {
   "codemirror_mode": {
    "name": "ipython",
    "version": 3
   },
   "file_extension": ".py",
   "mimetype": "text/x-python",
   "name": "python",
   "nbconvert_exporter": "python",
   "pygments_lexer": "ipython3",
   "version": "3.5.2"
  },
  "toc": {
   "base_numbering": 1,
   "nav_menu": {},
   "number_sections": false,
   "sideBar": true,
   "skip_h1_title": false,
   "title_cell": "Table of Contents",
   "title_sidebar": "Contents",
   "toc_cell": false,
   "toc_position": {},
   "toc_section_display": true,
   "toc_window_display": false
  },
  "varInspector": {
   "cols": {
    "lenName": 16,
    "lenType": 16,
    "lenVar": 40
   },
   "kernels_config": {
    "python": {
     "delete_cmd_postfix": "",
     "delete_cmd_prefix": "del ",
     "library": "var_list.py",
     "varRefreshCmd": "print(var_dic_list())"
    },
    "r": {
     "delete_cmd_postfix": ") ",
     "delete_cmd_prefix": "rm(",
     "library": "var_list.r",
     "varRefreshCmd": "cat(var_dic_list()) "
    }
   },
   "types_to_exclude": [
    "module",
    "function",
    "builtin_function_or_method",
    "instance",
    "_Feature"
   ],
   "window_display": false
  }
 },
 "nbformat": 4,
 "nbformat_minor": 2
}
